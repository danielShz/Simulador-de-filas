{
  "nbformat": 4,
  "nbformat_minor": 0,
  "metadata": {
    "colab": {
      "provenance": [],
      "toc_visible": true,
      "collapsed_sections": [
        "V1WFAauet2gf",
        "dS_vinmTsi5w",
        "A3QELIddstEk",
        "lRizYqL0tE1L",
        "CSA4KaZJ4nOq",
        "FecM57MS-2ur"
      ]
    },
    "kernelspec": {
      "name": "python3",
      "display_name": "Python 3"
    },
    "language_info": {
      "name": "python"
    }
  },
  "cells": [
    {
      "cell_type": "markdown",
      "source": [
        "# Simuladores de fila\n",
        "## Modelagem e Avaliação de Desempenho (MAD)\n",
        "## Grupo\n",
        "\n",
        "- Ana Carolina Ferreira de Figueiredo\n",
        "- Andrew Faria\n",
        "- Daniel Arruda Ponte\n",
        "- Paulo Yamagishi"
      ],
      "metadata": {
        "id": "qepFsi8qxf1U"
      }
    },
    {
      "cell_type": "markdown",
      "source": [
        "## Imports e Constantes"
      ],
      "metadata": {
        "id": "V1WFAauet2gf"
      }
    },
    {
      "cell_type": "code",
      "source": [
        "import numpy as np\n",
        "import heapq\n",
        "import scipy\n",
        "import pandas as pd\n",
        "import plotly.express as px\n",
        "\n",
        "CHEGADA = 0\n",
        "SERVICO = 1"
      ],
      "metadata": {
        "id": "DN5l0f27uogX"
      },
      "execution_count": 24,
      "outputs": []
    },
    {
      "cell_type": "markdown",
      "source": [
        "## Implementação\n",
        "\n",
        "\n"
      ],
      "metadata": {
        "id": "wZzyUpsJ0G6U"
      }
    },
    {
      "cell_type": "markdown",
      "source": [
        "### Simulador 1 (M/M/1)"
      ],
      "metadata": {
        "id": "-nNAhS7dsV_W"
      }
    },
    {
      "cell_type": "code",
      "execution_count": 25,
      "metadata": {
        "id": "mRxg5y3Ss4xU"
      },
      "outputs": [],
      "source": [
        "def simulador1(taxa_chegada, taxa_servico, servico_limite):\n",
        "  clientes = 0  # Clientes na fila\n",
        "  tempo_atual = 0\n",
        "  numero_servicos = 0\n",
        "  eventos_log = []\n",
        "  rng = np.random.default_rng()\n",
        "\n",
        "  while numero_servicos <= servico_limite:\n",
        "    tprox_chegada = rng.exponential(1/taxa_chegada)\n",
        "    tprox_servico = rng.exponential(1/taxa_servico)\n",
        "\n",
        "    if clientes == 0 or tprox_chegada < tprox_servico:\n",
        "      tempo_atual += tprox_chegada\n",
        "      clientes += 1\n",
        "      eventos_log.append((tempo_atual, CHEGADA, clientes))\n",
        "    else:\n",
        "      tempo_atual += tprox_servico\n",
        "      numero_servicos += 1\n",
        "      clientes -= 1\n",
        "      eventos_log.append((tempo_atual, SERVICO, clientes))\n",
        "\n",
        "  return eventos_log"
      ]
    },
    {
      "cell_type": "markdown",
      "source": [
        "### Simulador 2 (M/M/1)"
      ],
      "metadata": {
        "id": "nRgm-Te5sZ9a"
      }
    },
    {
      "cell_type": "code",
      "source": [
        "def simulador2(taxa_chegada, taxa_servico, servico_limite):\n",
        "   tempo_atual = 0\n",
        "   clientes = 0\n",
        "   numero_servicos = 0\n",
        "   eventos_log = []\n",
        "\n",
        "   rng = np.random.default_rng()\n",
        "\n",
        "   lista_de_eventos = [(rng.exponential(1/taxa_chegada), CHEGADA)]\n",
        " \n",
        "   while numero_servicos < servico_limite:  # Tempo em que a simulação ocorre\n",
        "    tempo_evento, tipo_evento = heapq.heappop(lista_de_eventos) # Pego o evento de maior prioridade (próximo evento de acordo com o tempo)\n",
        "    \n",
        "    if tipo_evento == CHEGADA:\n",
        "      tempo_atual = tempo_evento # Mudo o tempo atual para o tempo do próximo evento\n",
        "      clientes += 1\n",
        "      eventos_log.append((tempo_atual, CHEGADA, clientes))  \n",
        "      tempo_chegada = rng.exponential(1/taxa_chegada) + tempo_atual # Calculando o tempo da próxima chegada\n",
        "      heapq.heappush(lista_de_eventos, (tempo_chegada, CHEGADA))  # Coloco na fila de prioridade o próximo evento de chegada\n",
        "\n",
        "      if clientes == 1: # Agendar o próximo serviço quando resta apenas uma pessoa na fila\n",
        "        tempo_servico = rng.exponential(1/taxa_servico) + tempo_atual\n",
        "        heapq.heappush(lista_de_eventos, (tempo_servico, SERVICO))\n",
        "    \n",
        "    elif tipo_evento == SERVICO:\n",
        "      tempo_atual = tempo_evento # Mudo o tempo atual para o tempo do próximo evento\n",
        "      clientes -= 1\n",
        "      eventos_log.append((tempo_atual, SERVICO, clientes))\n",
        "      numero_servicos += 1\n",
        "\n",
        "      if clientes > 0: # Agendar o próximo atendimento\n",
        "        tempo_servico = rng.exponential(1/taxa_servico) + tempo_atual\n",
        "        heapq.heappush(lista_de_eventos, (tempo_servico, SERVICO))\n",
        "   \n",
        "   return eventos_log"
      ],
      "metadata": {
        "id": "0Cq-QUFllo4a"
      },
      "execution_count": 26,
      "outputs": []
    },
    {
      "cell_type": "markdown",
      "source": [
        "### Simulador 1 (M/G/1 - Serviços Determinísticos)"
      ],
      "metadata": {
        "id": "_r6Gl_wPsb9Z"
      }
    },
    {
      "cell_type": "code",
      "source": [
        "def simulador1_deterministico(taxa_chegada, taxa_servico, servico_limite):\n",
        "  clientes = 0  # Clientes na fila\n",
        "  tempo_atual = 0\n",
        "  numero_servicos = 0\n",
        "  eventos_log = []\n",
        "  rng = np.random.default_rng()\n",
        "\n",
        "  while numero_servicos <= servico_limite:\n",
        "    tprox_chegada = rng.exponential(1/taxa_chegada)\n",
        "    tprox_servico = 1/taxa_servico\n",
        "\n",
        "    if clientes == 0 or tprox_chegada < tprox_servico:\n",
        "      tempo_atual += tprox_chegada\n",
        "      clientes += 1\n",
        "      eventos_log.append((tempo_atual, CHEGADA, clientes))\n",
        "    else:\n",
        "      tempo_atual += tprox_servico\n",
        "      numero_servicos += 1\n",
        "      clientes -= 1\n",
        "      eventos_log.append((tempo_atual, SERVICO, clientes))\n",
        "\n",
        "  return eventos_log"
      ],
      "metadata": {
        "id": "EdZ3oeH4uNUI"
      },
      "execution_count": 27,
      "outputs": []
    },
    {
      "cell_type": "markdown",
      "source": [
        "### Simulador 2 (M/G/1 - Serviços Determinísticos)"
      ],
      "metadata": {
        "id": "9h8WFy4Sub4w"
      }
    },
    {
      "cell_type": "code",
      "source": [
        "def simulador2_deterministico(taxa_chegada, taxa_servico, servico_limite):\n",
        "   tempo_atual = 0\n",
        "   clientes = 0\n",
        "   numero_servicos = 0\n",
        "   eventos_log = []\n",
        "\n",
        "   rng = np.random.default_rng()\n",
        "\n",
        "   lista_de_eventos = [(rng.exponential(1/taxa_chegada), CHEGADA)]\n",
        " \n",
        "   while numero_servicos < servico_limite:  # Tempo em que a simulação ocorre\n",
        "    tempo_evento, tipo_evento = heapq.heappop(lista_de_eventos) # Pego o evento de maior prioridade (próximo evento de acordo com o tempo)\n",
        "    \n",
        "    if tipo_evento == CHEGADA:\n",
        "      tempo_atual = tempo_evento # Mudo o tempo atual para o tempo do próximo evento\n",
        "      clientes += 1\n",
        "      eventos_log.append((tempo_atual, CHEGADA, clientes))  \n",
        "      tempo_chegada = rng.exponential(1/taxa_chegada) + tempo_atual # Calculando o tempo da próxima chegada\n",
        "      heapq.heappush(lista_de_eventos, (tempo_chegada, CHEGADA))  # Coloco na fila de prioridade o próximo evento de chegada\n",
        "\n",
        "      if clientes == 1: # Agendar o próximo serviço quando resta apenas uma pessoa na fila\n",
        "        tempo_servico = 1/taxa_servico + tempo_atual\n",
        "        heapq.heappush(lista_de_eventos, (tempo_servico, SERVICO))\n",
        "    \n",
        "    elif tipo_evento == SERVICO:\n",
        "      tempo_atual = tempo_evento # Mudo o tempo atual para o tempo do próximo evento\n",
        "      clientes -= 1\n",
        "      eventos_log.append((tempo_atual, SERVICO, clientes))\n",
        "      numero_servicos += 1\n",
        "\n",
        "      if clientes: # Agendar o próximo atendimento\n",
        "        tempo_servico = 1/taxa_servico + tempo_atual\n",
        "        heapq.heappush(lista_de_eventos, (tempo_servico, SERVICO))\n",
        "   \n",
        "   return eventos_log"
      ],
      "metadata": {
        "id": "KFXccrecjGZG"
      },
      "execution_count": 28,
      "outputs": []
    },
    {
      "cell_type": "markdown",
      "source": [
        "### Métricas de Interesse"
      ],
      "metadata": {
        "id": "dS_vinmTsi5w"
      }
    },
    {
      "cell_type": "code",
      "source": [
        "def calcular_tempo_espera(eventos_log):\n",
        "  chegadas = []\n",
        "  tempo_espera = []\n",
        "\n",
        "  for tempo_evento, tipo_evento, _ in eventos_log:\n",
        "    if tipo_evento == CHEGADA:\n",
        "      heapq.heappush(chegadas, tempo_evento)\n",
        "    else:\n",
        "      tempo_espera.append(tempo_evento - heapq.heappop(chegadas))\n",
        "\n",
        "  return tempo_espera"
      ],
      "metadata": {
        "id": "hU0icKC5RuND"
      },
      "execution_count": 29,
      "outputs": []
    },
    {
      "cell_type": "code",
      "source": [
        "def calcular_tempo_medio(eventos_log):\n",
        "  return np.mean(calcular_tempo_espera(eventos_log)) "
      ],
      "metadata": {
        "id": "b-5nIhqkOj7T"
      },
      "execution_count": 30,
      "outputs": []
    },
    {
      "cell_type": "code",
      "source": [
        "def calcular_media_clientes(eventos_log):\n",
        "  soma_clientes = 0\n",
        "  \n",
        "  for i in range(len(eventos_log)-1):\n",
        "    soma_clientes += (eventos_log[i+1][0] - eventos_log[i][0]) * eventos_log[i][2]\n",
        "\n",
        "  return soma_clientes / eventos_log[-1][0]"
      ],
      "metadata": {
        "id": "qTYiDJ0iQ1Eg"
      },
      "execution_count": 31,
      "outputs": []
    },
    {
      "cell_type": "markdown",
      "source": [
        "### Testes"
      ],
      "metadata": {
        "id": "A3QELIddstEk"
      }
    },
    {
      "cell_type": "code",
      "source": [
        "# Teste Simulador 1\n",
        "lista = simulador1(1, 2, 100000)\n",
        "print(calcular_tempo_medio(lista))\n",
        "print(calcular_media_clientes(lista))"
      ],
      "metadata": {
        "colab": {
          "base_uri": "https://localhost:8080/"
        },
        "id": "7PJMFfWwTIAL",
        "outputId": "8dd3def6-68a0-4ce1-950b-045c85687710"
      },
      "execution_count": 32,
      "outputs": [
        {
          "output_type": "stream",
          "name": "stdout",
          "text": [
            "1.0065229659390336\n",
            "1.0100286526486053\n"
          ]
        }
      ]
    },
    {
      "cell_type": "code",
      "source": [
        "# Teste Simulador 2\n",
        "lista = simulador2(1, 2, 1000)\n",
        "print(calcular_tempo_medio(lista))\n",
        "print(calcular_media_clientes(lista))"
      ],
      "metadata": {
        "colab": {
          "base_uri": "https://localhost:8080/"
        },
        "id": "5tJCPNRBQMDA",
        "outputId": "ff777061-d096-4ac9-cfb1-c31a4c0bdf70"
      },
      "execution_count": 33,
      "outputs": [
        {
          "output_type": "stream",
          "name": "stdout",
          "text": [
            "0.8293366211771199\n",
            "0.8124735371240173\n"
          ]
        }
      ]
    },
    {
      "cell_type": "code",
      "source": [
        "# Teste Simulador 2 (Serviços determinísticos)\n",
        "lista = simulador2_deterministico(1, 2, 1000)\n",
        "print(calcular_tempo_medio(lista))\n",
        "print(calcular_media_clientes(lista))"
      ],
      "metadata": {
        "colab": {
          "base_uri": "https://localhost:8080/"
        },
        "id": "9OkigAy6jZjP",
        "outputId": "6347edf9-fe9c-401d-c689-54fc8114a9cf"
      },
      "execution_count": 34,
      "outputs": [
        {
          "output_type": "stream",
          "name": "stdout",
          "text": [
            "0.7302640757900613\n",
            "0.7133788065872895\n"
          ]
        }
      ]
    },
    {
      "cell_type": "markdown",
      "source": [
        "### Diversas Simulações"
      ],
      "metadata": {
        "id": "lRizYqL0tE1L"
      }
    },
    {
      "cell_type": "code",
      "source": [
        "def n_simulacoes(n, taxa_chegada, taxa_servico, servico_limite, simulador):\n",
        "  tempos_medios = []\n",
        "  medias_clientes = []\n",
        "\n",
        "  for i in range(n):\n",
        "    lista_eventos = simulador(taxa_chegada, taxa_servico, servico_limite)\n",
        "\n",
        "    tempos_medios.append(calcular_tempo_medio(lista_eventos))\n",
        "    medias_clientes.append(calcular_media_clientes(lista_eventos))\n",
        "\n",
        "  return tempos_medios, medias_clientes"
      ],
      "metadata": {
        "id": "FPVJ3_ZyzucX"
      },
      "execution_count": 35,
      "outputs": []
    },
    {
      "cell_type": "markdown",
      "source": [
        "### Intervalo de Confiança"
      ],
      "metadata": {
        "id": "up7NXpAXtYpa"
      }
    },
    {
      "cell_type": "code",
      "source": [
        "def intervalo_confianca(lista):\n",
        "  desvio_padrao = np.std(lista)\n",
        "  conf_int = scipy.stats.norm.interval(0.95, loc= np.mean(lista), scale=desvio_padrao)\n",
        "\n",
        "  return conf_int"
      ],
      "metadata": {
        "id": "AxTPUiZImnSw"
      },
      "execution_count": 36,
      "outputs": []
    },
    {
      "cell_type": "code",
      "source": [
        "t_medio, m_clientes = n_simulacoes(300, 1, 2, 1000, simulador1)"
      ],
      "metadata": {
        "id": "VytQ4XIl9gU5"
      },
      "execution_count": 37,
      "outputs": []
    },
    {
      "cell_type": "code",
      "source": [
        "print(intervalo_confianca(t_medio))\n",
        "print(intervalo_confianca(m_clientes))"
      ],
      "metadata": {
        "colab": {
          "base_uri": "https://localhost:8080/"
        },
        "id": "TXaWTaWcl3Ns",
        "outputId": "2352256b-c8f8-4b0a-a8f4-0682e678c95b"
      },
      "execution_count": 38,
      "outputs": [
        {
          "output_type": "stream",
          "name": "stdout",
          "text": [
            "(0.8097865696694198, 1.1703329886585863)\n",
            "(0.7778954970033235, 1.2005352049619444)\n"
          ]
        }
      ]
    },
    {
      "cell_type": "markdown",
      "source": [
        "## Gráficos e métricas de interesse"
      ],
      "metadata": {
        "id": "atV0mmEtuj5C"
      }
    },
    {
      "cell_type": "code",
      "source": [
        "def plotar_histograma(data, label):\n",
        "  x = [x for x in range(len(data))]\n",
        "\n",
        "  d = { 'x': x, label: data }\n",
        "  d = dict(sorted(d.items(), key=lambda x : x[1]))\n",
        "\n",
        "  df = pd.DataFrame(data=d)\n",
        "  fig = px.histogram(df, x=label).show()"
      ],
      "metadata": {
        "id": "Hw0L6yLBAacp"
      },
      "execution_count": 39,
      "outputs": []
    },
    {
      "cell_type": "markdown",
      "source": [
        "### Cenário 1\n",
        "$λ=1$ e $μ=2$"
      ],
      "metadata": {
        "id": "NULg3B8GvU1l"
      }
    },
    {
      "cell_type": "markdown",
      "source": [
        "#### Simulador 1"
      ],
      "metadata": {
        "id": "boHja986vdGa"
      }
    },
    {
      "cell_type": "code",
      "source": [
        "tempo_espera, clientes_sistema = n_simulacoes(300, 1, 2, 1000, simulador1)"
      ],
      "metadata": {
        "id": "blO1KIEd4wbm"
      },
      "execution_count": 40,
      "outputs": []
    },
    {
      "cell_type": "markdown",
      "source": [
        "##### Tempo de espera\n",
        "\n"
      ],
      "metadata": {
        "id": "CSA4KaZJ4nOq"
      }
    },
    {
      "cell_type": "code",
      "source": [
        "print(f'Intervalo de confiança: {intervalo_confianca(tempo_espera)}')\n",
        "print(f'Média: {np.mean(tempo_espera)}\\n')\n",
        "\n",
        "plotar_histograma(tempo_espera, 'Tempo de espera')"
      ],
      "metadata": {
        "colab": {
          "base_uri": "https://localhost:8080/",
          "height": 0
        },
        "id": "TluOVSjSy7vT",
        "outputId": "9a3a32a1-fbb9-4a2d-a7a5-796b66e4326c"
      },
      "execution_count": 41,
      "outputs": [
        {
          "output_type": "stream",
          "name": "stdout",
          "text": [
            "Intervalo de confiança: (0.8177237645936763, 1.1832538151093512)\n",
            "Média: 1.0004887898515138\n",
            "\n"
          ]
        },
        {
          "output_type": "display_data",
          "data": {
            "text/html": [
              "<html>\n",
              "<head><meta charset=\"utf-8\" /></head>\n",
              "<body>\n",
              "    <div>            <script src=\"https://cdnjs.cloudflare.com/ajax/libs/mathjax/2.7.5/MathJax.js?config=TeX-AMS-MML_SVG\"></script><script type=\"text/javascript\">if (window.MathJax && window.MathJax.Hub && window.MathJax.Hub.Config) {window.MathJax.Hub.Config({SVG: {font: \"STIX-Web\"}});}</script>                <script type=\"text/javascript\">window.PlotlyConfig = {MathJaxConfig: 'local'};</script>\n",
              "        <script src=\"https://cdn.plot.ly/plotly-2.18.2.min.js\"></script>                <div id=\"aaaf8526-be1e-4eb4-8983-1c1e5336552a\" class=\"plotly-graph-div\" style=\"height:525px; width:100%;\"></div>            <script type=\"text/javascript\">                                    window.PLOTLYENV=window.PLOTLYENV || {};                                    if (document.getElementById(\"aaaf8526-be1e-4eb4-8983-1c1e5336552a\")) {                    Plotly.newPlot(                        \"aaaf8526-be1e-4eb4-8983-1c1e5336552a\",                        [{\"alignmentgroup\":\"True\",\"bingroup\":\"x\",\"hovertemplate\":\"Tempo de espera=%{x}<br>count=%{y}<extra></extra>\",\"legendgroup\":\"\",\"marker\":{\"color\":\"#636efa\",\"pattern\":{\"shape\":\"\"}},\"name\":\"\",\"offsetgroup\":\"\",\"orientation\":\"v\",\"showlegend\":false,\"x\":[0.9839675947246767,1.0313857809998765,0.9113111473014309,0.9944196660376657,1.024431110764911,0.9453683892892079,0.9993672750117946,1.0871019724575368,1.0304721517435684,0.8641926153294882,1.0573148958133418,0.8720515281666334,1.0001289057566964,0.9537591206374652,0.8892538448360586,1.0857892745047646,1.090532971817706,0.8772000117103125,0.8221570651005591,1.194819643800371,1.0496853689890808,1.0500348268778612,0.8979626519290952,1.0707166071698806,1.0226835124948452,1.0000832963952593,0.9806252204340774,1.1607675435735234,1.0188843101649152,0.992026351311332,1.025399938539687,1.0391235007351056,0.8545842633643173,0.9120299545544096,1.0831474224306383,1.019747455760018,1.152408311974318,1.1320793898043884,1.0876549941721452,0.9736846436202424,1.143825020391593,1.1684326923787471,0.8904037766994927,1.0208370521831696,1.0155059746701147,0.9380647726339688,0.9196185718414175,0.9805481306685032,1.19236232866198,1.0073354891255273,0.9516168775464502,1.0230732064333148,1.1881818725421351,0.9512930764904288,1.0990338133027473,0.9505490158925938,0.9343984782193493,0.8663970106929135,1.0281445057039513,0.99650073596178,1.0156546964860358,0.8714256639426087,0.8821156077310431,1.1057676560386107,0.9972399600514664,0.9479752509104847,0.9540319027232279,0.8864722978447355,0.9027016508156082,1.0399666578104156,1.051433218760524,0.9390111678598065,0.9484818359928187,0.8069872699028907,1.0051063136806608,1.0659643745240732,0.8876535786221871,1.0213975421509338,0.8661719762253344,0.9177034272488428,1.081145604038238,1.0810121517350373,1.0096534918425444,0.881907399007551,1.0491038409220348,0.8949402465847743,0.9958871622019623,1.092327488088096,0.9852737401510931,0.9324796733142136,0.9389424955316419,0.894590890456302,0.9067568337868701,1.0313852310530645,1.1465496724911652,0.9704663314741159,0.968151777926453,1.245381619755257,0.9171339272620328,0.905402146301605,1.078696714979029,1.071674314869179,0.9947259726310083,0.8605754732564145,0.9351808453589616,1.1093399739052985,0.9607961768282568,0.9701387161606696,1.0394719779878134,0.8138526704139677,0.888772483408615,0.9027224346385959,1.109693771294704,1.1281507845405554,0.9104393176590285,0.9133513798722475,0.9876072690948436,1.0320114966656584,0.8778659281075346,1.022425380219845,1.1293701968950187,1.0047617665009316,0.9914694739819768,0.9261231693513198,0.977580403814661,1.0162269204610275,0.9503701456384416,1.0044512515728758,0.9765632710094475,0.9098734705317244,0.9037388536483325,0.8181226803664244,0.9912190075923473,1.0734920921836406,0.9692849728586451,0.9653000539726587,1.154411724714157,1.056193319308493,1.005274230300852,0.9687967163652785,1.0386899314247187,0.8244382404077752,0.9162760962095206,1.110917411124163,1.2246791671300465,0.942364827994319,1.021301186996184,0.9256584445462022,0.9798490390895688,1.098045293677319,1.0686213921329488,0.9092639744325453,0.8292998276101905,0.9878184133689203,1.1600095742914338,0.9477136101582393,0.9433395668333703,0.9058667777122213,0.9920807704670964,1.1425443457432412,1.0080443390564584,1.2304512121517606,0.8489505837200068,0.9971047741277935,0.9040027722183562,1.1680509016869383,1.0246801820056912,0.9844417469967159,0.9573562458306706,1.0860640304896405,1.178453480220835,0.9664232374539783,0.9185569650755656,1.0997925184844606,0.9352282657169161,0.8636228968360812,0.9864849185422846,1.0820453718150118,1.017431663179619,1.0643080651524162,1.0466473532138787,0.8988598721695464,0.9561399109770801,1.0820156042743434,0.8991311294506356,1.0117510051353944,1.1611773055245074,0.9351224012019347,1.0923173327972966,1.2559018864556566,1.0165537297719844,0.9415268959976163,1.176777216772659,0.9149823125578539,0.8965772298087087,1.0547385342298188,0.9838503661132929,0.9040891110918836,1.0626337104598012,0.9201343655838721,1.0071213294774086,0.9117348423877549,1.0241869014698097,1.1131907185817758,0.9507207601262909,1.036342302306224,1.1986805534438136,1.0674806591173092,1.1033425918822275,0.8368092426178861,0.9019546034095739,1.0386554487986814,1.0101635552771535,1.1728368887567715,0.9783688143087013,0.9869298885255259,1.0464343452682623,0.9392418523258403,0.8925803288029384,1.1484349105174414,1.2212589818077408,1.0355238113676388,1.0147567261043997,1.1771794280704244,1.0858389072633157,1.0570860227756498,0.8372921830311507,0.9628691012345513,1.119875638217117,0.9824094033985328,1.097029221569509,0.9458616473644603,0.8709123690209747,1.0372309620206477,1.0114536417607631,1.0730430036365937,0.9512403361878151,0.9848314883119619,1.0322295248432176,1.106776534843261,0.9102748534673669,1.0632150679552965,1.0856729298243213,1.0285991357767132,0.9926691525458218,0.8598544566582332,0.928640319942499,1.0045395719030412,0.9590493571295252,1.0233409967596336,0.8785148188143097,0.9904604174745356,0.9078442616052753,1.2752531142023975,0.8911113079914612,0.9954363076906052,0.990946310366733,0.9308417358411868,1.0405310418168598,0.8556300440547563,1.1569299300496703,0.9619069767610793,1.1289363080303534,0.9611373083367714,0.9750195846741514,1.0166172360026957,1.093225241985129,1.067432495194869,1.0259658915789156,0.9893805374154717,1.0114856014754794,1.0286767362828604,1.2078308818070815,0.8839559227171515,0.9394530228432167,1.0757290184867663,0.9801579677604656,0.8685793530001678,0.9608923155453332,1.0323282003757388,0.9829983320323324,0.9305587321841852,0.9380835213132168,0.9174493745066851,0.9611072280910774,1.2576509450082958,0.872446535340541,1.0161298536006165,1.02070796283686,0.9362817995784684,1.1283443166230667,0.9740305898378263,0.9084800565969747,0.969807335018413,0.9906369018866606,0.9505027519991192,1.0208449067205823,0.92009018332226,1.08726442044778,0.9676991620888921],\"xaxis\":\"x\",\"yaxis\":\"y\",\"type\":\"histogram\"}],                        {\"template\":{\"data\":{\"histogram2dcontour\":[{\"type\":\"histogram2dcontour\",\"colorbar\":{\"outlinewidth\":0,\"ticks\":\"\"},\"colorscale\":[[0.0,\"#0d0887\"],[0.1111111111111111,\"#46039f\"],[0.2222222222222222,\"#7201a8\"],[0.3333333333333333,\"#9c179e\"],[0.4444444444444444,\"#bd3786\"],[0.5555555555555556,\"#d8576b\"],[0.6666666666666666,\"#ed7953\"],[0.7777777777777778,\"#fb9f3a\"],[0.8888888888888888,\"#fdca26\"],[1.0,\"#f0f921\"]]}],\"choropleth\":[{\"type\":\"choropleth\",\"colorbar\":{\"outlinewidth\":0,\"ticks\":\"\"}}],\"histogram2d\":[{\"type\":\"histogram2d\",\"colorbar\":{\"outlinewidth\":0,\"ticks\":\"\"},\"colorscale\":[[0.0,\"#0d0887\"],[0.1111111111111111,\"#46039f\"],[0.2222222222222222,\"#7201a8\"],[0.3333333333333333,\"#9c179e\"],[0.4444444444444444,\"#bd3786\"],[0.5555555555555556,\"#d8576b\"],[0.6666666666666666,\"#ed7953\"],[0.7777777777777778,\"#fb9f3a\"],[0.8888888888888888,\"#fdca26\"],[1.0,\"#f0f921\"]]}],\"heatmap\":[{\"type\":\"heatmap\",\"colorbar\":{\"outlinewidth\":0,\"ticks\":\"\"},\"colorscale\":[[0.0,\"#0d0887\"],[0.1111111111111111,\"#46039f\"],[0.2222222222222222,\"#7201a8\"],[0.3333333333333333,\"#9c179e\"],[0.4444444444444444,\"#bd3786\"],[0.5555555555555556,\"#d8576b\"],[0.6666666666666666,\"#ed7953\"],[0.7777777777777778,\"#fb9f3a\"],[0.8888888888888888,\"#fdca26\"],[1.0,\"#f0f921\"]]}],\"heatmapgl\":[{\"type\":\"heatmapgl\",\"colorbar\":{\"outlinewidth\":0,\"ticks\":\"\"},\"colorscale\":[[0.0,\"#0d0887\"],[0.1111111111111111,\"#46039f\"],[0.2222222222222222,\"#7201a8\"],[0.3333333333333333,\"#9c179e\"],[0.4444444444444444,\"#bd3786\"],[0.5555555555555556,\"#d8576b\"],[0.6666666666666666,\"#ed7953\"],[0.7777777777777778,\"#fb9f3a\"],[0.8888888888888888,\"#fdca26\"],[1.0,\"#f0f921\"]]}],\"contourcarpet\":[{\"type\":\"contourcarpet\",\"colorbar\":{\"outlinewidth\":0,\"ticks\":\"\"}}],\"contour\":[{\"type\":\"contour\",\"colorbar\":{\"outlinewidth\":0,\"ticks\":\"\"},\"colorscale\":[[0.0,\"#0d0887\"],[0.1111111111111111,\"#46039f\"],[0.2222222222222222,\"#7201a8\"],[0.3333333333333333,\"#9c179e\"],[0.4444444444444444,\"#bd3786\"],[0.5555555555555556,\"#d8576b\"],[0.6666666666666666,\"#ed7953\"],[0.7777777777777778,\"#fb9f3a\"],[0.8888888888888888,\"#fdca26\"],[1.0,\"#f0f921\"]]}],\"surface\":[{\"type\":\"surface\",\"colorbar\":{\"outlinewidth\":0,\"ticks\":\"\"},\"colorscale\":[[0.0,\"#0d0887\"],[0.1111111111111111,\"#46039f\"],[0.2222222222222222,\"#7201a8\"],[0.3333333333333333,\"#9c179e\"],[0.4444444444444444,\"#bd3786\"],[0.5555555555555556,\"#d8576b\"],[0.6666666666666666,\"#ed7953\"],[0.7777777777777778,\"#fb9f3a\"],[0.8888888888888888,\"#fdca26\"],[1.0,\"#f0f921\"]]}],\"mesh3d\":[{\"type\":\"mesh3d\",\"colorbar\":{\"outlinewidth\":0,\"ticks\":\"\"}}],\"scatter\":[{\"fillpattern\":{\"fillmode\":\"overlay\",\"size\":10,\"solidity\":0.2},\"type\":\"scatter\"}],\"parcoords\":[{\"type\":\"parcoords\",\"line\":{\"colorbar\":{\"outlinewidth\":0,\"ticks\":\"\"}}}],\"scatterpolargl\":[{\"type\":\"scatterpolargl\",\"marker\":{\"colorbar\":{\"outlinewidth\":0,\"ticks\":\"\"}}}],\"bar\":[{\"error_x\":{\"color\":\"#2a3f5f\"},\"error_y\":{\"color\":\"#2a3f5f\"},\"marker\":{\"line\":{\"color\":\"#E5ECF6\",\"width\":0.5},\"pattern\":{\"fillmode\":\"overlay\",\"size\":10,\"solidity\":0.2}},\"type\":\"bar\"}],\"scattergeo\":[{\"type\":\"scattergeo\",\"marker\":{\"colorbar\":{\"outlinewidth\":0,\"ticks\":\"\"}}}],\"scatterpolar\":[{\"type\":\"scatterpolar\",\"marker\":{\"colorbar\":{\"outlinewidth\":0,\"ticks\":\"\"}}}],\"histogram\":[{\"marker\":{\"pattern\":{\"fillmode\":\"overlay\",\"size\":10,\"solidity\":0.2}},\"type\":\"histogram\"}],\"scattergl\":[{\"type\":\"scattergl\",\"marker\":{\"colorbar\":{\"outlinewidth\":0,\"ticks\":\"\"}}}],\"scatter3d\":[{\"type\":\"scatter3d\",\"line\":{\"colorbar\":{\"outlinewidth\":0,\"ticks\":\"\"}},\"marker\":{\"colorbar\":{\"outlinewidth\":0,\"ticks\":\"\"}}}],\"scattermapbox\":[{\"type\":\"scattermapbox\",\"marker\":{\"colorbar\":{\"outlinewidth\":0,\"ticks\":\"\"}}}],\"scatterternary\":[{\"type\":\"scatterternary\",\"marker\":{\"colorbar\":{\"outlinewidth\":0,\"ticks\":\"\"}}}],\"scattercarpet\":[{\"type\":\"scattercarpet\",\"marker\":{\"colorbar\":{\"outlinewidth\":0,\"ticks\":\"\"}}}],\"carpet\":[{\"aaxis\":{\"endlinecolor\":\"#2a3f5f\",\"gridcolor\":\"white\",\"linecolor\":\"white\",\"minorgridcolor\":\"white\",\"startlinecolor\":\"#2a3f5f\"},\"baxis\":{\"endlinecolor\":\"#2a3f5f\",\"gridcolor\":\"white\",\"linecolor\":\"white\",\"minorgridcolor\":\"white\",\"startlinecolor\":\"#2a3f5f\"},\"type\":\"carpet\"}],\"table\":[{\"cells\":{\"fill\":{\"color\":\"#EBF0F8\"},\"line\":{\"color\":\"white\"}},\"header\":{\"fill\":{\"color\":\"#C8D4E3\"},\"line\":{\"color\":\"white\"}},\"type\":\"table\"}],\"barpolar\":[{\"marker\":{\"line\":{\"color\":\"#E5ECF6\",\"width\":0.5},\"pattern\":{\"fillmode\":\"overlay\",\"size\":10,\"solidity\":0.2}},\"type\":\"barpolar\"}],\"pie\":[{\"automargin\":true,\"type\":\"pie\"}]},\"layout\":{\"autotypenumbers\":\"strict\",\"colorway\":[\"#636efa\",\"#EF553B\",\"#00cc96\",\"#ab63fa\",\"#FFA15A\",\"#19d3f3\",\"#FF6692\",\"#B6E880\",\"#FF97FF\",\"#FECB52\"],\"font\":{\"color\":\"#2a3f5f\"},\"hovermode\":\"closest\",\"hoverlabel\":{\"align\":\"left\"},\"paper_bgcolor\":\"white\",\"plot_bgcolor\":\"#E5ECF6\",\"polar\":{\"bgcolor\":\"#E5ECF6\",\"angularaxis\":{\"gridcolor\":\"white\",\"linecolor\":\"white\",\"ticks\":\"\"},\"radialaxis\":{\"gridcolor\":\"white\",\"linecolor\":\"white\",\"ticks\":\"\"}},\"ternary\":{\"bgcolor\":\"#E5ECF6\",\"aaxis\":{\"gridcolor\":\"white\",\"linecolor\":\"white\",\"ticks\":\"\"},\"baxis\":{\"gridcolor\":\"white\",\"linecolor\":\"white\",\"ticks\":\"\"},\"caxis\":{\"gridcolor\":\"white\",\"linecolor\":\"white\",\"ticks\":\"\"}},\"coloraxis\":{\"colorbar\":{\"outlinewidth\":0,\"ticks\":\"\"}},\"colorscale\":{\"sequential\":[[0.0,\"#0d0887\"],[0.1111111111111111,\"#46039f\"],[0.2222222222222222,\"#7201a8\"],[0.3333333333333333,\"#9c179e\"],[0.4444444444444444,\"#bd3786\"],[0.5555555555555556,\"#d8576b\"],[0.6666666666666666,\"#ed7953\"],[0.7777777777777778,\"#fb9f3a\"],[0.8888888888888888,\"#fdca26\"],[1.0,\"#f0f921\"]],\"sequentialminus\":[[0.0,\"#0d0887\"],[0.1111111111111111,\"#46039f\"],[0.2222222222222222,\"#7201a8\"],[0.3333333333333333,\"#9c179e\"],[0.4444444444444444,\"#bd3786\"],[0.5555555555555556,\"#d8576b\"],[0.6666666666666666,\"#ed7953\"],[0.7777777777777778,\"#fb9f3a\"],[0.8888888888888888,\"#fdca26\"],[1.0,\"#f0f921\"]],\"diverging\":[[0,\"#8e0152\"],[0.1,\"#c51b7d\"],[0.2,\"#de77ae\"],[0.3,\"#f1b6da\"],[0.4,\"#fde0ef\"],[0.5,\"#f7f7f7\"],[0.6,\"#e6f5d0\"],[0.7,\"#b8e186\"],[0.8,\"#7fbc41\"],[0.9,\"#4d9221\"],[1,\"#276419\"]]},\"xaxis\":{\"gridcolor\":\"white\",\"linecolor\":\"white\",\"ticks\":\"\",\"title\":{\"standoff\":15},\"zerolinecolor\":\"white\",\"automargin\":true,\"zerolinewidth\":2},\"yaxis\":{\"gridcolor\":\"white\",\"linecolor\":\"white\",\"ticks\":\"\",\"title\":{\"standoff\":15},\"zerolinecolor\":\"white\",\"automargin\":true,\"zerolinewidth\":2},\"scene\":{\"xaxis\":{\"backgroundcolor\":\"#E5ECF6\",\"gridcolor\":\"white\",\"linecolor\":\"white\",\"showbackground\":true,\"ticks\":\"\",\"zerolinecolor\":\"white\",\"gridwidth\":2},\"yaxis\":{\"backgroundcolor\":\"#E5ECF6\",\"gridcolor\":\"white\",\"linecolor\":\"white\",\"showbackground\":true,\"ticks\":\"\",\"zerolinecolor\":\"white\",\"gridwidth\":2},\"zaxis\":{\"backgroundcolor\":\"#E5ECF6\",\"gridcolor\":\"white\",\"linecolor\":\"white\",\"showbackground\":true,\"ticks\":\"\",\"zerolinecolor\":\"white\",\"gridwidth\":2}},\"shapedefaults\":{\"line\":{\"color\":\"#2a3f5f\"}},\"annotationdefaults\":{\"arrowcolor\":\"#2a3f5f\",\"arrowhead\":0,\"arrowwidth\":1},\"geo\":{\"bgcolor\":\"white\",\"landcolor\":\"#E5ECF6\",\"subunitcolor\":\"white\",\"showland\":true,\"showlakes\":true,\"lakecolor\":\"white\"},\"title\":{\"x\":0.05},\"mapbox\":{\"style\":\"light\"}}},\"xaxis\":{\"anchor\":\"y\",\"domain\":[0.0,1.0],\"title\":{\"text\":\"Tempo de espera\"}},\"yaxis\":{\"anchor\":\"x\",\"domain\":[0.0,1.0],\"title\":{\"text\":\"count\"}},\"legend\":{\"tracegroupgap\":0},\"margin\":{\"t\":60},\"barmode\":\"relative\"},                        {\"responsive\": true}                    ).then(function(){\n",
              "                            \n",
              "var gd = document.getElementById('aaaf8526-be1e-4eb4-8983-1c1e5336552a');\n",
              "var x = new MutationObserver(function (mutations, observer) {{\n",
              "        var display = window.getComputedStyle(gd).display;\n",
              "        if (!display || display === 'none') {{\n",
              "            console.log([gd, 'removed!']);\n",
              "            Plotly.purge(gd);\n",
              "            observer.disconnect();\n",
              "        }}\n",
              "}});\n",
              "\n",
              "// Listen for the removal of the full notebook cells\n",
              "var notebookContainer = gd.closest('#notebook-container');\n",
              "if (notebookContainer) {{\n",
              "    x.observe(notebookContainer, {childList: true});\n",
              "}}\n",
              "\n",
              "// Listen for the clearing of the current output cell\n",
              "var outputEl = gd.closest('.output');\n",
              "if (outputEl) {{\n",
              "    x.observe(outputEl, {childList: true});\n",
              "}}\n",
              "\n",
              "                        })                };                            </script>        </div>\n",
              "</body>\n",
              "</html>"
            ]
          },
          "metadata": {}
        }
      ]
    },
    {
      "cell_type": "markdown",
      "source": [
        "##### Clientes no sistema"
      ],
      "metadata": {
        "id": "FecM57MS-2ur"
      }
    },
    {
      "cell_type": "code",
      "source": [
        "print(f'Intervalo de confiança: {intervalo_confianca(clientes_sistema)}')\n",
        "print(f'Média: {np.mean(clientes_sistema)}\\n')\n",
        "\n",
        "plotar_histograma(clientes_sistema, 'Clientes no sistema')"
      ],
      "metadata": {
        "colab": {
          "base_uri": "https://localhost:8080/",
          "height": 0
        },
        "id": "-klBArTe-8lL",
        "outputId": "6ecaf325-43a9-47c4-f51b-296a5104a8c2"
      },
      "execution_count": 42,
      "outputs": [
        {
          "output_type": "stream",
          "name": "stdout",
          "text": [
            "Intervalo de confiança: (0.7915334597634868, 1.2173778163484004)\n",
            "Média: 1.0044556380559435\n",
            "\n"
          ]
        },
        {
          "output_type": "display_data",
          "data": {
            "text/html": [
              "<html>\n",
              "<head><meta charset=\"utf-8\" /></head>\n",
              "<body>\n",
              "    <div>            <script src=\"https://cdnjs.cloudflare.com/ajax/libs/mathjax/2.7.5/MathJax.js?config=TeX-AMS-MML_SVG\"></script><script type=\"text/javascript\">if (window.MathJax && window.MathJax.Hub && window.MathJax.Hub.Config) {window.MathJax.Hub.Config({SVG: {font: \"STIX-Web\"}});}</script>                <script type=\"text/javascript\">window.PlotlyConfig = {MathJaxConfig: 'local'};</script>\n",
              "        <script src=\"https://cdn.plot.ly/plotly-2.18.2.min.js\"></script>                <div id=\"1309bd2f-1ca4-45f2-b870-43ddd8a0a98f\" class=\"plotly-graph-div\" style=\"height:525px; width:100%;\"></div>            <script type=\"text/javascript\">                                    window.PLOTLYENV=window.PLOTLYENV || {};                                    if (document.getElementById(\"1309bd2f-1ca4-45f2-b870-43ddd8a0a98f\")) {                    Plotly.newPlot(                        \"1309bd2f-1ca4-45f2-b870-43ddd8a0a98f\",                        [{\"alignmentgroup\":\"True\",\"bingroup\":\"x\",\"hovertemplate\":\"Clientes no sistema=%{x}<br>count=%{y}<extra></extra>\",\"legendgroup\":\"\",\"marker\":{\"color\":\"#636efa\",\"pattern\":{\"shape\":\"\"}},\"name\":\"\",\"offsetgroup\":\"\",\"orientation\":\"v\",\"showlegend\":false,\"x\":[0.9852525108365162,1.0321622965937745,0.9292773175258907,0.9623658827054002,1.0096467420160218,1.0141207748271563,1.0055766296846536,1.0604721940976036,1.030045854887754,0.8484903101271891,1.0650090849082048,0.8683143933053575,0.9723688291013558,0.9347680179177921,0.9090816244619968,1.1359919803904432,1.0660718177123052,0.8626333335005218,0.8213541339266653,1.2025470810070653,1.0139593297707175,1.0305577109486264,0.8899556994044271,1.1092417943382373,1.0242852541548773,1.0143664156904864,0.9767053446948182,1.1968381304876652,1.0494878298171155,1.0236195454676549,1.0175178006727799,1.0605692615676146,0.8689671034944145,0.8612445181268885,1.1054638371025212,0.9965296507935633,1.2267912112910324,1.1891960279161782,1.1358028302380707,1.0122587211503244,1.1352123442953954,1.2146969911647616,0.8736183038088786,1.044345383366277,1.0024507905730338,0.8980408587315336,0.9289113082447027,0.9409748859898757,1.216439391084352,1.0058078748499895,0.9922538482433287,1.005638839789407,1.2421426154071682,0.954236747148818,1.093662010051669,0.984049660646793,0.8951846088602423,0.8526119255342504,1.0309581997481654,0.9780000294207356,0.9998393746929706,0.8701379212417846,0.8907064619348948,1.0933982065517753,0.9892553569215017,0.9566402383917221,0.9091516200133596,0.8476988210868868,0.909140521187076,1.0466406354022701,1.0470334894751885,0.9674020041994289,0.9189812098714816,0.8053461190371057,0.9604829442378963,1.0772701877156334,0.8949784422839545,0.9998634590279538,0.8341288800486539,0.9181905094320885,1.113762566415123,1.093633700349629,1.0337305743743912,0.8231687559100236,1.1310388040779318,0.8938244243601184,0.9466762856446438,1.031753368381866,1.009912410143713,0.9882228032872327,0.9423871263081244,0.9122210303274148,0.9067235336611816,1.0554113374157281,1.157256022328263,0.9781392115388827,0.968411535366008,1.264339278148058,0.8744249246011087,0.8887686540351514,1.0781658708216646,1.108879595646674,0.9743314739320789,0.8493567832678843,0.9142948743890564,1.0900105831000984,0.9407169273174294,0.9703050666381116,1.0823660930337229,0.7453217697939098,0.8184934914689249,0.9175272708822112,1.136437971701261,1.1660431761403562,0.9345935857346215,0.9044863229352675,1.0103337059787802,1.0178868720229794,0.8595036234791762,0.9974609260897567,1.1968432177207637,1.0319179809318861,0.9661930774469696,0.9286364056327336,1.004489515214797,1.072315048018001,0.917802700355212,1.0272654619752206,0.9624315037679502,0.9139300672404993,0.94004421101783,0.8330158563975106,1.0249609816976686,1.1533436099802574,0.9444919779415952,0.9890930714477115,1.1903665214674763,1.0248498563480881,1.0742403658756028,0.9476939960160645,1.0657054912317858,0.8160063183858687,0.900753948359393,1.1618219816266755,1.200683887431011,0.9491392086483994,1.026110999630769,0.9136650991255287,0.9779391355713705,1.1041209037493802,1.1226384068039732,0.8886019334428371,0.8001990361262507,0.9907603664806024,1.193710837042046,0.9561027491906305,0.9536204865254407,0.8831354907850042,0.9726825484620253,1.1445275750374873,1.0233178156152585,1.2758657938335471,0.8145950389288688,1.0164797157882146,0.9021514334685657,1.1421080963210677,1.0147327921502145,0.9658019736430216,0.9612951318085442,1.1161377047872567,1.201561553097357,0.9919905465020621,0.8828486780404576,1.1494218203073832,0.9482139887608165,0.8565791871977636,0.9861101919788773,1.1007943897391999,1.0777031559221526,1.0454001982645265,0.9923805735787006,0.8850208834115618,0.9040364917146293,1.114617609499485,0.9063518649681958,0.963917670003694,1.1665800677365168,0.9204404636282516,1.0641253628668392,1.2883114500610136,1.002661167509096,0.9318525261825986,1.2354186822478188,0.9139113437392788,0.8706409097261057,1.0334004000520116,0.9862745138837888,0.9144360934217716,1.027312317917848,0.9447876965365593,1.0291262893768847,0.8661423891076406,1.000688070577736,1.149760550455852,0.9351844180896444,1.0073674095171339,1.2646801565460657,1.038303245810732,1.0567624412928907,0.8584195557992476,0.8838895038948029,1.0561292114889054,1.0270505124407348,1.2988363328528003,1.0020478297310438,1.0257976972847291,1.069357636249981,0.9122922860464338,0.8497914643119446,1.1829512908468118,1.2683887990954796,1.0773249853817524,1.0458459178453958,1.2258512243784552,1.0947698736804434,1.0962717755049145,0.7997786539599365,0.9846441968817925,1.1487984585375444,0.9825807568740067,1.1466895536257358,0.9691382968570156,0.8567433825573773,1.0324446275378496,0.9415985389247755,0.9998504548904541,0.9318505901353674,0.9821959082005642,1.0503279143688953,1.1158597827614405,0.932628680491775,1.1155571618657336,1.1244577594797474,0.9818136357251579,0.9948053316973182,0.84416080182767,0.8846572696866324,1.0524270411809407,0.9848789196410469,1.0385288682188767,0.8689809384143156,1.025946697068362,0.9125241481843251,1.3436218824766775,0.8884682423718909,1.007001147244703,0.9461801035467133,0.9562317989312359,1.0313726269556096,0.8594225456873091,1.1770347772810554,0.922930676266157,1.1048500842602456,0.953714397998935,0.9378827684101891,1.0790966726368982,1.0744087756005198,1.0606742747410034,1.0616911908165072,0.9962572696071559,0.9803928882726121,1.0498582813433872,1.1807342117858177,0.9023652233965637,0.8960553825876315,1.0658983341430202,1.059768530162442,0.8746327065210456,0.9971198172238462,1.088869336340937,1.0112865472215524,0.9643606011405309,0.9396607337531283,0.9119731935433146,0.94854016555457,1.2816843716934097,0.825159613144065,1.0525416615915986,1.0647711219261784,0.9324485702356048,1.140024769606762,1.0066120647462893,0.8960512732465991,0.955618082733794,0.9690168064117306,0.9520496051715488,1.030574502881576,0.8982545514064854,1.1350393983769682,0.9173972961696257],\"xaxis\":\"x\",\"yaxis\":\"y\",\"type\":\"histogram\"}],                        {\"template\":{\"data\":{\"histogram2dcontour\":[{\"type\":\"histogram2dcontour\",\"colorbar\":{\"outlinewidth\":0,\"ticks\":\"\"},\"colorscale\":[[0.0,\"#0d0887\"],[0.1111111111111111,\"#46039f\"],[0.2222222222222222,\"#7201a8\"],[0.3333333333333333,\"#9c179e\"],[0.4444444444444444,\"#bd3786\"],[0.5555555555555556,\"#d8576b\"],[0.6666666666666666,\"#ed7953\"],[0.7777777777777778,\"#fb9f3a\"],[0.8888888888888888,\"#fdca26\"],[1.0,\"#f0f921\"]]}],\"choropleth\":[{\"type\":\"choropleth\",\"colorbar\":{\"outlinewidth\":0,\"ticks\":\"\"}}],\"histogram2d\":[{\"type\":\"histogram2d\",\"colorbar\":{\"outlinewidth\":0,\"ticks\":\"\"},\"colorscale\":[[0.0,\"#0d0887\"],[0.1111111111111111,\"#46039f\"],[0.2222222222222222,\"#7201a8\"],[0.3333333333333333,\"#9c179e\"],[0.4444444444444444,\"#bd3786\"],[0.5555555555555556,\"#d8576b\"],[0.6666666666666666,\"#ed7953\"],[0.7777777777777778,\"#fb9f3a\"],[0.8888888888888888,\"#fdca26\"],[1.0,\"#f0f921\"]]}],\"heatmap\":[{\"type\":\"heatmap\",\"colorbar\":{\"outlinewidth\":0,\"ticks\":\"\"},\"colorscale\":[[0.0,\"#0d0887\"],[0.1111111111111111,\"#46039f\"],[0.2222222222222222,\"#7201a8\"],[0.3333333333333333,\"#9c179e\"],[0.4444444444444444,\"#bd3786\"],[0.5555555555555556,\"#d8576b\"],[0.6666666666666666,\"#ed7953\"],[0.7777777777777778,\"#fb9f3a\"],[0.8888888888888888,\"#fdca26\"],[1.0,\"#f0f921\"]]}],\"heatmapgl\":[{\"type\":\"heatmapgl\",\"colorbar\":{\"outlinewidth\":0,\"ticks\":\"\"},\"colorscale\":[[0.0,\"#0d0887\"],[0.1111111111111111,\"#46039f\"],[0.2222222222222222,\"#7201a8\"],[0.3333333333333333,\"#9c179e\"],[0.4444444444444444,\"#bd3786\"],[0.5555555555555556,\"#d8576b\"],[0.6666666666666666,\"#ed7953\"],[0.7777777777777778,\"#fb9f3a\"],[0.8888888888888888,\"#fdca26\"],[1.0,\"#f0f921\"]]}],\"contourcarpet\":[{\"type\":\"contourcarpet\",\"colorbar\":{\"outlinewidth\":0,\"ticks\":\"\"}}],\"contour\":[{\"type\":\"contour\",\"colorbar\":{\"outlinewidth\":0,\"ticks\":\"\"},\"colorscale\":[[0.0,\"#0d0887\"],[0.1111111111111111,\"#46039f\"],[0.2222222222222222,\"#7201a8\"],[0.3333333333333333,\"#9c179e\"],[0.4444444444444444,\"#bd3786\"],[0.5555555555555556,\"#d8576b\"],[0.6666666666666666,\"#ed7953\"],[0.7777777777777778,\"#fb9f3a\"],[0.8888888888888888,\"#fdca26\"],[1.0,\"#f0f921\"]]}],\"surface\":[{\"type\":\"surface\",\"colorbar\":{\"outlinewidth\":0,\"ticks\":\"\"},\"colorscale\":[[0.0,\"#0d0887\"],[0.1111111111111111,\"#46039f\"],[0.2222222222222222,\"#7201a8\"],[0.3333333333333333,\"#9c179e\"],[0.4444444444444444,\"#bd3786\"],[0.5555555555555556,\"#d8576b\"],[0.6666666666666666,\"#ed7953\"],[0.7777777777777778,\"#fb9f3a\"],[0.8888888888888888,\"#fdca26\"],[1.0,\"#f0f921\"]]}],\"mesh3d\":[{\"type\":\"mesh3d\",\"colorbar\":{\"outlinewidth\":0,\"ticks\":\"\"}}],\"scatter\":[{\"fillpattern\":{\"fillmode\":\"overlay\",\"size\":10,\"solidity\":0.2},\"type\":\"scatter\"}],\"parcoords\":[{\"type\":\"parcoords\",\"line\":{\"colorbar\":{\"outlinewidth\":0,\"ticks\":\"\"}}}],\"scatterpolargl\":[{\"type\":\"scatterpolargl\",\"marker\":{\"colorbar\":{\"outlinewidth\":0,\"ticks\":\"\"}}}],\"bar\":[{\"error_x\":{\"color\":\"#2a3f5f\"},\"error_y\":{\"color\":\"#2a3f5f\"},\"marker\":{\"line\":{\"color\":\"#E5ECF6\",\"width\":0.5},\"pattern\":{\"fillmode\":\"overlay\",\"size\":10,\"solidity\":0.2}},\"type\":\"bar\"}],\"scattergeo\":[{\"type\":\"scattergeo\",\"marker\":{\"colorbar\":{\"outlinewidth\":0,\"ticks\":\"\"}}}],\"scatterpolar\":[{\"type\":\"scatterpolar\",\"marker\":{\"colorbar\":{\"outlinewidth\":0,\"ticks\":\"\"}}}],\"histogram\":[{\"marker\":{\"pattern\":{\"fillmode\":\"overlay\",\"size\":10,\"solidity\":0.2}},\"type\":\"histogram\"}],\"scattergl\":[{\"type\":\"scattergl\",\"marker\":{\"colorbar\":{\"outlinewidth\":0,\"ticks\":\"\"}}}],\"scatter3d\":[{\"type\":\"scatter3d\",\"line\":{\"colorbar\":{\"outlinewidth\":0,\"ticks\":\"\"}},\"marker\":{\"colorbar\":{\"outlinewidth\":0,\"ticks\":\"\"}}}],\"scattermapbox\":[{\"type\":\"scattermapbox\",\"marker\":{\"colorbar\":{\"outlinewidth\":0,\"ticks\":\"\"}}}],\"scatterternary\":[{\"type\":\"scatterternary\",\"marker\":{\"colorbar\":{\"outlinewidth\":0,\"ticks\":\"\"}}}],\"scattercarpet\":[{\"type\":\"scattercarpet\",\"marker\":{\"colorbar\":{\"outlinewidth\":0,\"ticks\":\"\"}}}],\"carpet\":[{\"aaxis\":{\"endlinecolor\":\"#2a3f5f\",\"gridcolor\":\"white\",\"linecolor\":\"white\",\"minorgridcolor\":\"white\",\"startlinecolor\":\"#2a3f5f\"},\"baxis\":{\"endlinecolor\":\"#2a3f5f\",\"gridcolor\":\"white\",\"linecolor\":\"white\",\"minorgridcolor\":\"white\",\"startlinecolor\":\"#2a3f5f\"},\"type\":\"carpet\"}],\"table\":[{\"cells\":{\"fill\":{\"color\":\"#EBF0F8\"},\"line\":{\"color\":\"white\"}},\"header\":{\"fill\":{\"color\":\"#C8D4E3\"},\"line\":{\"color\":\"white\"}},\"type\":\"table\"}],\"barpolar\":[{\"marker\":{\"line\":{\"color\":\"#E5ECF6\",\"width\":0.5},\"pattern\":{\"fillmode\":\"overlay\",\"size\":10,\"solidity\":0.2}},\"type\":\"barpolar\"}],\"pie\":[{\"automargin\":true,\"type\":\"pie\"}]},\"layout\":{\"autotypenumbers\":\"strict\",\"colorway\":[\"#636efa\",\"#EF553B\",\"#00cc96\",\"#ab63fa\",\"#FFA15A\",\"#19d3f3\",\"#FF6692\",\"#B6E880\",\"#FF97FF\",\"#FECB52\"],\"font\":{\"color\":\"#2a3f5f\"},\"hovermode\":\"closest\",\"hoverlabel\":{\"align\":\"left\"},\"paper_bgcolor\":\"white\",\"plot_bgcolor\":\"#E5ECF6\",\"polar\":{\"bgcolor\":\"#E5ECF6\",\"angularaxis\":{\"gridcolor\":\"white\",\"linecolor\":\"white\",\"ticks\":\"\"},\"radialaxis\":{\"gridcolor\":\"white\",\"linecolor\":\"white\",\"ticks\":\"\"}},\"ternary\":{\"bgcolor\":\"#E5ECF6\",\"aaxis\":{\"gridcolor\":\"white\",\"linecolor\":\"white\",\"ticks\":\"\"},\"baxis\":{\"gridcolor\":\"white\",\"linecolor\":\"white\",\"ticks\":\"\"},\"caxis\":{\"gridcolor\":\"white\",\"linecolor\":\"white\",\"ticks\":\"\"}},\"coloraxis\":{\"colorbar\":{\"outlinewidth\":0,\"ticks\":\"\"}},\"colorscale\":{\"sequential\":[[0.0,\"#0d0887\"],[0.1111111111111111,\"#46039f\"],[0.2222222222222222,\"#7201a8\"],[0.3333333333333333,\"#9c179e\"],[0.4444444444444444,\"#bd3786\"],[0.5555555555555556,\"#d8576b\"],[0.6666666666666666,\"#ed7953\"],[0.7777777777777778,\"#fb9f3a\"],[0.8888888888888888,\"#fdca26\"],[1.0,\"#f0f921\"]],\"sequentialminus\":[[0.0,\"#0d0887\"],[0.1111111111111111,\"#46039f\"],[0.2222222222222222,\"#7201a8\"],[0.3333333333333333,\"#9c179e\"],[0.4444444444444444,\"#bd3786\"],[0.5555555555555556,\"#d8576b\"],[0.6666666666666666,\"#ed7953\"],[0.7777777777777778,\"#fb9f3a\"],[0.8888888888888888,\"#fdca26\"],[1.0,\"#f0f921\"]],\"diverging\":[[0,\"#8e0152\"],[0.1,\"#c51b7d\"],[0.2,\"#de77ae\"],[0.3,\"#f1b6da\"],[0.4,\"#fde0ef\"],[0.5,\"#f7f7f7\"],[0.6,\"#e6f5d0\"],[0.7,\"#b8e186\"],[0.8,\"#7fbc41\"],[0.9,\"#4d9221\"],[1,\"#276419\"]]},\"xaxis\":{\"gridcolor\":\"white\",\"linecolor\":\"white\",\"ticks\":\"\",\"title\":{\"standoff\":15},\"zerolinecolor\":\"white\",\"automargin\":true,\"zerolinewidth\":2},\"yaxis\":{\"gridcolor\":\"white\",\"linecolor\":\"white\",\"ticks\":\"\",\"title\":{\"standoff\":15},\"zerolinecolor\":\"white\",\"automargin\":true,\"zerolinewidth\":2},\"scene\":{\"xaxis\":{\"backgroundcolor\":\"#E5ECF6\",\"gridcolor\":\"white\",\"linecolor\":\"white\",\"showbackground\":true,\"ticks\":\"\",\"zerolinecolor\":\"white\",\"gridwidth\":2},\"yaxis\":{\"backgroundcolor\":\"#E5ECF6\",\"gridcolor\":\"white\",\"linecolor\":\"white\",\"showbackground\":true,\"ticks\":\"\",\"zerolinecolor\":\"white\",\"gridwidth\":2},\"zaxis\":{\"backgroundcolor\":\"#E5ECF6\",\"gridcolor\":\"white\",\"linecolor\":\"white\",\"showbackground\":true,\"ticks\":\"\",\"zerolinecolor\":\"white\",\"gridwidth\":2}},\"shapedefaults\":{\"line\":{\"color\":\"#2a3f5f\"}},\"annotationdefaults\":{\"arrowcolor\":\"#2a3f5f\",\"arrowhead\":0,\"arrowwidth\":1},\"geo\":{\"bgcolor\":\"white\",\"landcolor\":\"#E5ECF6\",\"subunitcolor\":\"white\",\"showland\":true,\"showlakes\":true,\"lakecolor\":\"white\"},\"title\":{\"x\":0.05},\"mapbox\":{\"style\":\"light\"}}},\"xaxis\":{\"anchor\":\"y\",\"domain\":[0.0,1.0],\"title\":{\"text\":\"Clientes no sistema\"}},\"yaxis\":{\"anchor\":\"x\",\"domain\":[0.0,1.0],\"title\":{\"text\":\"count\"}},\"legend\":{\"tracegroupgap\":0},\"margin\":{\"t\":60},\"barmode\":\"relative\"},                        {\"responsive\": true}                    ).then(function(){\n",
              "                            \n",
              "var gd = document.getElementById('1309bd2f-1ca4-45f2-b870-43ddd8a0a98f');\n",
              "var x = new MutationObserver(function (mutations, observer) {{\n",
              "        var display = window.getComputedStyle(gd).display;\n",
              "        if (!display || display === 'none') {{\n",
              "            console.log([gd, 'removed!']);\n",
              "            Plotly.purge(gd);\n",
              "            observer.disconnect();\n",
              "        }}\n",
              "}});\n",
              "\n",
              "// Listen for the removal of the full notebook cells\n",
              "var notebookContainer = gd.closest('#notebook-container');\n",
              "if (notebookContainer) {{\n",
              "    x.observe(notebookContainer, {childList: true});\n",
              "}}\n",
              "\n",
              "// Listen for the clearing of the current output cell\n",
              "var outputEl = gd.closest('.output');\n",
              "if (outputEl) {{\n",
              "    x.observe(outputEl, {childList: true});\n",
              "}}\n",
              "\n",
              "                        })                };                            </script>        </div>\n",
              "</body>\n",
              "</html>"
            ]
          },
          "metadata": {}
        }
      ]
    },
    {
      "cell_type": "markdown",
      "source": [
        "#### Simulador 2"
      ],
      "metadata": {
        "id": "ZNiFOUBdvgRC"
      }
    },
    {
      "cell_type": "code",
      "source": [
        "tempo_espera, clientes_sistema = n_simulacoes(300, 1, 2, 1000, simulador2)"
      ],
      "metadata": {
        "id": "nvUk9739BhyC"
      },
      "execution_count": 43,
      "outputs": []
    },
    {
      "cell_type": "markdown",
      "source": [
        "##### Tempo de espera"
      ],
      "metadata": {
        "id": "YjErb40zBlTk"
      }
    },
    {
      "cell_type": "code",
      "source": [
        "print(f'Intervalo de confiança: {intervalo_confianca(tempo_espera)}')\n",
        "print(f'Média: {np.mean(tempo_espera)}\\n')\n",
        "\n",
        "plotar_histograma(tempo_espera, 'Tempo de espera')"
      ],
      "metadata": {
        "colab": {
          "base_uri": "https://localhost:8080/",
          "height": 594
        },
        "id": "UMR-hEzoB1bx",
        "outputId": "15176a8f-c233-4fbf-d80b-bae0a2bec58c"
      },
      "execution_count": 44,
      "outputs": [
        {
          "output_type": "stream",
          "name": "stdout",
          "text": [
            "Intervalo de confiança: (0.8278039774883263, 1.1752668106718025)\n",
            "Média: 1.0015353940800644\n",
            "\n"
          ]
        },
        {
          "output_type": "display_data",
          "data": {
            "text/html": [
              "<html>\n",
              "<head><meta charset=\"utf-8\" /></head>\n",
              "<body>\n",
              "    <div>            <script src=\"https://cdnjs.cloudflare.com/ajax/libs/mathjax/2.7.5/MathJax.js?config=TeX-AMS-MML_SVG\"></script><script type=\"text/javascript\">if (window.MathJax && window.MathJax.Hub && window.MathJax.Hub.Config) {window.MathJax.Hub.Config({SVG: {font: \"STIX-Web\"}});}</script>                <script type=\"text/javascript\">window.PlotlyConfig = {MathJaxConfig: 'local'};</script>\n",
              "        <script src=\"https://cdn.plot.ly/plotly-2.18.2.min.js\"></script>                <div id=\"6e4e87b2-e9ed-4171-a7fa-df83948864c3\" class=\"plotly-graph-div\" style=\"height:525px; width:100%;\"></div>            <script type=\"text/javascript\">                                    window.PLOTLYENV=window.PLOTLYENV || {};                                    if (document.getElementById(\"6e4e87b2-e9ed-4171-a7fa-df83948864c3\")) {                    Plotly.newPlot(                        \"6e4e87b2-e9ed-4171-a7fa-df83948864c3\",                        [{\"alignmentgroup\":\"True\",\"bingroup\":\"x\",\"hovertemplate\":\"Tempo de espera=%{x}<br>count=%{y}<extra></extra>\",\"legendgroup\":\"\",\"marker\":{\"color\":\"#636efa\",\"pattern\":{\"shape\":\"\"}},\"name\":\"\",\"offsetgroup\":\"\",\"orientation\":\"v\",\"showlegend\":false,\"x\":[1.0715803990073636,0.9713433000125493,1.1446841946831268,0.9172201311605037,1.052360952011145,1.0038408030065018,0.8898249870742188,0.9952734159706963,0.8999754089977584,1.1182900520748185,1.0495592465647237,1.0495743268318793,0.9561399167937211,0.9421567644713288,1.0066193173860754,0.9363540255542375,0.9219771765029537,1.0332533324664,1.145350589436711,1.0254799927130192,0.9838766460090057,1.0087526383199727,1.0095517006835582,1.2433087401177754,1.1079084559456323,0.9977405901152824,1.079627918671582,0.9391403856094619,1.275439951376638,1.002365048092856,0.9341236196336038,0.8966411045298469,0.9771239167084766,1.060101989285038,1.0844561537657413,1.0720517588823495,0.9044657921911656,0.9458505880667727,1.1494756157836112,0.9828193492088068,0.7996919541999126,1.0566654541052691,0.9157381774297327,0.883596049551507,0.9705841046017317,1.0152109274348575,1.1059663637908899,1.006981510973196,1.0285327358717082,0.9004931568605896,0.8579832222876771,0.9233019636311185,0.9488652760412388,1.1073629743239173,1.13230694565121,0.9669055375656713,1.1823893052466319,1.0872456814742595,0.8525225910625391,1.05573013335285,0.9199005747441578,0.8810731654897977,1.0360532664231912,1.180196065098495,0.9483612157667212,0.9284994920566867,1.0109914849926827,0.9970530632867469,0.9524696399787095,0.9949012410158234,1.0023141225049754,1.082332992219536,1.2665707782607938,1.2103735872421542,1.012960031917834,1.0266172783764171,1.116796838623569,0.8974439756194874,0.8590810682196891,1.009470045610718,1.0074295250214969,1.1202022662271804,0.9705407132011616,1.1373654946730802,0.9186449678209976,0.94905050019235,1.0151925125389152,0.9548149777031621,0.9793788919857318,0.9927911951797967,1.2868628753292441,0.9340208170593953,0.9515041505984356,1.0043797381013613,1.1005426675616115,0.8789202752264987,0.9692167152041724,1.078064897279455,1.0585249741728378,1.0063253095478992,0.9803464121036823,1.1288350992065157,0.8828972137215078,0.8279238623858808,0.8542768673522858,0.9173890123755734,1.1393368800149264,0.8994357359171745,1.0201868986315825,0.9810250864126264,0.9688770215494863,1.0344723577909078,0.9599545142068677,1.0752421614048122,0.9426433513442316,0.8676874692384888,1.0355487505534813,0.9244940052566116,1.0213433761994521,1.019362509724462,1.0444360781057214,0.921167463875898,0.9391932665778151,1.078229492661512,0.9194197176054345,1.0167852894912046,0.9565363763322491,0.9461431809494464,0.9800401246916577,0.9161406211731076,1.1426241887410988,0.9689823110231544,0.9768231640172579,1.0386396745382127,1.0625852166121712,1.051961715525106,0.9648181232025326,1.050994985370455,1.047528814669037,0.8677143527617327,0.8741917049585115,0.9368127369377546,0.9511774658216445,1.0346816960700593,1.0453937576969792,1.1092375500043,1.088621338528002,0.9939310540680001,1.0671395651251798,0.9724483167573829,1.0119727150260798,1.1125510214993024,1.103248989248694,0.8633444229810343,1.016089178507577,0.9673140244386693,0.919425586516028,1.0004398889362032,1.1005814480220697,1.0810023975500953,0.9908415289757375,1.082039621701761,0.950014608013377,0.9540572117542051,0.9917265632652743,0.8812391003436648,1.097385332688555,0.9908932978098874,1.1744167303604518,0.9331176551436454,0.9136620200670847,1.0821459781301528,0.8296565047535606,0.9407249375146034,0.8895213020302568,1.0859383188788094,1.1221111975208,0.9973092260133453,0.9822664551898377,1.0790036369303677,0.9478300638933479,0.9950558199524642,1.244893871320447,1.0604741901923813,1.0523484757078225,0.9093973321503315,0.8279172620298347,0.9467166354745812,1.0910101025347902,0.996581355075228,0.9490158655520222,1.0354678737234262,0.8963357416860777,1.079314727935996,0.9254433547033576,1.1993593903537403,1.0976422960842824,1.0306620201797687,0.8605999364653237,1.043080504668648,1.120802354010251,1.0262252918266062,1.0247209441431702,0.9033714718431688,1.0291307988152276,0.9619940814812801,0.9151223510369434,0.976006262690096,0.9677140986558391,1.0461357263709539,0.8824722798616199,0.9815524183411276,0.9888570048447819,0.9748570365612849,0.9941269951521394,0.9325891843995937,0.8831294494984608,0.955400665845045,1.0294953746720732,0.9616638108847855,1.0016373803519931,1.0490395772308407,1.212508173431207,1.0429391743757859,1.0500721368182226,1.0228582052650732,1.0022700715835549,0.8345580246202505,1.0664122728707326,1.0390011037848592,0.8899000620519221,1.0690688200075815,1.0422553453202017,1.0245076381000118,1.1578497375115189,1.023842246052847,1.0090020677076348,0.901710965981951,1.05139749239134,0.9736740832893283,0.9114105522513483,0.974918205591952,0.939957221570007,1.0499428179647152,1.1125976920416218,1.001019706969666,0.9745238706710637,0.9545251275159455,0.905912511979561,1.0836679099654913,0.935190870175514,0.9679497563178409,0.9905380740017267,1.139258903794196,0.8934792432293035,1.1880275550195105,0.8664614894419749,0.9427984424450229,0.8592366986400565,0.97216793048257,1.1899489505247083,0.9989887642313983,0.911039496755012,1.0240162616936839,0.995674295561956,0.9971212221367995,0.8994281865815502,1.1324787402301721,0.9655000277805921,0.9744346393551923,1.0889100450129692,0.9095440890098175,0.9558779260548854,0.958493317659862,1.041058924388316,0.924876112064596,1.03258414066229,0.9101829697522678,1.075827131951543,0.9604447481770878,1.0045210127361388,0.9434044486589874,0.873618349797921,0.9826214773185723,0.8667676260420333,0.8514611749274218,0.9251087949528878,1.079418049851119,0.9880974961790381,0.9501150592890422,1.235169809276995,0.9022868066969605,1.0138995654999772,1.0311923331786268,1.0301412437202084,0.9306517091014717,1.0450738826550952,1.1088781606381977,1.0972221470210433,0.961228925117872],\"xaxis\":\"x\",\"yaxis\":\"y\",\"type\":\"histogram\"}],                        {\"template\":{\"data\":{\"histogram2dcontour\":[{\"type\":\"histogram2dcontour\",\"colorbar\":{\"outlinewidth\":0,\"ticks\":\"\"},\"colorscale\":[[0.0,\"#0d0887\"],[0.1111111111111111,\"#46039f\"],[0.2222222222222222,\"#7201a8\"],[0.3333333333333333,\"#9c179e\"],[0.4444444444444444,\"#bd3786\"],[0.5555555555555556,\"#d8576b\"],[0.6666666666666666,\"#ed7953\"],[0.7777777777777778,\"#fb9f3a\"],[0.8888888888888888,\"#fdca26\"],[1.0,\"#f0f921\"]]}],\"choropleth\":[{\"type\":\"choropleth\",\"colorbar\":{\"outlinewidth\":0,\"ticks\":\"\"}}],\"histogram2d\":[{\"type\":\"histogram2d\",\"colorbar\":{\"outlinewidth\":0,\"ticks\":\"\"},\"colorscale\":[[0.0,\"#0d0887\"],[0.1111111111111111,\"#46039f\"],[0.2222222222222222,\"#7201a8\"],[0.3333333333333333,\"#9c179e\"],[0.4444444444444444,\"#bd3786\"],[0.5555555555555556,\"#d8576b\"],[0.6666666666666666,\"#ed7953\"],[0.7777777777777778,\"#fb9f3a\"],[0.8888888888888888,\"#fdca26\"],[1.0,\"#f0f921\"]]}],\"heatmap\":[{\"type\":\"heatmap\",\"colorbar\":{\"outlinewidth\":0,\"ticks\":\"\"},\"colorscale\":[[0.0,\"#0d0887\"],[0.1111111111111111,\"#46039f\"],[0.2222222222222222,\"#7201a8\"],[0.3333333333333333,\"#9c179e\"],[0.4444444444444444,\"#bd3786\"],[0.5555555555555556,\"#d8576b\"],[0.6666666666666666,\"#ed7953\"],[0.7777777777777778,\"#fb9f3a\"],[0.8888888888888888,\"#fdca26\"],[1.0,\"#f0f921\"]]}],\"heatmapgl\":[{\"type\":\"heatmapgl\",\"colorbar\":{\"outlinewidth\":0,\"ticks\":\"\"},\"colorscale\":[[0.0,\"#0d0887\"],[0.1111111111111111,\"#46039f\"],[0.2222222222222222,\"#7201a8\"],[0.3333333333333333,\"#9c179e\"],[0.4444444444444444,\"#bd3786\"],[0.5555555555555556,\"#d8576b\"],[0.6666666666666666,\"#ed7953\"],[0.7777777777777778,\"#fb9f3a\"],[0.8888888888888888,\"#fdca26\"],[1.0,\"#f0f921\"]]}],\"contourcarpet\":[{\"type\":\"contourcarpet\",\"colorbar\":{\"outlinewidth\":0,\"ticks\":\"\"}}],\"contour\":[{\"type\":\"contour\",\"colorbar\":{\"outlinewidth\":0,\"ticks\":\"\"},\"colorscale\":[[0.0,\"#0d0887\"],[0.1111111111111111,\"#46039f\"],[0.2222222222222222,\"#7201a8\"],[0.3333333333333333,\"#9c179e\"],[0.4444444444444444,\"#bd3786\"],[0.5555555555555556,\"#d8576b\"],[0.6666666666666666,\"#ed7953\"],[0.7777777777777778,\"#fb9f3a\"],[0.8888888888888888,\"#fdca26\"],[1.0,\"#f0f921\"]]}],\"surface\":[{\"type\":\"surface\",\"colorbar\":{\"outlinewidth\":0,\"ticks\":\"\"},\"colorscale\":[[0.0,\"#0d0887\"],[0.1111111111111111,\"#46039f\"],[0.2222222222222222,\"#7201a8\"],[0.3333333333333333,\"#9c179e\"],[0.4444444444444444,\"#bd3786\"],[0.5555555555555556,\"#d8576b\"],[0.6666666666666666,\"#ed7953\"],[0.7777777777777778,\"#fb9f3a\"],[0.8888888888888888,\"#fdca26\"],[1.0,\"#f0f921\"]]}],\"mesh3d\":[{\"type\":\"mesh3d\",\"colorbar\":{\"outlinewidth\":0,\"ticks\":\"\"}}],\"scatter\":[{\"fillpattern\":{\"fillmode\":\"overlay\",\"size\":10,\"solidity\":0.2},\"type\":\"scatter\"}],\"parcoords\":[{\"type\":\"parcoords\",\"line\":{\"colorbar\":{\"outlinewidth\":0,\"ticks\":\"\"}}}],\"scatterpolargl\":[{\"type\":\"scatterpolargl\",\"marker\":{\"colorbar\":{\"outlinewidth\":0,\"ticks\":\"\"}}}],\"bar\":[{\"error_x\":{\"color\":\"#2a3f5f\"},\"error_y\":{\"color\":\"#2a3f5f\"},\"marker\":{\"line\":{\"color\":\"#E5ECF6\",\"width\":0.5},\"pattern\":{\"fillmode\":\"overlay\",\"size\":10,\"solidity\":0.2}},\"type\":\"bar\"}],\"scattergeo\":[{\"type\":\"scattergeo\",\"marker\":{\"colorbar\":{\"outlinewidth\":0,\"ticks\":\"\"}}}],\"scatterpolar\":[{\"type\":\"scatterpolar\",\"marker\":{\"colorbar\":{\"outlinewidth\":0,\"ticks\":\"\"}}}],\"histogram\":[{\"marker\":{\"pattern\":{\"fillmode\":\"overlay\",\"size\":10,\"solidity\":0.2}},\"type\":\"histogram\"}],\"scattergl\":[{\"type\":\"scattergl\",\"marker\":{\"colorbar\":{\"outlinewidth\":0,\"ticks\":\"\"}}}],\"scatter3d\":[{\"type\":\"scatter3d\",\"line\":{\"colorbar\":{\"outlinewidth\":0,\"ticks\":\"\"}},\"marker\":{\"colorbar\":{\"outlinewidth\":0,\"ticks\":\"\"}}}],\"scattermapbox\":[{\"type\":\"scattermapbox\",\"marker\":{\"colorbar\":{\"outlinewidth\":0,\"ticks\":\"\"}}}],\"scatterternary\":[{\"type\":\"scatterternary\",\"marker\":{\"colorbar\":{\"outlinewidth\":0,\"ticks\":\"\"}}}],\"scattercarpet\":[{\"type\":\"scattercarpet\",\"marker\":{\"colorbar\":{\"outlinewidth\":0,\"ticks\":\"\"}}}],\"carpet\":[{\"aaxis\":{\"endlinecolor\":\"#2a3f5f\",\"gridcolor\":\"white\",\"linecolor\":\"white\",\"minorgridcolor\":\"white\",\"startlinecolor\":\"#2a3f5f\"},\"baxis\":{\"endlinecolor\":\"#2a3f5f\",\"gridcolor\":\"white\",\"linecolor\":\"white\",\"minorgridcolor\":\"white\",\"startlinecolor\":\"#2a3f5f\"},\"type\":\"carpet\"}],\"table\":[{\"cells\":{\"fill\":{\"color\":\"#EBF0F8\"},\"line\":{\"color\":\"white\"}},\"header\":{\"fill\":{\"color\":\"#C8D4E3\"},\"line\":{\"color\":\"white\"}},\"type\":\"table\"}],\"barpolar\":[{\"marker\":{\"line\":{\"color\":\"#E5ECF6\",\"width\":0.5},\"pattern\":{\"fillmode\":\"overlay\",\"size\":10,\"solidity\":0.2}},\"type\":\"barpolar\"}],\"pie\":[{\"automargin\":true,\"type\":\"pie\"}]},\"layout\":{\"autotypenumbers\":\"strict\",\"colorway\":[\"#636efa\",\"#EF553B\",\"#00cc96\",\"#ab63fa\",\"#FFA15A\",\"#19d3f3\",\"#FF6692\",\"#B6E880\",\"#FF97FF\",\"#FECB52\"],\"font\":{\"color\":\"#2a3f5f\"},\"hovermode\":\"closest\",\"hoverlabel\":{\"align\":\"left\"},\"paper_bgcolor\":\"white\",\"plot_bgcolor\":\"#E5ECF6\",\"polar\":{\"bgcolor\":\"#E5ECF6\",\"angularaxis\":{\"gridcolor\":\"white\",\"linecolor\":\"white\",\"ticks\":\"\"},\"radialaxis\":{\"gridcolor\":\"white\",\"linecolor\":\"white\",\"ticks\":\"\"}},\"ternary\":{\"bgcolor\":\"#E5ECF6\",\"aaxis\":{\"gridcolor\":\"white\",\"linecolor\":\"white\",\"ticks\":\"\"},\"baxis\":{\"gridcolor\":\"white\",\"linecolor\":\"white\",\"ticks\":\"\"},\"caxis\":{\"gridcolor\":\"white\",\"linecolor\":\"white\",\"ticks\":\"\"}},\"coloraxis\":{\"colorbar\":{\"outlinewidth\":0,\"ticks\":\"\"}},\"colorscale\":{\"sequential\":[[0.0,\"#0d0887\"],[0.1111111111111111,\"#46039f\"],[0.2222222222222222,\"#7201a8\"],[0.3333333333333333,\"#9c179e\"],[0.4444444444444444,\"#bd3786\"],[0.5555555555555556,\"#d8576b\"],[0.6666666666666666,\"#ed7953\"],[0.7777777777777778,\"#fb9f3a\"],[0.8888888888888888,\"#fdca26\"],[1.0,\"#f0f921\"]],\"sequentialminus\":[[0.0,\"#0d0887\"],[0.1111111111111111,\"#46039f\"],[0.2222222222222222,\"#7201a8\"],[0.3333333333333333,\"#9c179e\"],[0.4444444444444444,\"#bd3786\"],[0.5555555555555556,\"#d8576b\"],[0.6666666666666666,\"#ed7953\"],[0.7777777777777778,\"#fb9f3a\"],[0.8888888888888888,\"#fdca26\"],[1.0,\"#f0f921\"]],\"diverging\":[[0,\"#8e0152\"],[0.1,\"#c51b7d\"],[0.2,\"#de77ae\"],[0.3,\"#f1b6da\"],[0.4,\"#fde0ef\"],[0.5,\"#f7f7f7\"],[0.6,\"#e6f5d0\"],[0.7,\"#b8e186\"],[0.8,\"#7fbc41\"],[0.9,\"#4d9221\"],[1,\"#276419\"]]},\"xaxis\":{\"gridcolor\":\"white\",\"linecolor\":\"white\",\"ticks\":\"\",\"title\":{\"standoff\":15},\"zerolinecolor\":\"white\",\"automargin\":true,\"zerolinewidth\":2},\"yaxis\":{\"gridcolor\":\"white\",\"linecolor\":\"white\",\"ticks\":\"\",\"title\":{\"standoff\":15},\"zerolinecolor\":\"white\",\"automargin\":true,\"zerolinewidth\":2},\"scene\":{\"xaxis\":{\"backgroundcolor\":\"#E5ECF6\",\"gridcolor\":\"white\",\"linecolor\":\"white\",\"showbackground\":true,\"ticks\":\"\",\"zerolinecolor\":\"white\",\"gridwidth\":2},\"yaxis\":{\"backgroundcolor\":\"#E5ECF6\",\"gridcolor\":\"white\",\"linecolor\":\"white\",\"showbackground\":true,\"ticks\":\"\",\"zerolinecolor\":\"white\",\"gridwidth\":2},\"zaxis\":{\"backgroundcolor\":\"#E5ECF6\",\"gridcolor\":\"white\",\"linecolor\":\"white\",\"showbackground\":true,\"ticks\":\"\",\"zerolinecolor\":\"white\",\"gridwidth\":2}},\"shapedefaults\":{\"line\":{\"color\":\"#2a3f5f\"}},\"annotationdefaults\":{\"arrowcolor\":\"#2a3f5f\",\"arrowhead\":0,\"arrowwidth\":1},\"geo\":{\"bgcolor\":\"white\",\"landcolor\":\"#E5ECF6\",\"subunitcolor\":\"white\",\"showland\":true,\"showlakes\":true,\"lakecolor\":\"white\"},\"title\":{\"x\":0.05},\"mapbox\":{\"style\":\"light\"}}},\"xaxis\":{\"anchor\":\"y\",\"domain\":[0.0,1.0],\"title\":{\"text\":\"Tempo de espera\"}},\"yaxis\":{\"anchor\":\"x\",\"domain\":[0.0,1.0],\"title\":{\"text\":\"count\"}},\"legend\":{\"tracegroupgap\":0},\"margin\":{\"t\":60},\"barmode\":\"relative\"},                        {\"responsive\": true}                    ).then(function(){\n",
              "                            \n",
              "var gd = document.getElementById('6e4e87b2-e9ed-4171-a7fa-df83948864c3');\n",
              "var x = new MutationObserver(function (mutations, observer) {{\n",
              "        var display = window.getComputedStyle(gd).display;\n",
              "        if (!display || display === 'none') {{\n",
              "            console.log([gd, 'removed!']);\n",
              "            Plotly.purge(gd);\n",
              "            observer.disconnect();\n",
              "        }}\n",
              "}});\n",
              "\n",
              "// Listen for the removal of the full notebook cells\n",
              "var notebookContainer = gd.closest('#notebook-container');\n",
              "if (notebookContainer) {{\n",
              "    x.observe(notebookContainer, {childList: true});\n",
              "}}\n",
              "\n",
              "// Listen for the clearing of the current output cell\n",
              "var outputEl = gd.closest('.output');\n",
              "if (outputEl) {{\n",
              "    x.observe(outputEl, {childList: true});\n",
              "}}\n",
              "\n",
              "                        })                };                            </script>        </div>\n",
              "</body>\n",
              "</html>"
            ]
          },
          "metadata": {}
        }
      ]
    },
    {
      "cell_type": "markdown",
      "source": [
        "##### Clientes no sistema"
      ],
      "metadata": {
        "id": "JQTu-IEnB4I7"
      }
    },
    {
      "cell_type": "code",
      "source": [
        "print(f'Intervalo de confiança: {intervalo_confianca(clientes_sistema)}')\n",
        "print(f'Média: {np.mean(clientes_sistema)}\\n')\n",
        "\n",
        "plotar_histograma(clientes_sistema, 'Clientes no sistema')"
      ],
      "metadata": {
        "colab": {
          "base_uri": "https://localhost:8080/",
          "height": 594
        },
        "id": "Oh2DFD2IB6oi",
        "outputId": "a2d6578d-8726-48f7-9e99-16b89aaccc11"
      },
      "execution_count": 45,
      "outputs": [
        {
          "output_type": "stream",
          "name": "stdout",
          "text": [
            "Intervalo de confiança: (0.7990582697171229, 1.2091731406594985)\n",
            "Média: 1.0041157051883107\n",
            "\n"
          ]
        },
        {
          "output_type": "display_data",
          "data": {
            "text/html": [
              "<html>\n",
              "<head><meta charset=\"utf-8\" /></head>\n",
              "<body>\n",
              "    <div>            <script src=\"https://cdnjs.cloudflare.com/ajax/libs/mathjax/2.7.5/MathJax.js?config=TeX-AMS-MML_SVG\"></script><script type=\"text/javascript\">if (window.MathJax && window.MathJax.Hub && window.MathJax.Hub.Config) {window.MathJax.Hub.Config({SVG: {font: \"STIX-Web\"}});}</script>                <script type=\"text/javascript\">window.PlotlyConfig = {MathJaxConfig: 'local'};</script>\n",
              "        <script src=\"https://cdn.plot.ly/plotly-2.18.2.min.js\"></script>                <div id=\"21f737a7-18ef-4d46-8e03-45e52d2d629b\" class=\"plotly-graph-div\" style=\"height:525px; width:100%;\"></div>            <script type=\"text/javascript\">                                    window.PLOTLYENV=window.PLOTLYENV || {};                                    if (document.getElementById(\"21f737a7-18ef-4d46-8e03-45e52d2d629b\")) {                    Plotly.newPlot(                        \"21f737a7-18ef-4d46-8e03-45e52d2d629b\",                        [{\"alignmentgroup\":\"True\",\"bingroup\":\"x\",\"hovertemplate\":\"Clientes no sistema=%{x}<br>count=%{y}<extra></extra>\",\"legendgroup\":\"\",\"marker\":{\"color\":\"#636efa\",\"pattern\":{\"shape\":\"\"}},\"name\":\"\",\"offsetgroup\":\"\",\"orientation\":\"v\",\"showlegend\":false,\"x\":[1.04398557736924,0.9432691169798155,1.1623946653686246,0.9163303097561246,1.064407387003981,1.017197858834958,0.8770715104478086,0.9985876297147388,0.8939149626899664,1.1360309564409663,1.0805777491084445,1.1068262305798695,0.9466697330286299,0.9285990372902453,1.0007906488324196,0.9017492799485836,0.9236980696277677,1.014456402294025,1.187647016542257,1.0250464208238077,0.9553764454985074,1.020248829268888,0.9964746314757538,1.295349056091915,1.1239782024073826,1.0198751340129408,1.1031403787517762,0.958318250602472,1.3210726722087875,0.9615339440466258,0.9461946061267283,0.9069014943894755,0.9190461485965615,1.050375207790143,1.039603907780476,1.100335930606822,0.8794250007036237,0.9744443808050889,1.1311118076082216,0.953961143563048,0.8005877797779566,1.0787929562298324,0.8767700261529634,0.8630211853852215,0.9920519319138232,1.0517927785104155,1.120288868389763,1.0387972399401386,1.0343698934820489,0.8967075739370582,0.8798564426652327,0.9258932963029703,0.9736522674336642,1.1101089209315027,1.2038104687659712,0.9984531725527647,1.2589997910798336,1.1366271999484128,0.7891738175188286,1.0768166868742048,0.9190995354113931,0.8947049763940365,1.0778713178507082,1.2362588781819084,0.944899077290736,0.9140851437536648,0.9757496201888415,0.9741536676782432,0.9929095053719623,0.9550754863125193,0.9448139320965713,1.078617462276725,1.30086087326463,1.2902623812319551,1.006667704001406,1.035475394283006,1.1904867004274322,0.8855203600578716,0.8803706309171369,1.0343983734454758,0.981644230004351,1.1054619891433448,1.0009852671784887,1.1882952818232797,0.9156293597125457,0.9469761652997756,1.0197170509522477,0.9357170920801252,0.9429052590889567,0.9999560063441266,1.3374134350017515,0.8999196361896744,0.9444074480988808,1.031208888554646,1.0858479644186936,0.8264164774431546,0.9811512003524031,1.0589699319910504,1.1054242814093045,1.0172875906234418,0.9606249063292436,1.105642193374274,0.8351936981677084,0.7964832739550944,0.85581391713796,0.9188592310830728,1.1853281726096583,0.8844512921403467,0.9774230430293627,0.9689311146256578,0.9868541868629783,1.0394060595161385,0.9554179257178514,1.11144914071699,0.9064956553723406,0.8208405710114755,1.0083942870200087,0.893608115376833,0.9976551711630574,0.9716324896378103,1.089001376224596,0.9150866095110565,0.896063331029231,1.1030525582615773,0.9247268949492257,1.102635385375332,0.980504608477695,0.9416269274233166,0.9491919203127053,0.9080374851170564,1.1120913925766323,0.9895417078850022,0.9596907784276487,1.1268021475909153,1.0401581656877394,1.0508893039926117,0.9430226228456448,0.9999204697814528,1.0091935552905704,0.8500026308699499,0.8295127088129075,0.9353229079087481,1.0051875447034053,1.0207947527944266,1.0987983717297352,1.0995137050298203,1.0859404764603957,1.005920080792603,1.0619353445975592,0.9233424309175632,1.039904094117195,1.11337286202881,1.1177901945464614,0.8177216031895796,1.0409981460326212,1.0284000358247887,0.948917476821145,0.9994465600788243,1.138185210951027,1.0852317498882529,0.9938392810935819,1.0431845142145078,0.9506609264865307,0.9419738047389505,1.014438265762455,0.8364299150529448,1.1226762318606103,0.9888773682412659,1.1819329289504672,0.949374547415075,0.8930418327928961,1.0902897140280254,0.8387980226591324,1.027016274461657,0.8729649107068617,1.1183836712835926,1.1658852368587846,1.026128871786682,0.9548673947184708,1.082664998018072,0.9231302115629562,1.0215801541212228,1.3124652188520167,1.0715888575088408,1.051905840932482,0.8900303531238132,0.8146493476025887,0.9399612620195364,0.9798554523454698,1.0257241671731736,0.9428634575588647,1.068496429528813,0.8652435688835914,1.121744447594671,0.8526424812438735,1.277120004286125,1.105435474441121,1.0004530776461875,0.876655204022706,1.107471400181735,1.1488136856540714,1.028833011193053,1.006232019456518,0.8719692875679821,1.077077395962628,0.95688386011925,0.9367690899544058,0.9362856602524979,0.989419086437822,1.0813016965697209,0.8956413502606048,0.9718196002418216,1.053565135517253,0.9423632272407729,0.9987869403661674,0.9987222977005552,0.8692420797527879,0.9633600251710337,1.0006123537614595,0.9232932537587769,0.9942265176910567,1.0691086941938341,1.1910518356075173,1.0985740600371916,1.1163676727669174,1.027789788345975,0.9593995232821246,0.7833631917150825,1.042594478740693,1.0397748956191917,0.888386321036506,1.0144259251016006,1.1321626254540793,1.0726796028577559,1.1529776418156796,1.0183875002932128,1.0333911996096048,0.891835036203995,1.1132546354000445,0.9930203310136896,0.8842269569996256,0.9672193282188082,0.9053660676298257,1.0408248158024271,1.1726101327318927,0.9591267676877011,0.9357783743717714,0.9118726554544386,0.8807685394734903,1.1388246156230093,0.9215744061667092,0.9784488085943738,1.0116791694497491,1.1756901109408964,0.9323389367096455,1.1543043742403198,0.8287355815351655,0.9175264460494448,0.8363094428717712,0.9518557486087769,1.195911883572449,1.0060435168591697,0.9541283581170079,0.9950511473165843,0.9734897161364073,1.0037755697847537,0.8818913367046286,1.1071699908996517,0.9477349132275412,1.0082047333067667,1.1102563937956427,0.904555482856596,0.9729201170745309,0.9388775438221635,1.0820317983272354,0.8991169441138676,1.04376040413053,0.9128492989759273,1.0362798961870228,0.9414143717859035,1.0418457087582595,0.9578240971077233,0.8447114742971213,1.01991360576831,0.844193722249922,0.858516380451714,0.9684795597915148,1.1146286005217576,0.9725383585923802,0.9262187368374215,1.2196965330462572,0.9465909885151288,1.0011797300801946,1.0042589004598172,1.0687389029057246,0.8869099020895944,1.0963140045514066,1.1115818899441308,1.1151402576274778,0.9304916685975495],\"xaxis\":\"x\",\"yaxis\":\"y\",\"type\":\"histogram\"}],                        {\"template\":{\"data\":{\"histogram2dcontour\":[{\"type\":\"histogram2dcontour\",\"colorbar\":{\"outlinewidth\":0,\"ticks\":\"\"},\"colorscale\":[[0.0,\"#0d0887\"],[0.1111111111111111,\"#46039f\"],[0.2222222222222222,\"#7201a8\"],[0.3333333333333333,\"#9c179e\"],[0.4444444444444444,\"#bd3786\"],[0.5555555555555556,\"#d8576b\"],[0.6666666666666666,\"#ed7953\"],[0.7777777777777778,\"#fb9f3a\"],[0.8888888888888888,\"#fdca26\"],[1.0,\"#f0f921\"]]}],\"choropleth\":[{\"type\":\"choropleth\",\"colorbar\":{\"outlinewidth\":0,\"ticks\":\"\"}}],\"histogram2d\":[{\"type\":\"histogram2d\",\"colorbar\":{\"outlinewidth\":0,\"ticks\":\"\"},\"colorscale\":[[0.0,\"#0d0887\"],[0.1111111111111111,\"#46039f\"],[0.2222222222222222,\"#7201a8\"],[0.3333333333333333,\"#9c179e\"],[0.4444444444444444,\"#bd3786\"],[0.5555555555555556,\"#d8576b\"],[0.6666666666666666,\"#ed7953\"],[0.7777777777777778,\"#fb9f3a\"],[0.8888888888888888,\"#fdca26\"],[1.0,\"#f0f921\"]]}],\"heatmap\":[{\"type\":\"heatmap\",\"colorbar\":{\"outlinewidth\":0,\"ticks\":\"\"},\"colorscale\":[[0.0,\"#0d0887\"],[0.1111111111111111,\"#46039f\"],[0.2222222222222222,\"#7201a8\"],[0.3333333333333333,\"#9c179e\"],[0.4444444444444444,\"#bd3786\"],[0.5555555555555556,\"#d8576b\"],[0.6666666666666666,\"#ed7953\"],[0.7777777777777778,\"#fb9f3a\"],[0.8888888888888888,\"#fdca26\"],[1.0,\"#f0f921\"]]}],\"heatmapgl\":[{\"type\":\"heatmapgl\",\"colorbar\":{\"outlinewidth\":0,\"ticks\":\"\"},\"colorscale\":[[0.0,\"#0d0887\"],[0.1111111111111111,\"#46039f\"],[0.2222222222222222,\"#7201a8\"],[0.3333333333333333,\"#9c179e\"],[0.4444444444444444,\"#bd3786\"],[0.5555555555555556,\"#d8576b\"],[0.6666666666666666,\"#ed7953\"],[0.7777777777777778,\"#fb9f3a\"],[0.8888888888888888,\"#fdca26\"],[1.0,\"#f0f921\"]]}],\"contourcarpet\":[{\"type\":\"contourcarpet\",\"colorbar\":{\"outlinewidth\":0,\"ticks\":\"\"}}],\"contour\":[{\"type\":\"contour\",\"colorbar\":{\"outlinewidth\":0,\"ticks\":\"\"},\"colorscale\":[[0.0,\"#0d0887\"],[0.1111111111111111,\"#46039f\"],[0.2222222222222222,\"#7201a8\"],[0.3333333333333333,\"#9c179e\"],[0.4444444444444444,\"#bd3786\"],[0.5555555555555556,\"#d8576b\"],[0.6666666666666666,\"#ed7953\"],[0.7777777777777778,\"#fb9f3a\"],[0.8888888888888888,\"#fdca26\"],[1.0,\"#f0f921\"]]}],\"surface\":[{\"type\":\"surface\",\"colorbar\":{\"outlinewidth\":0,\"ticks\":\"\"},\"colorscale\":[[0.0,\"#0d0887\"],[0.1111111111111111,\"#46039f\"],[0.2222222222222222,\"#7201a8\"],[0.3333333333333333,\"#9c179e\"],[0.4444444444444444,\"#bd3786\"],[0.5555555555555556,\"#d8576b\"],[0.6666666666666666,\"#ed7953\"],[0.7777777777777778,\"#fb9f3a\"],[0.8888888888888888,\"#fdca26\"],[1.0,\"#f0f921\"]]}],\"mesh3d\":[{\"type\":\"mesh3d\",\"colorbar\":{\"outlinewidth\":0,\"ticks\":\"\"}}],\"scatter\":[{\"fillpattern\":{\"fillmode\":\"overlay\",\"size\":10,\"solidity\":0.2},\"type\":\"scatter\"}],\"parcoords\":[{\"type\":\"parcoords\",\"line\":{\"colorbar\":{\"outlinewidth\":0,\"ticks\":\"\"}}}],\"scatterpolargl\":[{\"type\":\"scatterpolargl\",\"marker\":{\"colorbar\":{\"outlinewidth\":0,\"ticks\":\"\"}}}],\"bar\":[{\"error_x\":{\"color\":\"#2a3f5f\"},\"error_y\":{\"color\":\"#2a3f5f\"},\"marker\":{\"line\":{\"color\":\"#E5ECF6\",\"width\":0.5},\"pattern\":{\"fillmode\":\"overlay\",\"size\":10,\"solidity\":0.2}},\"type\":\"bar\"}],\"scattergeo\":[{\"type\":\"scattergeo\",\"marker\":{\"colorbar\":{\"outlinewidth\":0,\"ticks\":\"\"}}}],\"scatterpolar\":[{\"type\":\"scatterpolar\",\"marker\":{\"colorbar\":{\"outlinewidth\":0,\"ticks\":\"\"}}}],\"histogram\":[{\"marker\":{\"pattern\":{\"fillmode\":\"overlay\",\"size\":10,\"solidity\":0.2}},\"type\":\"histogram\"}],\"scattergl\":[{\"type\":\"scattergl\",\"marker\":{\"colorbar\":{\"outlinewidth\":0,\"ticks\":\"\"}}}],\"scatter3d\":[{\"type\":\"scatter3d\",\"line\":{\"colorbar\":{\"outlinewidth\":0,\"ticks\":\"\"}},\"marker\":{\"colorbar\":{\"outlinewidth\":0,\"ticks\":\"\"}}}],\"scattermapbox\":[{\"type\":\"scattermapbox\",\"marker\":{\"colorbar\":{\"outlinewidth\":0,\"ticks\":\"\"}}}],\"scatterternary\":[{\"type\":\"scatterternary\",\"marker\":{\"colorbar\":{\"outlinewidth\":0,\"ticks\":\"\"}}}],\"scattercarpet\":[{\"type\":\"scattercarpet\",\"marker\":{\"colorbar\":{\"outlinewidth\":0,\"ticks\":\"\"}}}],\"carpet\":[{\"aaxis\":{\"endlinecolor\":\"#2a3f5f\",\"gridcolor\":\"white\",\"linecolor\":\"white\",\"minorgridcolor\":\"white\",\"startlinecolor\":\"#2a3f5f\"},\"baxis\":{\"endlinecolor\":\"#2a3f5f\",\"gridcolor\":\"white\",\"linecolor\":\"white\",\"minorgridcolor\":\"white\",\"startlinecolor\":\"#2a3f5f\"},\"type\":\"carpet\"}],\"table\":[{\"cells\":{\"fill\":{\"color\":\"#EBF0F8\"},\"line\":{\"color\":\"white\"}},\"header\":{\"fill\":{\"color\":\"#C8D4E3\"},\"line\":{\"color\":\"white\"}},\"type\":\"table\"}],\"barpolar\":[{\"marker\":{\"line\":{\"color\":\"#E5ECF6\",\"width\":0.5},\"pattern\":{\"fillmode\":\"overlay\",\"size\":10,\"solidity\":0.2}},\"type\":\"barpolar\"}],\"pie\":[{\"automargin\":true,\"type\":\"pie\"}]},\"layout\":{\"autotypenumbers\":\"strict\",\"colorway\":[\"#636efa\",\"#EF553B\",\"#00cc96\",\"#ab63fa\",\"#FFA15A\",\"#19d3f3\",\"#FF6692\",\"#B6E880\",\"#FF97FF\",\"#FECB52\"],\"font\":{\"color\":\"#2a3f5f\"},\"hovermode\":\"closest\",\"hoverlabel\":{\"align\":\"left\"},\"paper_bgcolor\":\"white\",\"plot_bgcolor\":\"#E5ECF6\",\"polar\":{\"bgcolor\":\"#E5ECF6\",\"angularaxis\":{\"gridcolor\":\"white\",\"linecolor\":\"white\",\"ticks\":\"\"},\"radialaxis\":{\"gridcolor\":\"white\",\"linecolor\":\"white\",\"ticks\":\"\"}},\"ternary\":{\"bgcolor\":\"#E5ECF6\",\"aaxis\":{\"gridcolor\":\"white\",\"linecolor\":\"white\",\"ticks\":\"\"},\"baxis\":{\"gridcolor\":\"white\",\"linecolor\":\"white\",\"ticks\":\"\"},\"caxis\":{\"gridcolor\":\"white\",\"linecolor\":\"white\",\"ticks\":\"\"}},\"coloraxis\":{\"colorbar\":{\"outlinewidth\":0,\"ticks\":\"\"}},\"colorscale\":{\"sequential\":[[0.0,\"#0d0887\"],[0.1111111111111111,\"#46039f\"],[0.2222222222222222,\"#7201a8\"],[0.3333333333333333,\"#9c179e\"],[0.4444444444444444,\"#bd3786\"],[0.5555555555555556,\"#d8576b\"],[0.6666666666666666,\"#ed7953\"],[0.7777777777777778,\"#fb9f3a\"],[0.8888888888888888,\"#fdca26\"],[1.0,\"#f0f921\"]],\"sequentialminus\":[[0.0,\"#0d0887\"],[0.1111111111111111,\"#46039f\"],[0.2222222222222222,\"#7201a8\"],[0.3333333333333333,\"#9c179e\"],[0.4444444444444444,\"#bd3786\"],[0.5555555555555556,\"#d8576b\"],[0.6666666666666666,\"#ed7953\"],[0.7777777777777778,\"#fb9f3a\"],[0.8888888888888888,\"#fdca26\"],[1.0,\"#f0f921\"]],\"diverging\":[[0,\"#8e0152\"],[0.1,\"#c51b7d\"],[0.2,\"#de77ae\"],[0.3,\"#f1b6da\"],[0.4,\"#fde0ef\"],[0.5,\"#f7f7f7\"],[0.6,\"#e6f5d0\"],[0.7,\"#b8e186\"],[0.8,\"#7fbc41\"],[0.9,\"#4d9221\"],[1,\"#276419\"]]},\"xaxis\":{\"gridcolor\":\"white\",\"linecolor\":\"white\",\"ticks\":\"\",\"title\":{\"standoff\":15},\"zerolinecolor\":\"white\",\"automargin\":true,\"zerolinewidth\":2},\"yaxis\":{\"gridcolor\":\"white\",\"linecolor\":\"white\",\"ticks\":\"\",\"title\":{\"standoff\":15},\"zerolinecolor\":\"white\",\"automargin\":true,\"zerolinewidth\":2},\"scene\":{\"xaxis\":{\"backgroundcolor\":\"#E5ECF6\",\"gridcolor\":\"white\",\"linecolor\":\"white\",\"showbackground\":true,\"ticks\":\"\",\"zerolinecolor\":\"white\",\"gridwidth\":2},\"yaxis\":{\"backgroundcolor\":\"#E5ECF6\",\"gridcolor\":\"white\",\"linecolor\":\"white\",\"showbackground\":true,\"ticks\":\"\",\"zerolinecolor\":\"white\",\"gridwidth\":2},\"zaxis\":{\"backgroundcolor\":\"#E5ECF6\",\"gridcolor\":\"white\",\"linecolor\":\"white\",\"showbackground\":true,\"ticks\":\"\",\"zerolinecolor\":\"white\",\"gridwidth\":2}},\"shapedefaults\":{\"line\":{\"color\":\"#2a3f5f\"}},\"annotationdefaults\":{\"arrowcolor\":\"#2a3f5f\",\"arrowhead\":0,\"arrowwidth\":1},\"geo\":{\"bgcolor\":\"white\",\"landcolor\":\"#E5ECF6\",\"subunitcolor\":\"white\",\"showland\":true,\"showlakes\":true,\"lakecolor\":\"white\"},\"title\":{\"x\":0.05},\"mapbox\":{\"style\":\"light\"}}},\"xaxis\":{\"anchor\":\"y\",\"domain\":[0.0,1.0],\"title\":{\"text\":\"Clientes no sistema\"}},\"yaxis\":{\"anchor\":\"x\",\"domain\":[0.0,1.0],\"title\":{\"text\":\"count\"}},\"legend\":{\"tracegroupgap\":0},\"margin\":{\"t\":60},\"barmode\":\"relative\"},                        {\"responsive\": true}                    ).then(function(){\n",
              "                            \n",
              "var gd = document.getElementById('21f737a7-18ef-4d46-8e03-45e52d2d629b');\n",
              "var x = new MutationObserver(function (mutations, observer) {{\n",
              "        var display = window.getComputedStyle(gd).display;\n",
              "        if (!display || display === 'none') {{\n",
              "            console.log([gd, 'removed!']);\n",
              "            Plotly.purge(gd);\n",
              "            observer.disconnect();\n",
              "        }}\n",
              "}});\n",
              "\n",
              "// Listen for the removal of the full notebook cells\n",
              "var notebookContainer = gd.closest('#notebook-container');\n",
              "if (notebookContainer) {{\n",
              "    x.observe(notebookContainer, {childList: true});\n",
              "}}\n",
              "\n",
              "// Listen for the clearing of the current output cell\n",
              "var outputEl = gd.closest('.output');\n",
              "if (outputEl) {{\n",
              "    x.observe(outputEl, {childList: true});\n",
              "}}\n",
              "\n",
              "                        })                };                            </script>        </div>\n",
              "</body>\n",
              "</html>"
            ]
          },
          "metadata": {}
        }
      ]
    },
    {
      "cell_type": "markdown",
      "source": [
        "### Cenário 2\n",
        "\n",
        "$λ=2$ e $μ=4$"
      ],
      "metadata": {
        "id": "rPSnQ0OgvXv-"
      }
    },
    {
      "cell_type": "markdown",
      "source": [
        "#### Simulador 1"
      ],
      "metadata": {
        "id": "y-UTZbFGF5Xs"
      }
    },
    {
      "cell_type": "code",
      "source": [
        "tempo_espera, clientes_sistema = n_simulacoes(300, 2, 4, 1000, simulador1)"
      ],
      "metadata": {
        "id": "E8ww3YUuF5YH"
      },
      "execution_count": 46,
      "outputs": []
    },
    {
      "cell_type": "markdown",
      "source": [
        "##### Tempo de espera\n",
        "\n"
      ],
      "metadata": {
        "id": "WHMU0zs8F5YI"
      }
    },
    {
      "cell_type": "code",
      "source": [
        "print(f'Intervalo de confiança: {intervalo_confianca(tempo_espera)}')\n",
        "print(f'Média: {np.mean(tempo_espera)}\\n')\n",
        "\n",
        "plotar_histograma(tempo_espera, 'Tempo de espera')"
      ],
      "metadata": {
        "colab": {
          "base_uri": "https://localhost:8080/",
          "height": 594
        },
        "outputId": "ee329ef4-3d7b-430a-a123-9453f83e3a59",
        "id": "fF3emAyKF5YI"
      },
      "execution_count": 47,
      "outputs": [
        {
          "output_type": "stream",
          "name": "stdout",
          "text": [
            "Intervalo de confiança: (0.4052268021904245, 0.5868061996693846)\n",
            "Média: 0.49601650092990457\n",
            "\n"
          ]
        },
        {
          "output_type": "display_data",
          "data": {
            "text/html": [
              "<html>\n",
              "<head><meta charset=\"utf-8\" /></head>\n",
              "<body>\n",
              "    <div>            <script src=\"https://cdnjs.cloudflare.com/ajax/libs/mathjax/2.7.5/MathJax.js?config=TeX-AMS-MML_SVG\"></script><script type=\"text/javascript\">if (window.MathJax && window.MathJax.Hub && window.MathJax.Hub.Config) {window.MathJax.Hub.Config({SVG: {font: \"STIX-Web\"}});}</script>                <script type=\"text/javascript\">window.PlotlyConfig = {MathJaxConfig: 'local'};</script>\n",
              "        <script src=\"https://cdn.plot.ly/plotly-2.18.2.min.js\"></script>                <div id=\"ead95c4b-7ed6-4666-acfa-5acd585e0d9e\" class=\"plotly-graph-div\" style=\"height:525px; width:100%;\"></div>            <script type=\"text/javascript\">                                    window.PLOTLYENV=window.PLOTLYENV || {};                                    if (document.getElementById(\"ead95c4b-7ed6-4666-acfa-5acd585e0d9e\")) {                    Plotly.newPlot(                        \"ead95c4b-7ed6-4666-acfa-5acd585e0d9e\",                        [{\"alignmentgroup\":\"True\",\"bingroup\":\"x\",\"hovertemplate\":\"Tempo de espera=%{x}<br>count=%{y}<extra></extra>\",\"legendgroup\":\"\",\"marker\":{\"color\":\"#636efa\",\"pattern\":{\"shape\":\"\"}},\"name\":\"\",\"offsetgroup\":\"\",\"orientation\":\"v\",\"showlegend\":false,\"x\":[0.5360625526156624,0.5486834022789736,0.4789574066336254,0.46069197525605426,0.48897332846964314,0.5130472241134989,0.5452893405323495,0.5038597391679844,0.4607180049270373,0.44079461545396514,0.5693720547498154,0.5353154405824814,0.5146353339756825,0.42648122410101375,0.4946819406643664,0.534741018370092,0.5201654829730872,0.4676741451458043,0.4829052445054501,0.5893015521645971,0.4893080136653585,0.4439830297719176,0.5026391087543289,0.46927817009480993,0.4795283990220432,0.5226551399604463,0.472455914099442,0.4198859787563694,0.5699337154395933,0.43881547290503836,0.45679821228667983,0.5392342294669286,0.48005338460120933,0.4829027715744964,0.506919787647283,0.4595518725626806,0.4551358674418542,0.5192850487792445,0.4835755807065565,0.4766967671290321,0.43103677467655344,0.5040901591480345,0.5273887579647423,0.5002465164389845,0.547239412935636,0.483027085917675,0.7145504773337245,0.4903181471804815,0.4930118791755605,0.4407585768102049,0.47449417881599165,0.4975459233595098,0.4721860043543922,0.6766215779737562,0.4604719303071413,0.5687400477517647,0.4846214076636244,0.5756115092769277,0.4536197401232502,0.4394110345198157,0.48213928594270655,0.5110340279830414,0.4552195150097769,0.4927256249407155,0.5181549273410988,0.4641830749783129,0.4746455574237164,0.5494940006212379,0.48496824232297386,0.45313674008973753,0.4525831228511256,0.5806185486400927,0.4421742864946971,0.5100075751030189,0.5049829993463196,0.5785401043577549,0.5373977218966667,0.47228008179915737,0.4095706821557482,0.46885162497878,0.5050602308497757,0.5041199967852069,0.5702950956021725,0.5422039744744804,0.535697011921272,0.5403723162672791,0.4595947825075188,0.5422282096234243,0.5094184649293548,0.5425330226934929,0.6088977833565389,0.5094655761480851,0.4278601348977898,0.4539217999890118,0.4604362900876117,0.5418507056015287,0.45057593460759043,0.5293552276601531,0.4823099499450851,0.5138016944837978,0.4738734830514757,0.5267373438506907,0.4888090175392839,0.49672352704320716,0.4776175666866376,0.47402758184638116,0.43742447114154986,0.5148466586559005,0.4867202723935016,0.5220343836486256,0.48730510762127854,0.4707452993189342,0.43124377444109396,0.4808863954818661,0.5303600600384716,0.5641388990088737,0.4945401383295655,0.4608197659226847,0.4887408650484495,0.490475906941319,0.5263268174818055,0.4444124994079737,0.4860996238242933,0.5198508404670784,0.5444083271105916,0.5241138511446795,0.4824176205182249,0.5978186558419988,0.5353394039672558,0.4474363877834377,0.4694785793107622,0.4510910480815964,0.47176645160171893,0.5232616045941281,0.45224494855674485,0.4718995174085684,0.4777006132727776,0.522604433623977,0.5420787530016374,0.46198683836825677,0.49406604890961875,0.5211811434283902,0.46757910671745073,0.5542449334723547,0.569808573080128,0.44750058416623695,0.5421814178169831,0.45612631332274967,0.552354923519865,0.4934991160260773,0.43477673677987616,0.45201308426269154,0.498369236995119,0.5325404896126773,0.49963615770413183,0.49350228414337366,0.4660858789763485,0.5088896347219509,0.5122559311042799,0.4857592624459784,0.49567616309490065,0.4694601524162381,0.4732966117809473,0.4619366020859139,0.5178854430570684,0.5695432623106775,0.5168428785059618,0.4397507056367662,0.4497706209802912,0.6617047317158361,0.45460867468074906,0.5031454872409004,0.4936603524101915,0.5179622118075865,0.631663280558241,0.5007665825799227,0.4676386625266716,0.5024123269313318,0.45505104114876155,0.43378573496523315,0.4992222220214934,0.45352172679078,0.47510633241286226,0.422602007944235,0.5453667857243979,0.5080517480505184,0.5486303629531614,0.4811784014619674,0.49401855503129466,0.5516962901456907,0.47846155761231357,0.5107214053570257,0.4894018664244728,0.40661395759082125,0.45874659242161986,0.5537446782634464,0.4306015878033863,0.5114424788455962,0.46673751332737595,0.44534501629854084,0.49564483484187755,0.4858597919566419,0.5190368418190898,0.4628751425102905,0.49875657566721,0.5144796851933627,0.43504323851520965,0.435997728536659,0.48983584123312357,0.4432570065061558,0.524016775332373,0.4482611274738369,0.49682972246107493,0.49653193723463895,0.49907045333091477,0.4833633599747059,0.49878018980872185,0.5262576686214527,0.5196293345873443,0.43885339532162354,0.4853911358722922,0.5002094779889322,0.42604449228554464,0.4618259635266727,0.4527665486369609,0.4368554177846288,0.4653637412664907,0.46986236792161545,0.49467085276827616,0.4607099437429759,0.515786949264834,0.47477378206557586,0.4649783016814525,0.5035592877425838,0.48843423790629037,0.436320774483849,0.5808894726776012,0.5010888942148589,0.4766133559772445,0.40224514160173686,0.506067770382842,0.5196824951692021,0.5862167024064077,0.6849077286819409,0.48817545935874934,0.532953616205116,0.5136592561692334,0.5802472391002225,0.5067826532320282,0.5077046056435712,0.42582520617120506,0.43548772917344275,0.5308186492503777,0.5623044132270959,0.5199313961468089,0.4962777207716406,0.4677683184438067,0.49250511547663983,0.4724740104972173,0.5733134463593283,0.5989090147352228,0.5046323673270657,0.6192067522184265,0.46198137215025337,0.45043694987992927,0.5143013196664774,0.4446538143612264,0.4876479639962514,0.46685930096224876,0.4692538327806486,0.4672932024906369,0.44652672058962084,0.5087797137307682,0.4959940312595141,0.5189653884118469,0.49784098352758993,0.47562492933412887,0.42384892641599786,0.5319951837947351,0.47721196793882037,0.4934742452675293,0.48893679060933837,0.47466352945472257,0.5096019587686462,0.43444759359695817,0.4896667595566415,0.5015104101886734,0.46057718051249424,0.47742263153655967,0.46488586966898876,0.554759849623333,0.5117323099119064,0.428433132310492,0.517328729913028,0.4484388718670981,0.4850006170326559,0.4668291380239462,0.5629737808674643,0.5001103256539889,0.4890831135510074],\"xaxis\":\"x\",\"yaxis\":\"y\",\"type\":\"histogram\"}],                        {\"template\":{\"data\":{\"histogram2dcontour\":[{\"type\":\"histogram2dcontour\",\"colorbar\":{\"outlinewidth\":0,\"ticks\":\"\"},\"colorscale\":[[0.0,\"#0d0887\"],[0.1111111111111111,\"#46039f\"],[0.2222222222222222,\"#7201a8\"],[0.3333333333333333,\"#9c179e\"],[0.4444444444444444,\"#bd3786\"],[0.5555555555555556,\"#d8576b\"],[0.6666666666666666,\"#ed7953\"],[0.7777777777777778,\"#fb9f3a\"],[0.8888888888888888,\"#fdca26\"],[1.0,\"#f0f921\"]]}],\"choropleth\":[{\"type\":\"choropleth\",\"colorbar\":{\"outlinewidth\":0,\"ticks\":\"\"}}],\"histogram2d\":[{\"type\":\"histogram2d\",\"colorbar\":{\"outlinewidth\":0,\"ticks\":\"\"},\"colorscale\":[[0.0,\"#0d0887\"],[0.1111111111111111,\"#46039f\"],[0.2222222222222222,\"#7201a8\"],[0.3333333333333333,\"#9c179e\"],[0.4444444444444444,\"#bd3786\"],[0.5555555555555556,\"#d8576b\"],[0.6666666666666666,\"#ed7953\"],[0.7777777777777778,\"#fb9f3a\"],[0.8888888888888888,\"#fdca26\"],[1.0,\"#f0f921\"]]}],\"heatmap\":[{\"type\":\"heatmap\",\"colorbar\":{\"outlinewidth\":0,\"ticks\":\"\"},\"colorscale\":[[0.0,\"#0d0887\"],[0.1111111111111111,\"#46039f\"],[0.2222222222222222,\"#7201a8\"],[0.3333333333333333,\"#9c179e\"],[0.4444444444444444,\"#bd3786\"],[0.5555555555555556,\"#d8576b\"],[0.6666666666666666,\"#ed7953\"],[0.7777777777777778,\"#fb9f3a\"],[0.8888888888888888,\"#fdca26\"],[1.0,\"#f0f921\"]]}],\"heatmapgl\":[{\"type\":\"heatmapgl\",\"colorbar\":{\"outlinewidth\":0,\"ticks\":\"\"},\"colorscale\":[[0.0,\"#0d0887\"],[0.1111111111111111,\"#46039f\"],[0.2222222222222222,\"#7201a8\"],[0.3333333333333333,\"#9c179e\"],[0.4444444444444444,\"#bd3786\"],[0.5555555555555556,\"#d8576b\"],[0.6666666666666666,\"#ed7953\"],[0.7777777777777778,\"#fb9f3a\"],[0.8888888888888888,\"#fdca26\"],[1.0,\"#f0f921\"]]}],\"contourcarpet\":[{\"type\":\"contourcarpet\",\"colorbar\":{\"outlinewidth\":0,\"ticks\":\"\"}}],\"contour\":[{\"type\":\"contour\",\"colorbar\":{\"outlinewidth\":0,\"ticks\":\"\"},\"colorscale\":[[0.0,\"#0d0887\"],[0.1111111111111111,\"#46039f\"],[0.2222222222222222,\"#7201a8\"],[0.3333333333333333,\"#9c179e\"],[0.4444444444444444,\"#bd3786\"],[0.5555555555555556,\"#d8576b\"],[0.6666666666666666,\"#ed7953\"],[0.7777777777777778,\"#fb9f3a\"],[0.8888888888888888,\"#fdca26\"],[1.0,\"#f0f921\"]]}],\"surface\":[{\"type\":\"surface\",\"colorbar\":{\"outlinewidth\":0,\"ticks\":\"\"},\"colorscale\":[[0.0,\"#0d0887\"],[0.1111111111111111,\"#46039f\"],[0.2222222222222222,\"#7201a8\"],[0.3333333333333333,\"#9c179e\"],[0.4444444444444444,\"#bd3786\"],[0.5555555555555556,\"#d8576b\"],[0.6666666666666666,\"#ed7953\"],[0.7777777777777778,\"#fb9f3a\"],[0.8888888888888888,\"#fdca26\"],[1.0,\"#f0f921\"]]}],\"mesh3d\":[{\"type\":\"mesh3d\",\"colorbar\":{\"outlinewidth\":0,\"ticks\":\"\"}}],\"scatter\":[{\"fillpattern\":{\"fillmode\":\"overlay\",\"size\":10,\"solidity\":0.2},\"type\":\"scatter\"}],\"parcoords\":[{\"type\":\"parcoords\",\"line\":{\"colorbar\":{\"outlinewidth\":0,\"ticks\":\"\"}}}],\"scatterpolargl\":[{\"type\":\"scatterpolargl\",\"marker\":{\"colorbar\":{\"outlinewidth\":0,\"ticks\":\"\"}}}],\"bar\":[{\"error_x\":{\"color\":\"#2a3f5f\"},\"error_y\":{\"color\":\"#2a3f5f\"},\"marker\":{\"line\":{\"color\":\"#E5ECF6\",\"width\":0.5},\"pattern\":{\"fillmode\":\"overlay\",\"size\":10,\"solidity\":0.2}},\"type\":\"bar\"}],\"scattergeo\":[{\"type\":\"scattergeo\",\"marker\":{\"colorbar\":{\"outlinewidth\":0,\"ticks\":\"\"}}}],\"scatterpolar\":[{\"type\":\"scatterpolar\",\"marker\":{\"colorbar\":{\"outlinewidth\":0,\"ticks\":\"\"}}}],\"histogram\":[{\"marker\":{\"pattern\":{\"fillmode\":\"overlay\",\"size\":10,\"solidity\":0.2}},\"type\":\"histogram\"}],\"scattergl\":[{\"type\":\"scattergl\",\"marker\":{\"colorbar\":{\"outlinewidth\":0,\"ticks\":\"\"}}}],\"scatter3d\":[{\"type\":\"scatter3d\",\"line\":{\"colorbar\":{\"outlinewidth\":0,\"ticks\":\"\"}},\"marker\":{\"colorbar\":{\"outlinewidth\":0,\"ticks\":\"\"}}}],\"scattermapbox\":[{\"type\":\"scattermapbox\",\"marker\":{\"colorbar\":{\"outlinewidth\":0,\"ticks\":\"\"}}}],\"scatterternary\":[{\"type\":\"scatterternary\",\"marker\":{\"colorbar\":{\"outlinewidth\":0,\"ticks\":\"\"}}}],\"scattercarpet\":[{\"type\":\"scattercarpet\",\"marker\":{\"colorbar\":{\"outlinewidth\":0,\"ticks\":\"\"}}}],\"carpet\":[{\"aaxis\":{\"endlinecolor\":\"#2a3f5f\",\"gridcolor\":\"white\",\"linecolor\":\"white\",\"minorgridcolor\":\"white\",\"startlinecolor\":\"#2a3f5f\"},\"baxis\":{\"endlinecolor\":\"#2a3f5f\",\"gridcolor\":\"white\",\"linecolor\":\"white\",\"minorgridcolor\":\"white\",\"startlinecolor\":\"#2a3f5f\"},\"type\":\"carpet\"}],\"table\":[{\"cells\":{\"fill\":{\"color\":\"#EBF0F8\"},\"line\":{\"color\":\"white\"}},\"header\":{\"fill\":{\"color\":\"#C8D4E3\"},\"line\":{\"color\":\"white\"}},\"type\":\"table\"}],\"barpolar\":[{\"marker\":{\"line\":{\"color\":\"#E5ECF6\",\"width\":0.5},\"pattern\":{\"fillmode\":\"overlay\",\"size\":10,\"solidity\":0.2}},\"type\":\"barpolar\"}],\"pie\":[{\"automargin\":true,\"type\":\"pie\"}]},\"layout\":{\"autotypenumbers\":\"strict\",\"colorway\":[\"#636efa\",\"#EF553B\",\"#00cc96\",\"#ab63fa\",\"#FFA15A\",\"#19d3f3\",\"#FF6692\",\"#B6E880\",\"#FF97FF\",\"#FECB52\"],\"font\":{\"color\":\"#2a3f5f\"},\"hovermode\":\"closest\",\"hoverlabel\":{\"align\":\"left\"},\"paper_bgcolor\":\"white\",\"plot_bgcolor\":\"#E5ECF6\",\"polar\":{\"bgcolor\":\"#E5ECF6\",\"angularaxis\":{\"gridcolor\":\"white\",\"linecolor\":\"white\",\"ticks\":\"\"},\"radialaxis\":{\"gridcolor\":\"white\",\"linecolor\":\"white\",\"ticks\":\"\"}},\"ternary\":{\"bgcolor\":\"#E5ECF6\",\"aaxis\":{\"gridcolor\":\"white\",\"linecolor\":\"white\",\"ticks\":\"\"},\"baxis\":{\"gridcolor\":\"white\",\"linecolor\":\"white\",\"ticks\":\"\"},\"caxis\":{\"gridcolor\":\"white\",\"linecolor\":\"white\",\"ticks\":\"\"}},\"coloraxis\":{\"colorbar\":{\"outlinewidth\":0,\"ticks\":\"\"}},\"colorscale\":{\"sequential\":[[0.0,\"#0d0887\"],[0.1111111111111111,\"#46039f\"],[0.2222222222222222,\"#7201a8\"],[0.3333333333333333,\"#9c179e\"],[0.4444444444444444,\"#bd3786\"],[0.5555555555555556,\"#d8576b\"],[0.6666666666666666,\"#ed7953\"],[0.7777777777777778,\"#fb9f3a\"],[0.8888888888888888,\"#fdca26\"],[1.0,\"#f0f921\"]],\"sequentialminus\":[[0.0,\"#0d0887\"],[0.1111111111111111,\"#46039f\"],[0.2222222222222222,\"#7201a8\"],[0.3333333333333333,\"#9c179e\"],[0.4444444444444444,\"#bd3786\"],[0.5555555555555556,\"#d8576b\"],[0.6666666666666666,\"#ed7953\"],[0.7777777777777778,\"#fb9f3a\"],[0.8888888888888888,\"#fdca26\"],[1.0,\"#f0f921\"]],\"diverging\":[[0,\"#8e0152\"],[0.1,\"#c51b7d\"],[0.2,\"#de77ae\"],[0.3,\"#f1b6da\"],[0.4,\"#fde0ef\"],[0.5,\"#f7f7f7\"],[0.6,\"#e6f5d0\"],[0.7,\"#b8e186\"],[0.8,\"#7fbc41\"],[0.9,\"#4d9221\"],[1,\"#276419\"]]},\"xaxis\":{\"gridcolor\":\"white\",\"linecolor\":\"white\",\"ticks\":\"\",\"title\":{\"standoff\":15},\"zerolinecolor\":\"white\",\"automargin\":true,\"zerolinewidth\":2},\"yaxis\":{\"gridcolor\":\"white\",\"linecolor\":\"white\",\"ticks\":\"\",\"title\":{\"standoff\":15},\"zerolinecolor\":\"white\",\"automargin\":true,\"zerolinewidth\":2},\"scene\":{\"xaxis\":{\"backgroundcolor\":\"#E5ECF6\",\"gridcolor\":\"white\",\"linecolor\":\"white\",\"showbackground\":true,\"ticks\":\"\",\"zerolinecolor\":\"white\",\"gridwidth\":2},\"yaxis\":{\"backgroundcolor\":\"#E5ECF6\",\"gridcolor\":\"white\",\"linecolor\":\"white\",\"showbackground\":true,\"ticks\":\"\",\"zerolinecolor\":\"white\",\"gridwidth\":2},\"zaxis\":{\"backgroundcolor\":\"#E5ECF6\",\"gridcolor\":\"white\",\"linecolor\":\"white\",\"showbackground\":true,\"ticks\":\"\",\"zerolinecolor\":\"white\",\"gridwidth\":2}},\"shapedefaults\":{\"line\":{\"color\":\"#2a3f5f\"}},\"annotationdefaults\":{\"arrowcolor\":\"#2a3f5f\",\"arrowhead\":0,\"arrowwidth\":1},\"geo\":{\"bgcolor\":\"white\",\"landcolor\":\"#E5ECF6\",\"subunitcolor\":\"white\",\"showland\":true,\"showlakes\":true,\"lakecolor\":\"white\"},\"title\":{\"x\":0.05},\"mapbox\":{\"style\":\"light\"}}},\"xaxis\":{\"anchor\":\"y\",\"domain\":[0.0,1.0],\"title\":{\"text\":\"Tempo de espera\"}},\"yaxis\":{\"anchor\":\"x\",\"domain\":[0.0,1.0],\"title\":{\"text\":\"count\"}},\"legend\":{\"tracegroupgap\":0},\"margin\":{\"t\":60},\"barmode\":\"relative\"},                        {\"responsive\": true}                    ).then(function(){\n",
              "                            \n",
              "var gd = document.getElementById('ead95c4b-7ed6-4666-acfa-5acd585e0d9e');\n",
              "var x = new MutationObserver(function (mutations, observer) {{\n",
              "        var display = window.getComputedStyle(gd).display;\n",
              "        if (!display || display === 'none') {{\n",
              "            console.log([gd, 'removed!']);\n",
              "            Plotly.purge(gd);\n",
              "            observer.disconnect();\n",
              "        }}\n",
              "}});\n",
              "\n",
              "// Listen for the removal of the full notebook cells\n",
              "var notebookContainer = gd.closest('#notebook-container');\n",
              "if (notebookContainer) {{\n",
              "    x.observe(notebookContainer, {childList: true});\n",
              "}}\n",
              "\n",
              "// Listen for the clearing of the current output cell\n",
              "var outputEl = gd.closest('.output');\n",
              "if (outputEl) {{\n",
              "    x.observe(outputEl, {childList: true});\n",
              "}}\n",
              "\n",
              "                        })                };                            </script>        </div>\n",
              "</body>\n",
              "</html>"
            ]
          },
          "metadata": {}
        }
      ]
    },
    {
      "cell_type": "markdown",
      "source": [
        "##### Clientes no sistema"
      ],
      "metadata": {
        "id": "n1XRokXRF5YJ"
      }
    },
    {
      "cell_type": "code",
      "source": [
        "print(f'Intervalo de confiança: {intervalo_confianca(clientes_sistema)}')\n",
        "print(f'Média: {np.mean(clientes_sistema)}\\n')\n",
        "\n",
        "plotar_histograma(clientes_sistema, 'Clientes no sistema')"
      ],
      "metadata": {
        "colab": {
          "base_uri": "https://localhost:8080/",
          "height": 594
        },
        "outputId": "4b00efd8-2507-49a0-9cc6-bf56b22dc24e",
        "id": "gKBJINGiF5YJ"
      },
      "execution_count": 48,
      "outputs": [
        {
          "output_type": "stream",
          "name": "stdout",
          "text": [
            "Intervalo de confiança: (0.7898314874636875, 1.2024440253955295)\n",
            "Média: 0.9961377564296086\n",
            "\n"
          ]
        },
        {
          "output_type": "display_data",
          "data": {
            "text/html": [
              "<html>\n",
              "<head><meta charset=\"utf-8\" /></head>\n",
              "<body>\n",
              "    <div>            <script src=\"https://cdnjs.cloudflare.com/ajax/libs/mathjax/2.7.5/MathJax.js?config=TeX-AMS-MML_SVG\"></script><script type=\"text/javascript\">if (window.MathJax && window.MathJax.Hub && window.MathJax.Hub.Config) {window.MathJax.Hub.Config({SVG: {font: \"STIX-Web\"}});}</script>                <script type=\"text/javascript\">window.PlotlyConfig = {MathJaxConfig: 'local'};</script>\n",
              "        <script src=\"https://cdn.plot.ly/plotly-2.18.2.min.js\"></script>                <div id=\"28cd571c-1142-42b9-a71b-5dd80a0b32fc\" class=\"plotly-graph-div\" style=\"height:525px; width:100%;\"></div>            <script type=\"text/javascript\">                                    window.PLOTLYENV=window.PLOTLYENV || {};                                    if (document.getElementById(\"28cd571c-1142-42b9-a71b-5dd80a0b32fc\")) {                    Plotly.newPlot(                        \"28cd571c-1142-42b9-a71b-5dd80a0b32fc\",                        [{\"alignmentgroup\":\"True\",\"bingroup\":\"x\",\"hovertemplate\":\"Clientes no sistema=%{x}<br>count=%{y}<extra></extra>\",\"legendgroup\":\"\",\"marker\":{\"color\":\"#636efa\",\"pattern\":{\"shape\":\"\"}},\"name\":\"\",\"offsetgroup\":\"\",\"orientation\":\"v\",\"showlegend\":false,\"x\":[1.071669685835486,1.0948545915351937,0.9851794519976278,0.9289732736996603,1.013770674439416,1.0660050465276305,1.1540891249489942,0.989021946153088,0.954042899202856,0.8511374227860947,1.1722575080968411,1.093097258330441,1.056547293639407,0.8511282879275874,0.988373947188404,1.0706484945487984,1.0116419563189714,0.9218559683227016,1.0107241850169468,1.1553719541803478,1.0208772707423888,0.9250518053681175,1.048238233772674,0.9460724527134806,0.9715719153557038,1.0267106616877792,0.9512656714188901,0.8596882519506323,1.1851194061898063,0.8296071996518498,0.9146001062536189,1.0789823401261183,0.9673449613139399,0.9612167890864041,1.0324930598666489,0.9174291563975656,0.9117081718510119,1.039790207569382,0.9396982812399478,0.9420492824608452,0.8319663557227464,1.0357326402636289,1.066361185665008,1.0092752740842956,1.1064859793242412,0.95715119073643,1.5657705924883794,0.9840848490677973,1.0402133693333282,0.8655801105545845,1.0042941842229673,1.017516558535759,0.9274624251396466,1.3657805514806438,0.8654456033541533,1.16053837566348,0.9595402701700527,1.1964732418808226,0.9096571030169409,0.8935697392828587,0.9661592297290371,0.9974088147127311,0.9276593223548499,1.0089649211712546,1.002437796839299,0.9321444332119848,0.9876560359467237,1.1216802455962755,0.9321022910069823,0.8912077108531978,0.9081874234893877,1.2138433584715593,0.8916212903920177,1.01245476615822,1.0250281903815401,1.1887649751557274,1.051790952618081,0.9230857612950054,0.7887760767263253,0.9811316101492343,0.9681301610925833,1.046858298683151,1.1829098264719622,1.0928107557227695,1.0991246699769557,1.0495227112749184,0.9250666497910672,1.0656170361550958,1.0408980059240953,1.0463380759461371,1.2685815763477557,0.9684285821323965,0.847118283239536,0.8718864996390516,0.9251084958026313,1.114298965426055,0.9528279836620981,1.0492453495500464,0.9851774071952228,1.1133228320884065,0.9448050662566286,1.093897535506955,1.0002107738858323,0.9292802093070934,0.9889683148594076,0.9114091445758444,0.8418141255950529,1.04786786840926,0.9525399799064189,1.0068848794438559,0.994865064587099,1.0093629632100225,0.8604957614985157,0.9635448819793386,1.0550584644424204,1.1587531460451892,1.0174500587612434,0.8495960086217251,1.027523348738889,0.9996327441424893,1.080126694331668,0.8733001712863487,0.98316509701964,1.0912120796679223,1.0787062672595342,1.0687265015231568,0.9895082374142856,1.2476030958287319,1.1024073522914566,0.9041116703112468,0.9029723658143055,0.901648956046881,0.921610112299723,1.0114377743184753,0.8459258739666042,0.9590289677339727,0.9671361282730505,1.0477383102118347,1.0437477315103603,0.9371450485737353,0.9715179097207453,1.0791790225349234,0.960658779616593,1.0803885229514902,1.086030717081364,0.8654244195716051,1.0986087817535894,0.9238859165197185,1.111562055538978,0.977604200938773,0.8942078038902187,0.8882190043719737,0.9574978132503589,1.087092069561638,0.9661901280065548,0.9948625305178611,0.9208200814062055,1.0691032021350215,1.07934956831047,0.9667065135455409,0.9798460484779465,0.9928722495903051,0.9450711218800223,0.9199884541040706,1.0524678617327705,1.1877006691845557,1.0338840171777282,0.8661009703506944,0.8829426821407161,1.385108964312044,0.9227962237714528,1.0039583065494306,0.9660693240426089,0.9987660198760251,1.2288656716730764,1.0237364005073006,0.9410516342277163,1.0513034108884876,0.9011389933007614,0.8743687089816631,1.0161627395099455,0.8899757455024596,0.9438028126935074,0.7762411799664729,1.1209712768416011,0.996898777471384,1.035148656633644,0.9778491885710755,1.0187859874777507,1.092616708823173,0.9586299571884881,0.9948508798081435,0.9974805621170741,0.7880802523575348,0.9324607215512464,1.1309644500478695,0.8443463431391446,1.0480425347500804,0.9308414124883113,0.9235511948645161,1.0033101600663281,0.9453544998189656,1.052540167550823,0.8869978550836017,1.0329028065967496,0.9717527967715431,0.865391692068419,0.8510851787053054,1.007066435728324,0.8679739946775408,1.049215042561166,0.9047460793548177,1.0322535669099488,0.9436161759064918,0.9869671079118696,0.938507574628202,1.00905361410331,1.0638042572528874,1.0357523160677247,0.8871031420370158,0.9829214871888422,1.031079749638158,0.8571597417219656,0.8837562953120853,0.9157262923741103,0.8153572153431459,0.9326601243610773,0.9291436097395213,0.9978937906557774,0.8967259027156192,1.022493598688514,0.964561067933859,0.9388966218704865,1.055521834432193,0.9732790915176085,0.9031360275141253,1.1791438123641933,1.0001894673736504,0.9540516316778344,0.7658928115628201,1.0267177304473525,1.034699723595514,1.186431030790703,1.3824710047687174,0.9755859819626418,1.0680301989688117,1.0674431335642112,1.222220966432417,1.0294403450908336,1.0164472723522233,0.8525091607159733,0.8866567954796165,1.0299133255072652,1.170197885968819,1.0507133250326306,1.0494305095669056,0.9236003073311668,0.9848258740679988,0.9155297692318266,1.1514227917648732,1.2615596002017222,0.9866122916750363,1.254095214955348,0.9522507996617757,0.8680534575348229,0.9726028022400887,0.894482074441943,0.9694466530449015,0.9302389459125214,0.9478514707432184,0.9148923366143429,0.936319436705683,1.0412694408122447,1.0419891291677803,1.052380662761319,0.9951452706448783,0.9275966903284166,0.8287309048714939,1.0982003625773844,0.9356020077765539,0.9507857806820877,0.9547362636249593,0.935479093592692,1.0245763450260394,0.893877186694934,0.9971224634833875,1.0189570367906988,0.9152560948505893,0.9665568842639214,0.9029248125690009,1.124431273029145,1.0238542606493677,0.8807009813574018,1.0472079061880915,0.8705957082969568,0.9717182580416874,0.936207260200359,1.1265120827153718,0.9501871896867279,0.9769986247054522],\"xaxis\":\"x\",\"yaxis\":\"y\",\"type\":\"histogram\"}],                        {\"template\":{\"data\":{\"histogram2dcontour\":[{\"type\":\"histogram2dcontour\",\"colorbar\":{\"outlinewidth\":0,\"ticks\":\"\"},\"colorscale\":[[0.0,\"#0d0887\"],[0.1111111111111111,\"#46039f\"],[0.2222222222222222,\"#7201a8\"],[0.3333333333333333,\"#9c179e\"],[0.4444444444444444,\"#bd3786\"],[0.5555555555555556,\"#d8576b\"],[0.6666666666666666,\"#ed7953\"],[0.7777777777777778,\"#fb9f3a\"],[0.8888888888888888,\"#fdca26\"],[1.0,\"#f0f921\"]]}],\"choropleth\":[{\"type\":\"choropleth\",\"colorbar\":{\"outlinewidth\":0,\"ticks\":\"\"}}],\"histogram2d\":[{\"type\":\"histogram2d\",\"colorbar\":{\"outlinewidth\":0,\"ticks\":\"\"},\"colorscale\":[[0.0,\"#0d0887\"],[0.1111111111111111,\"#46039f\"],[0.2222222222222222,\"#7201a8\"],[0.3333333333333333,\"#9c179e\"],[0.4444444444444444,\"#bd3786\"],[0.5555555555555556,\"#d8576b\"],[0.6666666666666666,\"#ed7953\"],[0.7777777777777778,\"#fb9f3a\"],[0.8888888888888888,\"#fdca26\"],[1.0,\"#f0f921\"]]}],\"heatmap\":[{\"type\":\"heatmap\",\"colorbar\":{\"outlinewidth\":0,\"ticks\":\"\"},\"colorscale\":[[0.0,\"#0d0887\"],[0.1111111111111111,\"#46039f\"],[0.2222222222222222,\"#7201a8\"],[0.3333333333333333,\"#9c179e\"],[0.4444444444444444,\"#bd3786\"],[0.5555555555555556,\"#d8576b\"],[0.6666666666666666,\"#ed7953\"],[0.7777777777777778,\"#fb9f3a\"],[0.8888888888888888,\"#fdca26\"],[1.0,\"#f0f921\"]]}],\"heatmapgl\":[{\"type\":\"heatmapgl\",\"colorbar\":{\"outlinewidth\":0,\"ticks\":\"\"},\"colorscale\":[[0.0,\"#0d0887\"],[0.1111111111111111,\"#46039f\"],[0.2222222222222222,\"#7201a8\"],[0.3333333333333333,\"#9c179e\"],[0.4444444444444444,\"#bd3786\"],[0.5555555555555556,\"#d8576b\"],[0.6666666666666666,\"#ed7953\"],[0.7777777777777778,\"#fb9f3a\"],[0.8888888888888888,\"#fdca26\"],[1.0,\"#f0f921\"]]}],\"contourcarpet\":[{\"type\":\"contourcarpet\",\"colorbar\":{\"outlinewidth\":0,\"ticks\":\"\"}}],\"contour\":[{\"type\":\"contour\",\"colorbar\":{\"outlinewidth\":0,\"ticks\":\"\"},\"colorscale\":[[0.0,\"#0d0887\"],[0.1111111111111111,\"#46039f\"],[0.2222222222222222,\"#7201a8\"],[0.3333333333333333,\"#9c179e\"],[0.4444444444444444,\"#bd3786\"],[0.5555555555555556,\"#d8576b\"],[0.6666666666666666,\"#ed7953\"],[0.7777777777777778,\"#fb9f3a\"],[0.8888888888888888,\"#fdca26\"],[1.0,\"#f0f921\"]]}],\"surface\":[{\"type\":\"surface\",\"colorbar\":{\"outlinewidth\":0,\"ticks\":\"\"},\"colorscale\":[[0.0,\"#0d0887\"],[0.1111111111111111,\"#46039f\"],[0.2222222222222222,\"#7201a8\"],[0.3333333333333333,\"#9c179e\"],[0.4444444444444444,\"#bd3786\"],[0.5555555555555556,\"#d8576b\"],[0.6666666666666666,\"#ed7953\"],[0.7777777777777778,\"#fb9f3a\"],[0.8888888888888888,\"#fdca26\"],[1.0,\"#f0f921\"]]}],\"mesh3d\":[{\"type\":\"mesh3d\",\"colorbar\":{\"outlinewidth\":0,\"ticks\":\"\"}}],\"scatter\":[{\"fillpattern\":{\"fillmode\":\"overlay\",\"size\":10,\"solidity\":0.2},\"type\":\"scatter\"}],\"parcoords\":[{\"type\":\"parcoords\",\"line\":{\"colorbar\":{\"outlinewidth\":0,\"ticks\":\"\"}}}],\"scatterpolargl\":[{\"type\":\"scatterpolargl\",\"marker\":{\"colorbar\":{\"outlinewidth\":0,\"ticks\":\"\"}}}],\"bar\":[{\"error_x\":{\"color\":\"#2a3f5f\"},\"error_y\":{\"color\":\"#2a3f5f\"},\"marker\":{\"line\":{\"color\":\"#E5ECF6\",\"width\":0.5},\"pattern\":{\"fillmode\":\"overlay\",\"size\":10,\"solidity\":0.2}},\"type\":\"bar\"}],\"scattergeo\":[{\"type\":\"scattergeo\",\"marker\":{\"colorbar\":{\"outlinewidth\":0,\"ticks\":\"\"}}}],\"scatterpolar\":[{\"type\":\"scatterpolar\",\"marker\":{\"colorbar\":{\"outlinewidth\":0,\"ticks\":\"\"}}}],\"histogram\":[{\"marker\":{\"pattern\":{\"fillmode\":\"overlay\",\"size\":10,\"solidity\":0.2}},\"type\":\"histogram\"}],\"scattergl\":[{\"type\":\"scattergl\",\"marker\":{\"colorbar\":{\"outlinewidth\":0,\"ticks\":\"\"}}}],\"scatter3d\":[{\"type\":\"scatter3d\",\"line\":{\"colorbar\":{\"outlinewidth\":0,\"ticks\":\"\"}},\"marker\":{\"colorbar\":{\"outlinewidth\":0,\"ticks\":\"\"}}}],\"scattermapbox\":[{\"type\":\"scattermapbox\",\"marker\":{\"colorbar\":{\"outlinewidth\":0,\"ticks\":\"\"}}}],\"scatterternary\":[{\"type\":\"scatterternary\",\"marker\":{\"colorbar\":{\"outlinewidth\":0,\"ticks\":\"\"}}}],\"scattercarpet\":[{\"type\":\"scattercarpet\",\"marker\":{\"colorbar\":{\"outlinewidth\":0,\"ticks\":\"\"}}}],\"carpet\":[{\"aaxis\":{\"endlinecolor\":\"#2a3f5f\",\"gridcolor\":\"white\",\"linecolor\":\"white\",\"minorgridcolor\":\"white\",\"startlinecolor\":\"#2a3f5f\"},\"baxis\":{\"endlinecolor\":\"#2a3f5f\",\"gridcolor\":\"white\",\"linecolor\":\"white\",\"minorgridcolor\":\"white\",\"startlinecolor\":\"#2a3f5f\"},\"type\":\"carpet\"}],\"table\":[{\"cells\":{\"fill\":{\"color\":\"#EBF0F8\"},\"line\":{\"color\":\"white\"}},\"header\":{\"fill\":{\"color\":\"#C8D4E3\"},\"line\":{\"color\":\"white\"}},\"type\":\"table\"}],\"barpolar\":[{\"marker\":{\"line\":{\"color\":\"#E5ECF6\",\"width\":0.5},\"pattern\":{\"fillmode\":\"overlay\",\"size\":10,\"solidity\":0.2}},\"type\":\"barpolar\"}],\"pie\":[{\"automargin\":true,\"type\":\"pie\"}]},\"layout\":{\"autotypenumbers\":\"strict\",\"colorway\":[\"#636efa\",\"#EF553B\",\"#00cc96\",\"#ab63fa\",\"#FFA15A\",\"#19d3f3\",\"#FF6692\",\"#B6E880\",\"#FF97FF\",\"#FECB52\"],\"font\":{\"color\":\"#2a3f5f\"},\"hovermode\":\"closest\",\"hoverlabel\":{\"align\":\"left\"},\"paper_bgcolor\":\"white\",\"plot_bgcolor\":\"#E5ECF6\",\"polar\":{\"bgcolor\":\"#E5ECF6\",\"angularaxis\":{\"gridcolor\":\"white\",\"linecolor\":\"white\",\"ticks\":\"\"},\"radialaxis\":{\"gridcolor\":\"white\",\"linecolor\":\"white\",\"ticks\":\"\"}},\"ternary\":{\"bgcolor\":\"#E5ECF6\",\"aaxis\":{\"gridcolor\":\"white\",\"linecolor\":\"white\",\"ticks\":\"\"},\"baxis\":{\"gridcolor\":\"white\",\"linecolor\":\"white\",\"ticks\":\"\"},\"caxis\":{\"gridcolor\":\"white\",\"linecolor\":\"white\",\"ticks\":\"\"}},\"coloraxis\":{\"colorbar\":{\"outlinewidth\":0,\"ticks\":\"\"}},\"colorscale\":{\"sequential\":[[0.0,\"#0d0887\"],[0.1111111111111111,\"#46039f\"],[0.2222222222222222,\"#7201a8\"],[0.3333333333333333,\"#9c179e\"],[0.4444444444444444,\"#bd3786\"],[0.5555555555555556,\"#d8576b\"],[0.6666666666666666,\"#ed7953\"],[0.7777777777777778,\"#fb9f3a\"],[0.8888888888888888,\"#fdca26\"],[1.0,\"#f0f921\"]],\"sequentialminus\":[[0.0,\"#0d0887\"],[0.1111111111111111,\"#46039f\"],[0.2222222222222222,\"#7201a8\"],[0.3333333333333333,\"#9c179e\"],[0.4444444444444444,\"#bd3786\"],[0.5555555555555556,\"#d8576b\"],[0.6666666666666666,\"#ed7953\"],[0.7777777777777778,\"#fb9f3a\"],[0.8888888888888888,\"#fdca26\"],[1.0,\"#f0f921\"]],\"diverging\":[[0,\"#8e0152\"],[0.1,\"#c51b7d\"],[0.2,\"#de77ae\"],[0.3,\"#f1b6da\"],[0.4,\"#fde0ef\"],[0.5,\"#f7f7f7\"],[0.6,\"#e6f5d0\"],[0.7,\"#b8e186\"],[0.8,\"#7fbc41\"],[0.9,\"#4d9221\"],[1,\"#276419\"]]},\"xaxis\":{\"gridcolor\":\"white\",\"linecolor\":\"white\",\"ticks\":\"\",\"title\":{\"standoff\":15},\"zerolinecolor\":\"white\",\"automargin\":true,\"zerolinewidth\":2},\"yaxis\":{\"gridcolor\":\"white\",\"linecolor\":\"white\",\"ticks\":\"\",\"title\":{\"standoff\":15},\"zerolinecolor\":\"white\",\"automargin\":true,\"zerolinewidth\":2},\"scene\":{\"xaxis\":{\"backgroundcolor\":\"#E5ECF6\",\"gridcolor\":\"white\",\"linecolor\":\"white\",\"showbackground\":true,\"ticks\":\"\",\"zerolinecolor\":\"white\",\"gridwidth\":2},\"yaxis\":{\"backgroundcolor\":\"#E5ECF6\",\"gridcolor\":\"white\",\"linecolor\":\"white\",\"showbackground\":true,\"ticks\":\"\",\"zerolinecolor\":\"white\",\"gridwidth\":2},\"zaxis\":{\"backgroundcolor\":\"#E5ECF6\",\"gridcolor\":\"white\",\"linecolor\":\"white\",\"showbackground\":true,\"ticks\":\"\",\"zerolinecolor\":\"white\",\"gridwidth\":2}},\"shapedefaults\":{\"line\":{\"color\":\"#2a3f5f\"}},\"annotationdefaults\":{\"arrowcolor\":\"#2a3f5f\",\"arrowhead\":0,\"arrowwidth\":1},\"geo\":{\"bgcolor\":\"white\",\"landcolor\":\"#E5ECF6\",\"subunitcolor\":\"white\",\"showland\":true,\"showlakes\":true,\"lakecolor\":\"white\"},\"title\":{\"x\":0.05},\"mapbox\":{\"style\":\"light\"}}},\"xaxis\":{\"anchor\":\"y\",\"domain\":[0.0,1.0],\"title\":{\"text\":\"Clientes no sistema\"}},\"yaxis\":{\"anchor\":\"x\",\"domain\":[0.0,1.0],\"title\":{\"text\":\"count\"}},\"legend\":{\"tracegroupgap\":0},\"margin\":{\"t\":60},\"barmode\":\"relative\"},                        {\"responsive\": true}                    ).then(function(){\n",
              "                            \n",
              "var gd = document.getElementById('28cd571c-1142-42b9-a71b-5dd80a0b32fc');\n",
              "var x = new MutationObserver(function (mutations, observer) {{\n",
              "        var display = window.getComputedStyle(gd).display;\n",
              "        if (!display || display === 'none') {{\n",
              "            console.log([gd, 'removed!']);\n",
              "            Plotly.purge(gd);\n",
              "            observer.disconnect();\n",
              "        }}\n",
              "}});\n",
              "\n",
              "// Listen for the removal of the full notebook cells\n",
              "var notebookContainer = gd.closest('#notebook-container');\n",
              "if (notebookContainer) {{\n",
              "    x.observe(notebookContainer, {childList: true});\n",
              "}}\n",
              "\n",
              "// Listen for the clearing of the current output cell\n",
              "var outputEl = gd.closest('.output');\n",
              "if (outputEl) {{\n",
              "    x.observe(outputEl, {childList: true});\n",
              "}}\n",
              "\n",
              "                        })                };                            </script>        </div>\n",
              "</body>\n",
              "</html>"
            ]
          },
          "metadata": {}
        }
      ]
    },
    {
      "cell_type": "markdown",
      "source": [
        "#### Simulador 2"
      ],
      "metadata": {
        "id": "NCCJ6B8aF_lu"
      }
    },
    {
      "cell_type": "code",
      "source": [
        "tempo_espera, clientes_sistema = n_simulacoes(300, 2, 4, 1000, simulador2)"
      ],
      "metadata": {
        "id": "0PHPEEILF_l-"
      },
      "execution_count": 49,
      "outputs": []
    },
    {
      "cell_type": "markdown",
      "source": [
        "##### Tempo de espera\n",
        "\n"
      ],
      "metadata": {
        "id": "6kIDtQ9dF_l-"
      }
    },
    {
      "cell_type": "code",
      "source": [
        "print(f'Intervalo de confiança: {intervalo_confianca(tempo_espera)}')\n",
        "print(f'Média: {np.mean(tempo_espera)}\\n')\n",
        "\n",
        "plotar_histograma(tempo_espera, 'Tempo de espera')"
      ],
      "metadata": {
        "colab": {
          "base_uri": "https://localhost:8080/",
          "height": 594
        },
        "outputId": "daa1ac5a-8737-48d9-bda5-59629aaa77c4",
        "id": "b2Xs4L6bF_l-"
      },
      "execution_count": 50,
      "outputs": [
        {
          "output_type": "stream",
          "name": "stdout",
          "text": [
            "Intervalo de confiança: (0.4059301157626023, 0.5992581305297724)\n",
            "Média: 0.5025941231461873\n",
            "\n"
          ]
        },
        {
          "output_type": "display_data",
          "data": {
            "text/html": [
              "<html>\n",
              "<head><meta charset=\"utf-8\" /></head>\n",
              "<body>\n",
              "    <div>            <script src=\"https://cdnjs.cloudflare.com/ajax/libs/mathjax/2.7.5/MathJax.js?config=TeX-AMS-MML_SVG\"></script><script type=\"text/javascript\">if (window.MathJax && window.MathJax.Hub && window.MathJax.Hub.Config) {window.MathJax.Hub.Config({SVG: {font: \"STIX-Web\"}});}</script>                <script type=\"text/javascript\">window.PlotlyConfig = {MathJaxConfig: 'local'};</script>\n",
              "        <script src=\"https://cdn.plot.ly/plotly-2.18.2.min.js\"></script>                <div id=\"78e79b10-de20-45bf-882b-a8d81a6b41a1\" class=\"plotly-graph-div\" style=\"height:525px; width:100%;\"></div>            <script type=\"text/javascript\">                                    window.PLOTLYENV=window.PLOTLYENV || {};                                    if (document.getElementById(\"78e79b10-de20-45bf-882b-a8d81a6b41a1\")) {                    Plotly.newPlot(                        \"78e79b10-de20-45bf-882b-a8d81a6b41a1\",                        [{\"alignmentgroup\":\"True\",\"bingroup\":\"x\",\"hovertemplate\":\"Tempo de espera=%{x}<br>count=%{y}<extra></extra>\",\"legendgroup\":\"\",\"marker\":{\"color\":\"#636efa\",\"pattern\":{\"shape\":\"\"}},\"name\":\"\",\"offsetgroup\":\"\",\"orientation\":\"v\",\"showlegend\":false,\"x\":[0.44301235455152166,0.4316920106017461,0.642940027438244,0.42704861181956594,0.5246964130511117,0.4860214360955165,0.4599854061545617,0.4568500882363986,0.4836713168857576,0.43229083533126744,0.5381353470617423,0.43132339686157056,0.4852446942731044,0.42480334464489583,0.4846644581541765,0.5208841788133478,0.613146137842892,0.5746458879103556,0.5522532787432621,0.5697638219939053,0.5736083357623778,0.5843911907587003,0.47743408682994376,0.4954995526265867,0.5463590053253401,0.47209647607047406,0.43755590645466735,0.54358353530428,0.44569153859593974,0.5134808013513567,0.43519388632828987,0.48875317595980905,0.5343514617844264,0.5382125869374456,0.5101799526138121,0.6493209850486981,0.49929514382537843,0.5761193966856895,0.4807111857002408,0.5035266262876158,0.44277318966796175,0.4611806202056566,0.46913549151651796,0.5299538875693542,0.4601378414094222,0.6031338994757768,0.4843307056130442,0.5354070554882235,0.47962638188051687,0.44001677571180076,0.588162652922042,0.5428609345130112,0.448599236158356,0.5249081238162012,0.5052784386441728,0.5512625531927137,0.46327144308079676,0.518492489193877,0.5229488094872992,0.4544133705874416,0.47902367850528266,0.418564604701323,0.5160037645281986,0.5834104973526462,0.5233374696435807,0.5268884323678337,0.4875246158200847,0.4881748673433741,0.4945515552524647,0.4214712374570146,0.5017066767750059,0.5463213535327883,0.6161922418843845,0.5552076470821024,0.5449246442124166,0.4632395906548669,0.468681952036896,0.4624568551954285,0.45829376486056206,0.48440353787551554,0.5444671480680116,0.5088227503862712,0.5163885411301538,0.5663034834185412,0.45028085804576407,0.4109409953521101,0.48788017570309034,0.6080785337453671,0.5212651828824613,0.5098532212248628,0.4850482288562715,0.46253816937660874,0.5296724653121494,0.4807986831871187,0.4729747821695721,0.4848528284098876,0.5535669091495624,0.5315823618004147,0.45061683856760604,0.4553086969173604,0.43943829113983296,0.5809195367184068,0.4777257041990094,0.44160741326917047,0.5147936121725715,0.5305319029922075,0.4707422839036683,0.4254762044278965,0.5205143338603418,0.4642463028472689,0.5662300117141512,0.5192014322225904,0.4963505637253791,0.4355564045257878,0.4195919750211694,0.5129868874090154,0.5110589914479118,0.5105651647820463,0.5105692162787802,0.4162443229137302,0.49246585341032806,0.46690625710527744,0.4295777527244912,0.569483852161053,0.45657000389249847,0.5202147658762085,0.4126647368800215,0.4624962570130525,0.5436167673350607,0.4895986436116264,0.49833215104509176,0.4298920497233854,0.5231938866649863,0.4535958670670368,0.5160683337062189,0.4788554206810303,0.4485356472797053,0.588701693777791,0.502194582852135,0.5723622857009114,0.48675876547596925,0.45898496195240107,0.5744452593335458,0.480068475183998,0.5963438902743557,0.4907541503395021,0.4498380964572105,0.41078199734431614,0.4980542483628886,0.4490961411240112,0.5823851570233659,0.4977195861931826,0.6089437730884615,0.5266783202988666,0.45744885443916317,0.46873055265968444,0.49485776888584065,0.5532069367259356,0.5659510331577197,0.4636538811957931,0.512139425874663,0.5141064436777965,0.5218540072306911,0.5208005830825673,0.4356776654243722,0.6334643255198432,0.6522849193714585,0.5198512395201398,0.5099307846741008,0.4872252317395568,0.4890322417547407,0.46188234490940655,0.529542271188356,0.5172004475738359,0.46281707502954145,0.44193200139674377,0.4583575569530609,0.5532313494436516,0.5010641981864972,0.4855992211663932,0.54657835073946,0.5031175319889277,0.4856124899402962,0.5808438378515676,0.4082536183206118,0.5363841462004002,0.5261823145934469,0.48586040661465996,0.4878858612541533,0.5274972841783153,0.5537005382201173,0.5092671410169168,0.5208760634752412,0.5382794674716216,0.5460050842566987,0.5264184532590122,0.6130864999134347,0.4459242492535128,0.5180480717129844,0.5093387427371493,0.49797310108430726,0.5053970796402096,0.45681208271047025,0.5219636281709642,0.46452557667133243,0.4531170355980158,0.5388731800186009,0.5305261553470334,0.5525441498853126,0.45001119230819076,0.5341244209963095,0.6767636288888234,0.5048315392192377,0.48091633900957287,0.4906113213872384,0.4575184619952771,0.47186544483248205,0.6457453382595537,0.47143245237698544,0.4691688295974605,0.45806699934460265,0.52277423676323,0.4454604511129222,0.5603843547193539,0.5189120756330817,0.5002974080686197,0.4577028835891877,0.5013634843402556,0.4917520525471486,0.5112975722454695,0.449634387560108,0.4657022145725435,0.4595357925487823,0.5761900253058725,0.5477522008059016,0.46280394727877977,0.5182392660421644,0.5572965938465876,0.5062566615604369,0.4404258364963905,0.581206851950848,0.5085453263767917,0.49149117612435644,0.4697827714839391,0.5104194466700546,0.47745978770987746,0.502369441747483,0.5291678807437893,0.5045167323040229,0.5023369383053431,0.517599117270407,0.5315903565796826,0.46386646599718095,0.5318633964566621,0.4574169196546744,0.5066507660436376,0.5695776141215955,0.5009608274242251,0.579546046080445,0.5098301902452553,0.5238066449008721,0.43641659592375026,0.4927221888468534,0.47499253490993854,0.4809170393272849,0.5605542180634718,0.45492628277654507,0.5527134298465639,0.5067539064704356,0.5277678820370443,0.5287195058244041,0.5324138441057819,0.49044281923339506,0.5735242742603295,0.48526235034594156,0.5757712089638065,0.48022069863637756,0.5650225217699956,0.435721202976131,0.47580206987977125,0.4810333482542659,0.4918625599556017,0.4312435353798779,0.453664130332576,0.49929024382539555,0.44987045402121295,0.43218167831100457,0.53140740734927,0.5425052226974687,0.4785137794809517,0.48650850679834456,0.44644187590529977,0.504729936075185,0.4928237477932624,0.5054707787632591,0.46583069880779393,0.47424361389101616,0.4486893599819301,0.47957783661832926,0.4576252369002143],\"xaxis\":\"x\",\"yaxis\":\"y\",\"type\":\"histogram\"}],                        {\"template\":{\"data\":{\"histogram2dcontour\":[{\"type\":\"histogram2dcontour\",\"colorbar\":{\"outlinewidth\":0,\"ticks\":\"\"},\"colorscale\":[[0.0,\"#0d0887\"],[0.1111111111111111,\"#46039f\"],[0.2222222222222222,\"#7201a8\"],[0.3333333333333333,\"#9c179e\"],[0.4444444444444444,\"#bd3786\"],[0.5555555555555556,\"#d8576b\"],[0.6666666666666666,\"#ed7953\"],[0.7777777777777778,\"#fb9f3a\"],[0.8888888888888888,\"#fdca26\"],[1.0,\"#f0f921\"]]}],\"choropleth\":[{\"type\":\"choropleth\",\"colorbar\":{\"outlinewidth\":0,\"ticks\":\"\"}}],\"histogram2d\":[{\"type\":\"histogram2d\",\"colorbar\":{\"outlinewidth\":0,\"ticks\":\"\"},\"colorscale\":[[0.0,\"#0d0887\"],[0.1111111111111111,\"#46039f\"],[0.2222222222222222,\"#7201a8\"],[0.3333333333333333,\"#9c179e\"],[0.4444444444444444,\"#bd3786\"],[0.5555555555555556,\"#d8576b\"],[0.6666666666666666,\"#ed7953\"],[0.7777777777777778,\"#fb9f3a\"],[0.8888888888888888,\"#fdca26\"],[1.0,\"#f0f921\"]]}],\"heatmap\":[{\"type\":\"heatmap\",\"colorbar\":{\"outlinewidth\":0,\"ticks\":\"\"},\"colorscale\":[[0.0,\"#0d0887\"],[0.1111111111111111,\"#46039f\"],[0.2222222222222222,\"#7201a8\"],[0.3333333333333333,\"#9c179e\"],[0.4444444444444444,\"#bd3786\"],[0.5555555555555556,\"#d8576b\"],[0.6666666666666666,\"#ed7953\"],[0.7777777777777778,\"#fb9f3a\"],[0.8888888888888888,\"#fdca26\"],[1.0,\"#f0f921\"]]}],\"heatmapgl\":[{\"type\":\"heatmapgl\",\"colorbar\":{\"outlinewidth\":0,\"ticks\":\"\"},\"colorscale\":[[0.0,\"#0d0887\"],[0.1111111111111111,\"#46039f\"],[0.2222222222222222,\"#7201a8\"],[0.3333333333333333,\"#9c179e\"],[0.4444444444444444,\"#bd3786\"],[0.5555555555555556,\"#d8576b\"],[0.6666666666666666,\"#ed7953\"],[0.7777777777777778,\"#fb9f3a\"],[0.8888888888888888,\"#fdca26\"],[1.0,\"#f0f921\"]]}],\"contourcarpet\":[{\"type\":\"contourcarpet\",\"colorbar\":{\"outlinewidth\":0,\"ticks\":\"\"}}],\"contour\":[{\"type\":\"contour\",\"colorbar\":{\"outlinewidth\":0,\"ticks\":\"\"},\"colorscale\":[[0.0,\"#0d0887\"],[0.1111111111111111,\"#46039f\"],[0.2222222222222222,\"#7201a8\"],[0.3333333333333333,\"#9c179e\"],[0.4444444444444444,\"#bd3786\"],[0.5555555555555556,\"#d8576b\"],[0.6666666666666666,\"#ed7953\"],[0.7777777777777778,\"#fb9f3a\"],[0.8888888888888888,\"#fdca26\"],[1.0,\"#f0f921\"]]}],\"surface\":[{\"type\":\"surface\",\"colorbar\":{\"outlinewidth\":0,\"ticks\":\"\"},\"colorscale\":[[0.0,\"#0d0887\"],[0.1111111111111111,\"#46039f\"],[0.2222222222222222,\"#7201a8\"],[0.3333333333333333,\"#9c179e\"],[0.4444444444444444,\"#bd3786\"],[0.5555555555555556,\"#d8576b\"],[0.6666666666666666,\"#ed7953\"],[0.7777777777777778,\"#fb9f3a\"],[0.8888888888888888,\"#fdca26\"],[1.0,\"#f0f921\"]]}],\"mesh3d\":[{\"type\":\"mesh3d\",\"colorbar\":{\"outlinewidth\":0,\"ticks\":\"\"}}],\"scatter\":[{\"fillpattern\":{\"fillmode\":\"overlay\",\"size\":10,\"solidity\":0.2},\"type\":\"scatter\"}],\"parcoords\":[{\"type\":\"parcoords\",\"line\":{\"colorbar\":{\"outlinewidth\":0,\"ticks\":\"\"}}}],\"scatterpolargl\":[{\"type\":\"scatterpolargl\",\"marker\":{\"colorbar\":{\"outlinewidth\":0,\"ticks\":\"\"}}}],\"bar\":[{\"error_x\":{\"color\":\"#2a3f5f\"},\"error_y\":{\"color\":\"#2a3f5f\"},\"marker\":{\"line\":{\"color\":\"#E5ECF6\",\"width\":0.5},\"pattern\":{\"fillmode\":\"overlay\",\"size\":10,\"solidity\":0.2}},\"type\":\"bar\"}],\"scattergeo\":[{\"type\":\"scattergeo\",\"marker\":{\"colorbar\":{\"outlinewidth\":0,\"ticks\":\"\"}}}],\"scatterpolar\":[{\"type\":\"scatterpolar\",\"marker\":{\"colorbar\":{\"outlinewidth\":0,\"ticks\":\"\"}}}],\"histogram\":[{\"marker\":{\"pattern\":{\"fillmode\":\"overlay\",\"size\":10,\"solidity\":0.2}},\"type\":\"histogram\"}],\"scattergl\":[{\"type\":\"scattergl\",\"marker\":{\"colorbar\":{\"outlinewidth\":0,\"ticks\":\"\"}}}],\"scatter3d\":[{\"type\":\"scatter3d\",\"line\":{\"colorbar\":{\"outlinewidth\":0,\"ticks\":\"\"}},\"marker\":{\"colorbar\":{\"outlinewidth\":0,\"ticks\":\"\"}}}],\"scattermapbox\":[{\"type\":\"scattermapbox\",\"marker\":{\"colorbar\":{\"outlinewidth\":0,\"ticks\":\"\"}}}],\"scatterternary\":[{\"type\":\"scatterternary\",\"marker\":{\"colorbar\":{\"outlinewidth\":0,\"ticks\":\"\"}}}],\"scattercarpet\":[{\"type\":\"scattercarpet\",\"marker\":{\"colorbar\":{\"outlinewidth\":0,\"ticks\":\"\"}}}],\"carpet\":[{\"aaxis\":{\"endlinecolor\":\"#2a3f5f\",\"gridcolor\":\"white\",\"linecolor\":\"white\",\"minorgridcolor\":\"white\",\"startlinecolor\":\"#2a3f5f\"},\"baxis\":{\"endlinecolor\":\"#2a3f5f\",\"gridcolor\":\"white\",\"linecolor\":\"white\",\"minorgridcolor\":\"white\",\"startlinecolor\":\"#2a3f5f\"},\"type\":\"carpet\"}],\"table\":[{\"cells\":{\"fill\":{\"color\":\"#EBF0F8\"},\"line\":{\"color\":\"white\"}},\"header\":{\"fill\":{\"color\":\"#C8D4E3\"},\"line\":{\"color\":\"white\"}},\"type\":\"table\"}],\"barpolar\":[{\"marker\":{\"line\":{\"color\":\"#E5ECF6\",\"width\":0.5},\"pattern\":{\"fillmode\":\"overlay\",\"size\":10,\"solidity\":0.2}},\"type\":\"barpolar\"}],\"pie\":[{\"automargin\":true,\"type\":\"pie\"}]},\"layout\":{\"autotypenumbers\":\"strict\",\"colorway\":[\"#636efa\",\"#EF553B\",\"#00cc96\",\"#ab63fa\",\"#FFA15A\",\"#19d3f3\",\"#FF6692\",\"#B6E880\",\"#FF97FF\",\"#FECB52\"],\"font\":{\"color\":\"#2a3f5f\"},\"hovermode\":\"closest\",\"hoverlabel\":{\"align\":\"left\"},\"paper_bgcolor\":\"white\",\"plot_bgcolor\":\"#E5ECF6\",\"polar\":{\"bgcolor\":\"#E5ECF6\",\"angularaxis\":{\"gridcolor\":\"white\",\"linecolor\":\"white\",\"ticks\":\"\"},\"radialaxis\":{\"gridcolor\":\"white\",\"linecolor\":\"white\",\"ticks\":\"\"}},\"ternary\":{\"bgcolor\":\"#E5ECF6\",\"aaxis\":{\"gridcolor\":\"white\",\"linecolor\":\"white\",\"ticks\":\"\"},\"baxis\":{\"gridcolor\":\"white\",\"linecolor\":\"white\",\"ticks\":\"\"},\"caxis\":{\"gridcolor\":\"white\",\"linecolor\":\"white\",\"ticks\":\"\"}},\"coloraxis\":{\"colorbar\":{\"outlinewidth\":0,\"ticks\":\"\"}},\"colorscale\":{\"sequential\":[[0.0,\"#0d0887\"],[0.1111111111111111,\"#46039f\"],[0.2222222222222222,\"#7201a8\"],[0.3333333333333333,\"#9c179e\"],[0.4444444444444444,\"#bd3786\"],[0.5555555555555556,\"#d8576b\"],[0.6666666666666666,\"#ed7953\"],[0.7777777777777778,\"#fb9f3a\"],[0.8888888888888888,\"#fdca26\"],[1.0,\"#f0f921\"]],\"sequentialminus\":[[0.0,\"#0d0887\"],[0.1111111111111111,\"#46039f\"],[0.2222222222222222,\"#7201a8\"],[0.3333333333333333,\"#9c179e\"],[0.4444444444444444,\"#bd3786\"],[0.5555555555555556,\"#d8576b\"],[0.6666666666666666,\"#ed7953\"],[0.7777777777777778,\"#fb9f3a\"],[0.8888888888888888,\"#fdca26\"],[1.0,\"#f0f921\"]],\"diverging\":[[0,\"#8e0152\"],[0.1,\"#c51b7d\"],[0.2,\"#de77ae\"],[0.3,\"#f1b6da\"],[0.4,\"#fde0ef\"],[0.5,\"#f7f7f7\"],[0.6,\"#e6f5d0\"],[0.7,\"#b8e186\"],[0.8,\"#7fbc41\"],[0.9,\"#4d9221\"],[1,\"#276419\"]]},\"xaxis\":{\"gridcolor\":\"white\",\"linecolor\":\"white\",\"ticks\":\"\",\"title\":{\"standoff\":15},\"zerolinecolor\":\"white\",\"automargin\":true,\"zerolinewidth\":2},\"yaxis\":{\"gridcolor\":\"white\",\"linecolor\":\"white\",\"ticks\":\"\",\"title\":{\"standoff\":15},\"zerolinecolor\":\"white\",\"automargin\":true,\"zerolinewidth\":2},\"scene\":{\"xaxis\":{\"backgroundcolor\":\"#E5ECF6\",\"gridcolor\":\"white\",\"linecolor\":\"white\",\"showbackground\":true,\"ticks\":\"\",\"zerolinecolor\":\"white\",\"gridwidth\":2},\"yaxis\":{\"backgroundcolor\":\"#E5ECF6\",\"gridcolor\":\"white\",\"linecolor\":\"white\",\"showbackground\":true,\"ticks\":\"\",\"zerolinecolor\":\"white\",\"gridwidth\":2},\"zaxis\":{\"backgroundcolor\":\"#E5ECF6\",\"gridcolor\":\"white\",\"linecolor\":\"white\",\"showbackground\":true,\"ticks\":\"\",\"zerolinecolor\":\"white\",\"gridwidth\":2}},\"shapedefaults\":{\"line\":{\"color\":\"#2a3f5f\"}},\"annotationdefaults\":{\"arrowcolor\":\"#2a3f5f\",\"arrowhead\":0,\"arrowwidth\":1},\"geo\":{\"bgcolor\":\"white\",\"landcolor\":\"#E5ECF6\",\"subunitcolor\":\"white\",\"showland\":true,\"showlakes\":true,\"lakecolor\":\"white\"},\"title\":{\"x\":0.05},\"mapbox\":{\"style\":\"light\"}}},\"xaxis\":{\"anchor\":\"y\",\"domain\":[0.0,1.0],\"title\":{\"text\":\"Tempo de espera\"}},\"yaxis\":{\"anchor\":\"x\",\"domain\":[0.0,1.0],\"title\":{\"text\":\"count\"}},\"legend\":{\"tracegroupgap\":0},\"margin\":{\"t\":60},\"barmode\":\"relative\"},                        {\"responsive\": true}                    ).then(function(){\n",
              "                            \n",
              "var gd = document.getElementById('78e79b10-de20-45bf-882b-a8d81a6b41a1');\n",
              "var x = new MutationObserver(function (mutations, observer) {{\n",
              "        var display = window.getComputedStyle(gd).display;\n",
              "        if (!display || display === 'none') {{\n",
              "            console.log([gd, 'removed!']);\n",
              "            Plotly.purge(gd);\n",
              "            observer.disconnect();\n",
              "        }}\n",
              "}});\n",
              "\n",
              "// Listen for the removal of the full notebook cells\n",
              "var notebookContainer = gd.closest('#notebook-container');\n",
              "if (notebookContainer) {{\n",
              "    x.observe(notebookContainer, {childList: true});\n",
              "}}\n",
              "\n",
              "// Listen for the clearing of the current output cell\n",
              "var outputEl = gd.closest('.output');\n",
              "if (outputEl) {{\n",
              "    x.observe(outputEl, {childList: true});\n",
              "}}\n",
              "\n",
              "                        })                };                            </script>        </div>\n",
              "</body>\n",
              "</html>"
            ]
          },
          "metadata": {}
        }
      ]
    },
    {
      "cell_type": "markdown",
      "source": [
        "##### Clientes no sistema"
      ],
      "metadata": {
        "id": "Mt5QmJnYF_l-"
      }
    },
    {
      "cell_type": "code",
      "source": [
        "print(f'Intervalo de confiança: {intervalo_confianca(clientes_sistema)}')\n",
        "print(f'Média: {np.mean(clientes_sistema)}\\n')\n",
        "\n",
        "plotar_histograma(clientes_sistema, 'Clientes no sistema')"
      ],
      "metadata": {
        "colab": {
          "base_uri": "https://localhost:8080/",
          "height": 594
        },
        "outputId": "7921b077-5fbb-483b-e115-f6b6a1f7ffea",
        "id": "lApNOwbDF_l_"
      },
      "execution_count": 51,
      "outputs": [
        {
          "output_type": "stream",
          "name": "stdout",
          "text": [
            "Intervalo de confiança: (0.7858866041613173, 1.2318102970711184)\n",
            "Média: 1.0088484506162179\n",
            "\n"
          ]
        },
        {
          "output_type": "display_data",
          "data": {
            "text/html": [
              "<html>\n",
              "<head><meta charset=\"utf-8\" /></head>\n",
              "<body>\n",
              "    <div>            <script src=\"https://cdnjs.cloudflare.com/ajax/libs/mathjax/2.7.5/MathJax.js?config=TeX-AMS-MML_SVG\"></script><script type=\"text/javascript\">if (window.MathJax && window.MathJax.Hub && window.MathJax.Hub.Config) {window.MathJax.Hub.Config({SVG: {font: \"STIX-Web\"}});}</script>                <script type=\"text/javascript\">window.PlotlyConfig = {MathJaxConfig: 'local'};</script>\n",
              "        <script src=\"https://cdn.plot.ly/plotly-2.18.2.min.js\"></script>                <div id=\"e693cca3-1ca1-4ab7-a21d-66ea20608e79\" class=\"plotly-graph-div\" style=\"height:525px; width:100%;\"></div>            <script type=\"text/javascript\">                                    window.PLOTLYENV=window.PLOTLYENV || {};                                    if (document.getElementById(\"e693cca3-1ca1-4ab7-a21d-66ea20608e79\")) {                    Plotly.newPlot(                        \"e693cca3-1ca1-4ab7-a21d-66ea20608e79\",                        [{\"alignmentgroup\":\"True\",\"bingroup\":\"x\",\"hovertemplate\":\"Clientes no sistema=%{x}<br>count=%{y}<extra></extra>\",\"legendgroup\":\"\",\"marker\":{\"color\":\"#636efa\",\"pattern\":{\"shape\":\"\"}},\"name\":\"\",\"offsetgroup\":\"\",\"orientation\":\"v\",\"showlegend\":false,\"x\":[0.9086753852955516,0.8956897680941209,1.2756207337669496,0.8418226544798862,1.0467202920859475,0.9872598050217782,0.9626239263567308,0.9300236924312005,0.9769623454926762,0.8850919187932117,1.0413479073798255,0.8203687296632807,1.0140607854249832,0.8572390027490215,1.0021969717015782,1.0536638432027836,1.2525697538623402,1.2126980517132948,1.1606818057937263,1.112887887395231,1.1935250355721472,1.1836803488637417,0.912736773652298,1.0145821963494428,1.0898682580602763,0.9395635283545402,0.869736824942465,1.0834473377497993,0.8846139491270835,1.0418456916662386,0.8288115851694919,0.970250130244988,1.0631246842657163,1.0458906567528201,1.0541010546964973,1.4054018929497902,0.9924932875014115,1.152779708921313,1.0139074643156805,1.0325949627930608,0.8776618850463145,0.9321483280163462,0.9113735002364062,1.039073467423445,0.8859619940734159,1.280290899484639,1.0127264362307802,1.1377109930405456,0.9393357870521476,0.862822820816639,1.1438873412001893,1.0767056197028686,0.9231361751278989,1.0750450194301502,1.0653228451110217,1.1700030059496045,0.9148953014705657,0.9546145614755355,1.0314317351292566,0.8716963827511194,0.992199149627405,0.8418640910835848,1.061510424259838,1.2055842400759735,1.061441033402378,1.1058517455739734,0.9720835475140781,1.0140867822205877,0.9826471994748422,0.8517623945744184,1.0066085902950912,1.0623582324430587,1.3033701338845864,1.1622617477314034,1.117750656432494,0.9216376006186564,0.9488345196695737,0.9029506427536034,0.9135933704621806,0.9634191278154148,1.0922550386983154,1.022465252156757,1.0043797920390147,1.137511232419632,0.911356041807935,0.8321477044307096,0.9944450449500565,1.2640252933907503,1.0410854262550409,0.9982827093656664,1.0179059065741785,0.9104222821094561,1.0503108908782937,0.9400626918236379,0.9294474953267143,0.9999669402708419,1.0943657809084049,1.104387708842814,0.8726860506885358,0.9303457151481838,0.8600258788358393,1.1585064569082135,0.9543227388568474,0.8520516568403965,1.0326737586639088,1.1216602591442177,0.9224433827463604,0.8050913345071008,1.0535309122966772,0.9471263515328551,1.1048732428194714,1.0453946287706497,0.9225249671818634,0.8573626902655871,0.8076665613369889,1.003757004557615,1.0981174358155088,0.9742075185806014,1.0127916080710764,0.8012121280511654,0.98612805231857,0.9258772091128679,0.8208301153538243,1.1524979667608775,0.866403049866399,1.0509250038321682,0.7952041930457825,0.9325627228456529,1.1093546008644508,0.9616271123964217,0.9905282816477669,0.7946187149362738,1.0857307524912736,0.8969002470073809,1.031416363099845,0.9380071129108954,0.8816551385888695,1.2137819554933214,1.0435263506175207,1.1862431915550558,0.9329707419566546,0.9327397865831968,1.1427085995739736,0.959174865959204,1.2435622969623055,0.9787268033711275,0.9220607114823688,0.7729696207562438,1.0589597022050474,0.8833927051873472,1.207039707668862,1.0035079947137298,1.3167895029721737,1.072154725394616,0.9223447462534502,0.9223982697935955,0.9668075871125348,1.1199519650531478,1.1896247488256826,0.9076624096481376,1.08150404643361,1.0173330642969938,1.0784547127557114,1.0858119243596867,0.8796630041041237,1.2983104334263265,1.3211794767722842,1.0298126410573212,1.0349826261182304,0.9820880435827921,1.0314809205517315,0.9415430188469125,1.0934432405565249,0.9744647120351481,0.8857448304395178,0.8764839902795045,0.8889350667685366,1.0326808649058814,1.0209200060717112,0.9457755654169463,1.1259303348234158,1.026295441093485,0.9741699213872062,1.193121214584524,0.7738881934645392,1.0376945478903863,1.0161486753135012,0.9376907385436261,1.002889215397173,1.0892482135554173,1.1414754887161738,1.0161210307514863,1.0748215027650334,1.0666149493891872,1.1413674041956352,1.0578355292523056,1.1994344965674322,0.8487692792200751,1.0038837455406346,1.0498521771690885,1.0177399107581673,1.0236822170636202,0.91177872944631,1.0351757432687623,0.9107643455792691,0.889415354306108,1.0961242473900343,0.9940327531322056,1.1460371745342897,0.8843837733570146,1.0637867213099055,1.3395324085024358,0.9651668309728758,0.9505071253238381,0.9591983395628866,0.908423539296188,0.9135168424943413,1.3417002584052888,0.9252813281098886,0.9416520735059727,0.8881393920948132,1.1125001699844017,0.8626080489702023,1.1018934016817743,1.0513932473753596,0.9952734368250896,0.9244192326947835,1.0305280561589334,0.9623445797522464,1.1054719918070335,0.9094756504086512,0.8683789620024466,0.917642074254672,1.1661575116919474,1.0801332987333654,0.8902449310904502,1.0784218461862367,1.1906640959078347,1.0434187037322449,0.873551954382688,1.0945870164761011,0.9844985964693838,1.0121543011014904,0.9311750101665028,0.9938429201404799,0.9685464271823095,0.989184964262931,1.008781436314361,1.052357308579324,1.0152719798089036,1.0092062554856045,1.0681439953389886,0.9490313701771326,1.1277422333620895,0.9172265624965136,0.9906877234954591,1.1534191804104408,1.024510329924541,1.1675429851566612,1.0063365677444684,1.0786655829476903,0.8586897238883351,0.9772172507422624,0.9534353931762243,0.9755775723573737,1.0894841650099323,0.8780433934104551,1.201660569804901,1.0185877277259423,1.0680786506365252,1.048526356776931,1.0554096765338041,0.9866470956291353,1.1173475912544286,0.9789444636952424,1.1780471768202323,0.9536818532557629,1.1570076544316032,0.8500010625082846,0.9532137634038605,0.9236118387590844,0.969429450240151,0.8265881293792868,0.8874021062299415,1.0234801980468795,0.9140608449164042,0.9171313683708094,1.0836232369903072,1.1314085965136464,0.9465467699047072,1.0021971693989977,0.8574880741852479,1.0529168680385643,0.9574658653194822,0.9514089302211426,0.9353737815796949,0.9444149717210294,0.9273073711805525,0.9845501814045226,0.9158098524864872],\"xaxis\":\"x\",\"yaxis\":\"y\",\"type\":\"histogram\"}],                        {\"template\":{\"data\":{\"histogram2dcontour\":[{\"type\":\"histogram2dcontour\",\"colorbar\":{\"outlinewidth\":0,\"ticks\":\"\"},\"colorscale\":[[0.0,\"#0d0887\"],[0.1111111111111111,\"#46039f\"],[0.2222222222222222,\"#7201a8\"],[0.3333333333333333,\"#9c179e\"],[0.4444444444444444,\"#bd3786\"],[0.5555555555555556,\"#d8576b\"],[0.6666666666666666,\"#ed7953\"],[0.7777777777777778,\"#fb9f3a\"],[0.8888888888888888,\"#fdca26\"],[1.0,\"#f0f921\"]]}],\"choropleth\":[{\"type\":\"choropleth\",\"colorbar\":{\"outlinewidth\":0,\"ticks\":\"\"}}],\"histogram2d\":[{\"type\":\"histogram2d\",\"colorbar\":{\"outlinewidth\":0,\"ticks\":\"\"},\"colorscale\":[[0.0,\"#0d0887\"],[0.1111111111111111,\"#46039f\"],[0.2222222222222222,\"#7201a8\"],[0.3333333333333333,\"#9c179e\"],[0.4444444444444444,\"#bd3786\"],[0.5555555555555556,\"#d8576b\"],[0.6666666666666666,\"#ed7953\"],[0.7777777777777778,\"#fb9f3a\"],[0.8888888888888888,\"#fdca26\"],[1.0,\"#f0f921\"]]}],\"heatmap\":[{\"type\":\"heatmap\",\"colorbar\":{\"outlinewidth\":0,\"ticks\":\"\"},\"colorscale\":[[0.0,\"#0d0887\"],[0.1111111111111111,\"#46039f\"],[0.2222222222222222,\"#7201a8\"],[0.3333333333333333,\"#9c179e\"],[0.4444444444444444,\"#bd3786\"],[0.5555555555555556,\"#d8576b\"],[0.6666666666666666,\"#ed7953\"],[0.7777777777777778,\"#fb9f3a\"],[0.8888888888888888,\"#fdca26\"],[1.0,\"#f0f921\"]]}],\"heatmapgl\":[{\"type\":\"heatmapgl\",\"colorbar\":{\"outlinewidth\":0,\"ticks\":\"\"},\"colorscale\":[[0.0,\"#0d0887\"],[0.1111111111111111,\"#46039f\"],[0.2222222222222222,\"#7201a8\"],[0.3333333333333333,\"#9c179e\"],[0.4444444444444444,\"#bd3786\"],[0.5555555555555556,\"#d8576b\"],[0.6666666666666666,\"#ed7953\"],[0.7777777777777778,\"#fb9f3a\"],[0.8888888888888888,\"#fdca26\"],[1.0,\"#f0f921\"]]}],\"contourcarpet\":[{\"type\":\"contourcarpet\",\"colorbar\":{\"outlinewidth\":0,\"ticks\":\"\"}}],\"contour\":[{\"type\":\"contour\",\"colorbar\":{\"outlinewidth\":0,\"ticks\":\"\"},\"colorscale\":[[0.0,\"#0d0887\"],[0.1111111111111111,\"#46039f\"],[0.2222222222222222,\"#7201a8\"],[0.3333333333333333,\"#9c179e\"],[0.4444444444444444,\"#bd3786\"],[0.5555555555555556,\"#d8576b\"],[0.6666666666666666,\"#ed7953\"],[0.7777777777777778,\"#fb9f3a\"],[0.8888888888888888,\"#fdca26\"],[1.0,\"#f0f921\"]]}],\"surface\":[{\"type\":\"surface\",\"colorbar\":{\"outlinewidth\":0,\"ticks\":\"\"},\"colorscale\":[[0.0,\"#0d0887\"],[0.1111111111111111,\"#46039f\"],[0.2222222222222222,\"#7201a8\"],[0.3333333333333333,\"#9c179e\"],[0.4444444444444444,\"#bd3786\"],[0.5555555555555556,\"#d8576b\"],[0.6666666666666666,\"#ed7953\"],[0.7777777777777778,\"#fb9f3a\"],[0.8888888888888888,\"#fdca26\"],[1.0,\"#f0f921\"]]}],\"mesh3d\":[{\"type\":\"mesh3d\",\"colorbar\":{\"outlinewidth\":0,\"ticks\":\"\"}}],\"scatter\":[{\"fillpattern\":{\"fillmode\":\"overlay\",\"size\":10,\"solidity\":0.2},\"type\":\"scatter\"}],\"parcoords\":[{\"type\":\"parcoords\",\"line\":{\"colorbar\":{\"outlinewidth\":0,\"ticks\":\"\"}}}],\"scatterpolargl\":[{\"type\":\"scatterpolargl\",\"marker\":{\"colorbar\":{\"outlinewidth\":0,\"ticks\":\"\"}}}],\"bar\":[{\"error_x\":{\"color\":\"#2a3f5f\"},\"error_y\":{\"color\":\"#2a3f5f\"},\"marker\":{\"line\":{\"color\":\"#E5ECF6\",\"width\":0.5},\"pattern\":{\"fillmode\":\"overlay\",\"size\":10,\"solidity\":0.2}},\"type\":\"bar\"}],\"scattergeo\":[{\"type\":\"scattergeo\",\"marker\":{\"colorbar\":{\"outlinewidth\":0,\"ticks\":\"\"}}}],\"scatterpolar\":[{\"type\":\"scatterpolar\",\"marker\":{\"colorbar\":{\"outlinewidth\":0,\"ticks\":\"\"}}}],\"histogram\":[{\"marker\":{\"pattern\":{\"fillmode\":\"overlay\",\"size\":10,\"solidity\":0.2}},\"type\":\"histogram\"}],\"scattergl\":[{\"type\":\"scattergl\",\"marker\":{\"colorbar\":{\"outlinewidth\":0,\"ticks\":\"\"}}}],\"scatter3d\":[{\"type\":\"scatter3d\",\"line\":{\"colorbar\":{\"outlinewidth\":0,\"ticks\":\"\"}},\"marker\":{\"colorbar\":{\"outlinewidth\":0,\"ticks\":\"\"}}}],\"scattermapbox\":[{\"type\":\"scattermapbox\",\"marker\":{\"colorbar\":{\"outlinewidth\":0,\"ticks\":\"\"}}}],\"scatterternary\":[{\"type\":\"scatterternary\",\"marker\":{\"colorbar\":{\"outlinewidth\":0,\"ticks\":\"\"}}}],\"scattercarpet\":[{\"type\":\"scattercarpet\",\"marker\":{\"colorbar\":{\"outlinewidth\":0,\"ticks\":\"\"}}}],\"carpet\":[{\"aaxis\":{\"endlinecolor\":\"#2a3f5f\",\"gridcolor\":\"white\",\"linecolor\":\"white\",\"minorgridcolor\":\"white\",\"startlinecolor\":\"#2a3f5f\"},\"baxis\":{\"endlinecolor\":\"#2a3f5f\",\"gridcolor\":\"white\",\"linecolor\":\"white\",\"minorgridcolor\":\"white\",\"startlinecolor\":\"#2a3f5f\"},\"type\":\"carpet\"}],\"table\":[{\"cells\":{\"fill\":{\"color\":\"#EBF0F8\"},\"line\":{\"color\":\"white\"}},\"header\":{\"fill\":{\"color\":\"#C8D4E3\"},\"line\":{\"color\":\"white\"}},\"type\":\"table\"}],\"barpolar\":[{\"marker\":{\"line\":{\"color\":\"#E5ECF6\",\"width\":0.5},\"pattern\":{\"fillmode\":\"overlay\",\"size\":10,\"solidity\":0.2}},\"type\":\"barpolar\"}],\"pie\":[{\"automargin\":true,\"type\":\"pie\"}]},\"layout\":{\"autotypenumbers\":\"strict\",\"colorway\":[\"#636efa\",\"#EF553B\",\"#00cc96\",\"#ab63fa\",\"#FFA15A\",\"#19d3f3\",\"#FF6692\",\"#B6E880\",\"#FF97FF\",\"#FECB52\"],\"font\":{\"color\":\"#2a3f5f\"},\"hovermode\":\"closest\",\"hoverlabel\":{\"align\":\"left\"},\"paper_bgcolor\":\"white\",\"plot_bgcolor\":\"#E5ECF6\",\"polar\":{\"bgcolor\":\"#E5ECF6\",\"angularaxis\":{\"gridcolor\":\"white\",\"linecolor\":\"white\",\"ticks\":\"\"},\"radialaxis\":{\"gridcolor\":\"white\",\"linecolor\":\"white\",\"ticks\":\"\"}},\"ternary\":{\"bgcolor\":\"#E5ECF6\",\"aaxis\":{\"gridcolor\":\"white\",\"linecolor\":\"white\",\"ticks\":\"\"},\"baxis\":{\"gridcolor\":\"white\",\"linecolor\":\"white\",\"ticks\":\"\"},\"caxis\":{\"gridcolor\":\"white\",\"linecolor\":\"white\",\"ticks\":\"\"}},\"coloraxis\":{\"colorbar\":{\"outlinewidth\":0,\"ticks\":\"\"}},\"colorscale\":{\"sequential\":[[0.0,\"#0d0887\"],[0.1111111111111111,\"#46039f\"],[0.2222222222222222,\"#7201a8\"],[0.3333333333333333,\"#9c179e\"],[0.4444444444444444,\"#bd3786\"],[0.5555555555555556,\"#d8576b\"],[0.6666666666666666,\"#ed7953\"],[0.7777777777777778,\"#fb9f3a\"],[0.8888888888888888,\"#fdca26\"],[1.0,\"#f0f921\"]],\"sequentialminus\":[[0.0,\"#0d0887\"],[0.1111111111111111,\"#46039f\"],[0.2222222222222222,\"#7201a8\"],[0.3333333333333333,\"#9c179e\"],[0.4444444444444444,\"#bd3786\"],[0.5555555555555556,\"#d8576b\"],[0.6666666666666666,\"#ed7953\"],[0.7777777777777778,\"#fb9f3a\"],[0.8888888888888888,\"#fdca26\"],[1.0,\"#f0f921\"]],\"diverging\":[[0,\"#8e0152\"],[0.1,\"#c51b7d\"],[0.2,\"#de77ae\"],[0.3,\"#f1b6da\"],[0.4,\"#fde0ef\"],[0.5,\"#f7f7f7\"],[0.6,\"#e6f5d0\"],[0.7,\"#b8e186\"],[0.8,\"#7fbc41\"],[0.9,\"#4d9221\"],[1,\"#276419\"]]},\"xaxis\":{\"gridcolor\":\"white\",\"linecolor\":\"white\",\"ticks\":\"\",\"title\":{\"standoff\":15},\"zerolinecolor\":\"white\",\"automargin\":true,\"zerolinewidth\":2},\"yaxis\":{\"gridcolor\":\"white\",\"linecolor\":\"white\",\"ticks\":\"\",\"title\":{\"standoff\":15},\"zerolinecolor\":\"white\",\"automargin\":true,\"zerolinewidth\":2},\"scene\":{\"xaxis\":{\"backgroundcolor\":\"#E5ECF6\",\"gridcolor\":\"white\",\"linecolor\":\"white\",\"showbackground\":true,\"ticks\":\"\",\"zerolinecolor\":\"white\",\"gridwidth\":2},\"yaxis\":{\"backgroundcolor\":\"#E5ECF6\",\"gridcolor\":\"white\",\"linecolor\":\"white\",\"showbackground\":true,\"ticks\":\"\",\"zerolinecolor\":\"white\",\"gridwidth\":2},\"zaxis\":{\"backgroundcolor\":\"#E5ECF6\",\"gridcolor\":\"white\",\"linecolor\":\"white\",\"showbackground\":true,\"ticks\":\"\",\"zerolinecolor\":\"white\",\"gridwidth\":2}},\"shapedefaults\":{\"line\":{\"color\":\"#2a3f5f\"}},\"annotationdefaults\":{\"arrowcolor\":\"#2a3f5f\",\"arrowhead\":0,\"arrowwidth\":1},\"geo\":{\"bgcolor\":\"white\",\"landcolor\":\"#E5ECF6\",\"subunitcolor\":\"white\",\"showland\":true,\"showlakes\":true,\"lakecolor\":\"white\"},\"title\":{\"x\":0.05},\"mapbox\":{\"style\":\"light\"}}},\"xaxis\":{\"anchor\":\"y\",\"domain\":[0.0,1.0],\"title\":{\"text\":\"Clientes no sistema\"}},\"yaxis\":{\"anchor\":\"x\",\"domain\":[0.0,1.0],\"title\":{\"text\":\"count\"}},\"legend\":{\"tracegroupgap\":0},\"margin\":{\"t\":60},\"barmode\":\"relative\"},                        {\"responsive\": true}                    ).then(function(){\n",
              "                            \n",
              "var gd = document.getElementById('e693cca3-1ca1-4ab7-a21d-66ea20608e79');\n",
              "var x = new MutationObserver(function (mutations, observer) {{\n",
              "        var display = window.getComputedStyle(gd).display;\n",
              "        if (!display || display === 'none') {{\n",
              "            console.log([gd, 'removed!']);\n",
              "            Plotly.purge(gd);\n",
              "            observer.disconnect();\n",
              "        }}\n",
              "}});\n",
              "\n",
              "// Listen for the removal of the full notebook cells\n",
              "var notebookContainer = gd.closest('#notebook-container');\n",
              "if (notebookContainer) {{\n",
              "    x.observe(notebookContainer, {childList: true});\n",
              "}}\n",
              "\n",
              "// Listen for the clearing of the current output cell\n",
              "var outputEl = gd.closest('.output');\n",
              "if (outputEl) {{\n",
              "    x.observe(outputEl, {childList: true});\n",
              "}}\n",
              "\n",
              "                        })                };                            </script>        </div>\n",
              "</body>\n",
              "</html>"
            ]
          },
          "metadata": {}
        }
      ]
    },
    {
      "cell_type": "markdown",
      "source": [
        "### Cenário 3\n",
        "\n",
        "$λ=1$ e $μ=4$ "
      ],
      "metadata": {
        "id": "w2GUKDvvvZMl"
      }
    },
    {
      "cell_type": "markdown",
      "source": [
        "#### Simulador 1"
      ],
      "metadata": {
        "id": "Fv34WsQzGMzX"
      }
    },
    {
      "cell_type": "code",
      "source": [
        "tempo_espera, clientes_sistema = n_simulacoes(300, 1, 4, 1000, simulador1)"
      ],
      "metadata": {
        "id": "LdufXxZhGMzo"
      },
      "execution_count": 52,
      "outputs": []
    },
    {
      "cell_type": "markdown",
      "source": [
        "##### Tempo de espera\n",
        "\n"
      ],
      "metadata": {
        "id": "hohDORwtGMzp"
      }
    },
    {
      "cell_type": "code",
      "source": [
        "print(f'Intervalo de confiança: {intervalo_confianca(tempo_espera)}')\n",
        "print(f'Média: {np.mean(tempo_espera)}\\n')\n",
        "\n",
        "plotar_histograma(tempo_espera, 'Tempo de espera')"
      ],
      "metadata": {
        "colab": {
          "base_uri": "https://localhost:8080/",
          "height": 594
        },
        "outputId": "50dee3c3-41bc-4246-ad49-2ca3ed6b0e17",
        "id": "-czVhf_xGMzq"
      },
      "execution_count": 53,
      "outputs": [
        {
          "output_type": "stream",
          "name": "stdout",
          "text": [
            "Intervalo de confiança: (0.2996810279162096, 0.3633830605492348)\n",
            "Média: 0.3315320442327222\n",
            "\n"
          ]
        },
        {
          "output_type": "display_data",
          "data": {
            "text/html": [
              "<html>\n",
              "<head><meta charset=\"utf-8\" /></head>\n",
              "<body>\n",
              "    <div>            <script src=\"https://cdnjs.cloudflare.com/ajax/libs/mathjax/2.7.5/MathJax.js?config=TeX-AMS-MML_SVG\"></script><script type=\"text/javascript\">if (window.MathJax && window.MathJax.Hub && window.MathJax.Hub.Config) {window.MathJax.Hub.Config({SVG: {font: \"STIX-Web\"}});}</script>                <script type=\"text/javascript\">window.PlotlyConfig = {MathJaxConfig: 'local'};</script>\n",
              "        <script src=\"https://cdn.plot.ly/plotly-2.18.2.min.js\"></script>                <div id=\"fb2cf68a-60ff-461f-99e4-c3f5185280fe\" class=\"plotly-graph-div\" style=\"height:525px; width:100%;\"></div>            <script type=\"text/javascript\">                                    window.PLOTLYENV=window.PLOTLYENV || {};                                    if (document.getElementById(\"fb2cf68a-60ff-461f-99e4-c3f5185280fe\")) {                    Plotly.newPlot(                        \"fb2cf68a-60ff-461f-99e4-c3f5185280fe\",                        [{\"alignmentgroup\":\"True\",\"bingroup\":\"x\",\"hovertemplate\":\"Tempo de espera=%{x}<br>count=%{y}<extra></extra>\",\"legendgroup\":\"\",\"marker\":{\"color\":\"#636efa\",\"pattern\":{\"shape\":\"\"}},\"name\":\"\",\"offsetgroup\":\"\",\"orientation\":\"v\",\"showlegend\":false,\"x\":[0.32649980956427493,0.3357985706521178,0.3391041902358462,0.3596469419610908,0.3533121905995843,0.32419588178257513,0.33195410531316355,0.3270565280904938,0.3165462169040601,0.32349064907695474,0.3170884355006227,0.3299377186068356,0.36128391013991357,0.30707885302855126,0.3281830752814281,0.36832767132723016,0.3327347223184644,0.3370908968705814,0.3158627665975464,0.3603942549086024,0.3323115292029341,0.30668153834172784,0.36722956504142423,0.327592654779699,0.32763637168855236,0.30690660849530493,0.31404576091572745,0.314075444465633,0.3479481941963569,0.35280022639529657,0.32580892112850335,0.32904167451315497,0.33571179771576176,0.3329558146644514,0.3415344502063255,0.34791702591987034,0.345520715920824,0.3405842991316132,0.31029191503334125,0.3581707901548022,0.3222705248374476,0.35193130370388753,0.3479979453785952,0.3294855424087157,0.33626231055835143,0.3016595942340532,0.3188064158307355,0.33114564500725874,0.3161264369606249,0.332878948782311,0.3223358183173951,0.298430652484372,0.3241067799841302,0.31135113817421856,0.3168740407981349,0.3191481554114776,0.3405915308675572,0.33472715420303994,0.31782153695486237,0.31464783515745404,0.34319278373989476,0.31496570547249797,0.32498111866459994,0.3170591071080939,0.30717458002217446,0.3248680061167316,0.3645515554191792,0.3248814073363389,0.3181181650928701,0.3274039184997747,0.3383348344060013,0.3252445395136806,0.3419126695000336,0.3530365112712919,0.32285616655741334,0.30660668136183933,0.3310404381794866,0.31126519371725236,0.3559479261879588,0.32207703204941024,0.33843313670503844,0.3657791234390098,0.3537875359378888,0.3194964514721968,0.3697859353099933,0.32933680227212925,0.35020453499033805,0.3534193339564892,0.33148611756763446,0.34660032108822375,0.35972434564601685,0.3153545910415387,0.3314104913396185,0.3153245264206366,0.3177121243208059,0.32031179703675183,0.3174233360897429,0.34656872760224544,0.33259069098492633,0.3194887614296654,0.3367872208012856,0.32999224964435775,0.3390835926161527,0.3453366053617224,0.3387468345472868,0.33665769122954947,0.3294925025438054,0.33806360988011397,0.33686586734065166,0.33777493283046794,0.33771662319778306,0.2941492200537635,0.35914561341144324,0.33940360816170023,0.3410177101111919,0.33415815288988315,0.35131582058497784,0.3363489863219571,0.32287712555408016,0.33294848864725035,0.33460940133124567,0.32007800493846644,0.33046338540622816,0.3449995200449251,0.33662803781378775,0.30339333912152394,0.3128141624515322,0.354937758097916,0.3281777047903959,0.3159454854054729,0.33273891594102956,0.3019757287807702,0.34256841883611716,0.32869106984975266,0.3407045180231922,0.3378164070273809,0.2999632946485111,0.3132186137879365,0.3615041530852872,0.3173698766875844,0.326544659593323,0.31482870827003734,0.324232501784087,0.3220450615235403,0.31737265543831816,0.3438720590580012,0.3271087732397832,0.3313570429057826,0.3346094242553368,0.3395777540512155,0.34194366316929414,0.3510420973965128,0.34273019805453947,0.3418185612481589,0.3404964205434299,0.3382690451791017,0.34894473158205414,0.3452127813341899,0.34033118998210393,0.3494567831949342,0.31278233139534545,0.33263552741245356,0.3114424559624997,0.3288446009096912,0.32325247053672623,0.32587245413426474,0.32219193572276705,0.31637451959568047,0.3407899847623046,0.32726806493987604,0.3236851072347038,0.316488981947201,0.3518800313782505,0.319661971856862,0.3400245010423168,0.3459660522688905,0.34483987993105547,0.334090256343102,0.3122764612008298,0.33990545717532394,0.3083927627825302,0.30495276110099967,0.33017299077123147,0.31286438121341614,0.3328896913435123,0.3651428786768172,0.33730591909749313,0.3327443800059207,0.32915465810226907,0.31785222312297656,0.32743820129799966,0.30546276702112757,0.36860232257803704,0.3263720049020506,0.33334839627375606,0.33036511508406513,0.3312115674672294,0.3239304346249197,0.34244873534870085,0.3066784287052491,0.30760845247261265,0.2954314262389312,0.3422758303618394,0.334028651832479,0.3499141966119901,0.3302030492105673,0.33251360706437727,0.33106656692026837,0.3459356300303171,0.32327391577858045,0.31437783045976975,0.34663917014164664,0.31076686071341525,0.32138284213600926,0.31095975464588693,0.3074302924223477,0.3341684425638632,0.3264607441973158,0.3449265492505509,0.3193104509392747,0.3101036992993635,0.32541533595118016,0.3471594545174179,0.36286457839283925,0.3058088372974876,0.32523177111018703,0.32317905302989675,0.3272913893093226,0.35520093203227343,0.3192310347625925,0.3206187457659262,0.33307942789177925,0.3464853334629092,0.3226852698796462,0.33383599543514736,0.3863162864060887,0.33038172216089035,0.31835127677516467,0.2980048082544562,0.31641886383998935,0.3149899361735744,0.3223293552636772,0.35212051687099594,0.3352074233653235,0.33657524274654493,0.35296399152710195,0.32713792967011196,0.34512261365330243,0.3296080851878087,0.3425256201224414,0.3424904130921457,0.31398007637362724,0.2920350817426134,0.33996329611962595,0.32885439665580707,0.30449095125911596,0.32806382585515304,0.33228876448751127,0.37455400634879144,0.33165803830349244,0.3277056971263621,0.34833964925482475,0.33561206152723233,0.3307748957287952,0.33125931451677576,0.3495152466204243,0.3275621168410304,0.31616028727626616,0.34069104655583227,0.32411230422575377,0.31750645122220184,0.32567868971909486,0.34950379372718465,0.34079283751155426,0.3487434300443679,0.30413125828337156,0.3548767932106873,0.31008323409452565,0.3493553382830602,0.3414348674277479,0.3065536531031521,0.3494485780637936,0.331639978286727,0.356599205576848,0.3074783965078644,0.3593630379214397,0.3336964831990621,0.33625613685094446,0.3602596395479407,0.37143514050561965,0.32146206939549155,0.33177671052966945,0.31876974754579995,0.33946141533930013,0.319873115208482,0.3142398266690079,0.33669320381230905,0.3486693401692159,0.3162924225086825,0.34792116102689824],\"xaxis\":\"x\",\"yaxis\":\"y\",\"type\":\"histogram\"}],                        {\"template\":{\"data\":{\"histogram2dcontour\":[{\"type\":\"histogram2dcontour\",\"colorbar\":{\"outlinewidth\":0,\"ticks\":\"\"},\"colorscale\":[[0.0,\"#0d0887\"],[0.1111111111111111,\"#46039f\"],[0.2222222222222222,\"#7201a8\"],[0.3333333333333333,\"#9c179e\"],[0.4444444444444444,\"#bd3786\"],[0.5555555555555556,\"#d8576b\"],[0.6666666666666666,\"#ed7953\"],[0.7777777777777778,\"#fb9f3a\"],[0.8888888888888888,\"#fdca26\"],[1.0,\"#f0f921\"]]}],\"choropleth\":[{\"type\":\"choropleth\",\"colorbar\":{\"outlinewidth\":0,\"ticks\":\"\"}}],\"histogram2d\":[{\"type\":\"histogram2d\",\"colorbar\":{\"outlinewidth\":0,\"ticks\":\"\"},\"colorscale\":[[0.0,\"#0d0887\"],[0.1111111111111111,\"#46039f\"],[0.2222222222222222,\"#7201a8\"],[0.3333333333333333,\"#9c179e\"],[0.4444444444444444,\"#bd3786\"],[0.5555555555555556,\"#d8576b\"],[0.6666666666666666,\"#ed7953\"],[0.7777777777777778,\"#fb9f3a\"],[0.8888888888888888,\"#fdca26\"],[1.0,\"#f0f921\"]]}],\"heatmap\":[{\"type\":\"heatmap\",\"colorbar\":{\"outlinewidth\":0,\"ticks\":\"\"},\"colorscale\":[[0.0,\"#0d0887\"],[0.1111111111111111,\"#46039f\"],[0.2222222222222222,\"#7201a8\"],[0.3333333333333333,\"#9c179e\"],[0.4444444444444444,\"#bd3786\"],[0.5555555555555556,\"#d8576b\"],[0.6666666666666666,\"#ed7953\"],[0.7777777777777778,\"#fb9f3a\"],[0.8888888888888888,\"#fdca26\"],[1.0,\"#f0f921\"]]}],\"heatmapgl\":[{\"type\":\"heatmapgl\",\"colorbar\":{\"outlinewidth\":0,\"ticks\":\"\"},\"colorscale\":[[0.0,\"#0d0887\"],[0.1111111111111111,\"#46039f\"],[0.2222222222222222,\"#7201a8\"],[0.3333333333333333,\"#9c179e\"],[0.4444444444444444,\"#bd3786\"],[0.5555555555555556,\"#d8576b\"],[0.6666666666666666,\"#ed7953\"],[0.7777777777777778,\"#fb9f3a\"],[0.8888888888888888,\"#fdca26\"],[1.0,\"#f0f921\"]]}],\"contourcarpet\":[{\"type\":\"contourcarpet\",\"colorbar\":{\"outlinewidth\":0,\"ticks\":\"\"}}],\"contour\":[{\"type\":\"contour\",\"colorbar\":{\"outlinewidth\":0,\"ticks\":\"\"},\"colorscale\":[[0.0,\"#0d0887\"],[0.1111111111111111,\"#46039f\"],[0.2222222222222222,\"#7201a8\"],[0.3333333333333333,\"#9c179e\"],[0.4444444444444444,\"#bd3786\"],[0.5555555555555556,\"#d8576b\"],[0.6666666666666666,\"#ed7953\"],[0.7777777777777778,\"#fb9f3a\"],[0.8888888888888888,\"#fdca26\"],[1.0,\"#f0f921\"]]}],\"surface\":[{\"type\":\"surface\",\"colorbar\":{\"outlinewidth\":0,\"ticks\":\"\"},\"colorscale\":[[0.0,\"#0d0887\"],[0.1111111111111111,\"#46039f\"],[0.2222222222222222,\"#7201a8\"],[0.3333333333333333,\"#9c179e\"],[0.4444444444444444,\"#bd3786\"],[0.5555555555555556,\"#d8576b\"],[0.6666666666666666,\"#ed7953\"],[0.7777777777777778,\"#fb9f3a\"],[0.8888888888888888,\"#fdca26\"],[1.0,\"#f0f921\"]]}],\"mesh3d\":[{\"type\":\"mesh3d\",\"colorbar\":{\"outlinewidth\":0,\"ticks\":\"\"}}],\"scatter\":[{\"fillpattern\":{\"fillmode\":\"overlay\",\"size\":10,\"solidity\":0.2},\"type\":\"scatter\"}],\"parcoords\":[{\"type\":\"parcoords\",\"line\":{\"colorbar\":{\"outlinewidth\":0,\"ticks\":\"\"}}}],\"scatterpolargl\":[{\"type\":\"scatterpolargl\",\"marker\":{\"colorbar\":{\"outlinewidth\":0,\"ticks\":\"\"}}}],\"bar\":[{\"error_x\":{\"color\":\"#2a3f5f\"},\"error_y\":{\"color\":\"#2a3f5f\"},\"marker\":{\"line\":{\"color\":\"#E5ECF6\",\"width\":0.5},\"pattern\":{\"fillmode\":\"overlay\",\"size\":10,\"solidity\":0.2}},\"type\":\"bar\"}],\"scattergeo\":[{\"type\":\"scattergeo\",\"marker\":{\"colorbar\":{\"outlinewidth\":0,\"ticks\":\"\"}}}],\"scatterpolar\":[{\"type\":\"scatterpolar\",\"marker\":{\"colorbar\":{\"outlinewidth\":0,\"ticks\":\"\"}}}],\"histogram\":[{\"marker\":{\"pattern\":{\"fillmode\":\"overlay\",\"size\":10,\"solidity\":0.2}},\"type\":\"histogram\"}],\"scattergl\":[{\"type\":\"scattergl\",\"marker\":{\"colorbar\":{\"outlinewidth\":0,\"ticks\":\"\"}}}],\"scatter3d\":[{\"type\":\"scatter3d\",\"line\":{\"colorbar\":{\"outlinewidth\":0,\"ticks\":\"\"}},\"marker\":{\"colorbar\":{\"outlinewidth\":0,\"ticks\":\"\"}}}],\"scattermapbox\":[{\"type\":\"scattermapbox\",\"marker\":{\"colorbar\":{\"outlinewidth\":0,\"ticks\":\"\"}}}],\"scatterternary\":[{\"type\":\"scatterternary\",\"marker\":{\"colorbar\":{\"outlinewidth\":0,\"ticks\":\"\"}}}],\"scattercarpet\":[{\"type\":\"scattercarpet\",\"marker\":{\"colorbar\":{\"outlinewidth\":0,\"ticks\":\"\"}}}],\"carpet\":[{\"aaxis\":{\"endlinecolor\":\"#2a3f5f\",\"gridcolor\":\"white\",\"linecolor\":\"white\",\"minorgridcolor\":\"white\",\"startlinecolor\":\"#2a3f5f\"},\"baxis\":{\"endlinecolor\":\"#2a3f5f\",\"gridcolor\":\"white\",\"linecolor\":\"white\",\"minorgridcolor\":\"white\",\"startlinecolor\":\"#2a3f5f\"},\"type\":\"carpet\"}],\"table\":[{\"cells\":{\"fill\":{\"color\":\"#EBF0F8\"},\"line\":{\"color\":\"white\"}},\"header\":{\"fill\":{\"color\":\"#C8D4E3\"},\"line\":{\"color\":\"white\"}},\"type\":\"table\"}],\"barpolar\":[{\"marker\":{\"line\":{\"color\":\"#E5ECF6\",\"width\":0.5},\"pattern\":{\"fillmode\":\"overlay\",\"size\":10,\"solidity\":0.2}},\"type\":\"barpolar\"}],\"pie\":[{\"automargin\":true,\"type\":\"pie\"}]},\"layout\":{\"autotypenumbers\":\"strict\",\"colorway\":[\"#636efa\",\"#EF553B\",\"#00cc96\",\"#ab63fa\",\"#FFA15A\",\"#19d3f3\",\"#FF6692\",\"#B6E880\",\"#FF97FF\",\"#FECB52\"],\"font\":{\"color\":\"#2a3f5f\"},\"hovermode\":\"closest\",\"hoverlabel\":{\"align\":\"left\"},\"paper_bgcolor\":\"white\",\"plot_bgcolor\":\"#E5ECF6\",\"polar\":{\"bgcolor\":\"#E5ECF6\",\"angularaxis\":{\"gridcolor\":\"white\",\"linecolor\":\"white\",\"ticks\":\"\"},\"radialaxis\":{\"gridcolor\":\"white\",\"linecolor\":\"white\",\"ticks\":\"\"}},\"ternary\":{\"bgcolor\":\"#E5ECF6\",\"aaxis\":{\"gridcolor\":\"white\",\"linecolor\":\"white\",\"ticks\":\"\"},\"baxis\":{\"gridcolor\":\"white\",\"linecolor\":\"white\",\"ticks\":\"\"},\"caxis\":{\"gridcolor\":\"white\",\"linecolor\":\"white\",\"ticks\":\"\"}},\"coloraxis\":{\"colorbar\":{\"outlinewidth\":0,\"ticks\":\"\"}},\"colorscale\":{\"sequential\":[[0.0,\"#0d0887\"],[0.1111111111111111,\"#46039f\"],[0.2222222222222222,\"#7201a8\"],[0.3333333333333333,\"#9c179e\"],[0.4444444444444444,\"#bd3786\"],[0.5555555555555556,\"#d8576b\"],[0.6666666666666666,\"#ed7953\"],[0.7777777777777778,\"#fb9f3a\"],[0.8888888888888888,\"#fdca26\"],[1.0,\"#f0f921\"]],\"sequentialminus\":[[0.0,\"#0d0887\"],[0.1111111111111111,\"#46039f\"],[0.2222222222222222,\"#7201a8\"],[0.3333333333333333,\"#9c179e\"],[0.4444444444444444,\"#bd3786\"],[0.5555555555555556,\"#d8576b\"],[0.6666666666666666,\"#ed7953\"],[0.7777777777777778,\"#fb9f3a\"],[0.8888888888888888,\"#fdca26\"],[1.0,\"#f0f921\"]],\"diverging\":[[0,\"#8e0152\"],[0.1,\"#c51b7d\"],[0.2,\"#de77ae\"],[0.3,\"#f1b6da\"],[0.4,\"#fde0ef\"],[0.5,\"#f7f7f7\"],[0.6,\"#e6f5d0\"],[0.7,\"#b8e186\"],[0.8,\"#7fbc41\"],[0.9,\"#4d9221\"],[1,\"#276419\"]]},\"xaxis\":{\"gridcolor\":\"white\",\"linecolor\":\"white\",\"ticks\":\"\",\"title\":{\"standoff\":15},\"zerolinecolor\":\"white\",\"automargin\":true,\"zerolinewidth\":2},\"yaxis\":{\"gridcolor\":\"white\",\"linecolor\":\"white\",\"ticks\":\"\",\"title\":{\"standoff\":15},\"zerolinecolor\":\"white\",\"automargin\":true,\"zerolinewidth\":2},\"scene\":{\"xaxis\":{\"backgroundcolor\":\"#E5ECF6\",\"gridcolor\":\"white\",\"linecolor\":\"white\",\"showbackground\":true,\"ticks\":\"\",\"zerolinecolor\":\"white\",\"gridwidth\":2},\"yaxis\":{\"backgroundcolor\":\"#E5ECF6\",\"gridcolor\":\"white\",\"linecolor\":\"white\",\"showbackground\":true,\"ticks\":\"\",\"zerolinecolor\":\"white\",\"gridwidth\":2},\"zaxis\":{\"backgroundcolor\":\"#E5ECF6\",\"gridcolor\":\"white\",\"linecolor\":\"white\",\"showbackground\":true,\"ticks\":\"\",\"zerolinecolor\":\"white\",\"gridwidth\":2}},\"shapedefaults\":{\"line\":{\"color\":\"#2a3f5f\"}},\"annotationdefaults\":{\"arrowcolor\":\"#2a3f5f\",\"arrowhead\":0,\"arrowwidth\":1},\"geo\":{\"bgcolor\":\"white\",\"landcolor\":\"#E5ECF6\",\"subunitcolor\":\"white\",\"showland\":true,\"showlakes\":true,\"lakecolor\":\"white\"},\"title\":{\"x\":0.05},\"mapbox\":{\"style\":\"light\"}}},\"xaxis\":{\"anchor\":\"y\",\"domain\":[0.0,1.0],\"title\":{\"text\":\"Tempo de espera\"}},\"yaxis\":{\"anchor\":\"x\",\"domain\":[0.0,1.0],\"title\":{\"text\":\"count\"}},\"legend\":{\"tracegroupgap\":0},\"margin\":{\"t\":60},\"barmode\":\"relative\"},                        {\"responsive\": true}                    ).then(function(){\n",
              "                            \n",
              "var gd = document.getElementById('fb2cf68a-60ff-461f-99e4-c3f5185280fe');\n",
              "var x = new MutationObserver(function (mutations, observer) {{\n",
              "        var display = window.getComputedStyle(gd).display;\n",
              "        if (!display || display === 'none') {{\n",
              "            console.log([gd, 'removed!']);\n",
              "            Plotly.purge(gd);\n",
              "            observer.disconnect();\n",
              "        }}\n",
              "}});\n",
              "\n",
              "// Listen for the removal of the full notebook cells\n",
              "var notebookContainer = gd.closest('#notebook-container');\n",
              "if (notebookContainer) {{\n",
              "    x.observe(notebookContainer, {childList: true});\n",
              "}}\n",
              "\n",
              "// Listen for the clearing of the current output cell\n",
              "var outputEl = gd.closest('.output');\n",
              "if (outputEl) {{\n",
              "    x.observe(outputEl, {childList: true});\n",
              "}}\n",
              "\n",
              "                        })                };                            </script>        </div>\n",
              "</body>\n",
              "</html>"
            ]
          },
          "metadata": {}
        }
      ]
    },
    {
      "cell_type": "markdown",
      "source": [
        "##### Clientes no sistema"
      ],
      "metadata": {
        "id": "IhGKmKmhGMzq"
      }
    },
    {
      "cell_type": "code",
      "source": [
        "print(f'Intervalo de confiança: {intervalo_confianca(clientes_sistema)}')\n",
        "print(f'Média: {np.mean(clientes_sistema)}\\n')\n",
        "\n",
        "plotar_histograma(clientes_sistema, 'Clientes no sistema')"
      ],
      "metadata": {
        "colab": {
          "base_uri": "https://localhost:8080/",
          "height": 594
        },
        "outputId": "dd0332a0-d4b5-46ef-f935-f9de2f8ab5c8",
        "id": "Qj-DfYYYGMzq"
      },
      "execution_count": 54,
      "outputs": [
        {
          "output_type": "stream",
          "name": "stdout",
          "text": [
            "Intervalo de confiança: (0.2916935647590087, 0.3724138434342457)\n",
            "Média: 0.3320537040966272\n",
            "\n"
          ]
        },
        {
          "output_type": "display_data",
          "data": {
            "text/html": [
              "<html>\n",
              "<head><meta charset=\"utf-8\" /></head>\n",
              "<body>\n",
              "    <div>            <script src=\"https://cdnjs.cloudflare.com/ajax/libs/mathjax/2.7.5/MathJax.js?config=TeX-AMS-MML_SVG\"></script><script type=\"text/javascript\">if (window.MathJax && window.MathJax.Hub && window.MathJax.Hub.Config) {window.MathJax.Hub.Config({SVG: {font: \"STIX-Web\"}});}</script>                <script type=\"text/javascript\">window.PlotlyConfig = {MathJaxConfig: 'local'};</script>\n",
              "        <script src=\"https://cdn.plot.ly/plotly-2.18.2.min.js\"></script>                <div id=\"62dca697-05dc-4822-8fe0-2d79c74b1ad1\" class=\"plotly-graph-div\" style=\"height:525px; width:100%;\"></div>            <script type=\"text/javascript\">                                    window.PLOTLYENV=window.PLOTLYENV || {};                                    if (document.getElementById(\"62dca697-05dc-4822-8fe0-2d79c74b1ad1\")) {                    Plotly.newPlot(                        \"62dca697-05dc-4822-8fe0-2d79c74b1ad1\",                        [{\"alignmentgroup\":\"True\",\"bingroup\":\"x\",\"hovertemplate\":\"Clientes no sistema=%{x}<br>count=%{y}<extra></extra>\",\"legendgroup\":\"\",\"marker\":{\"color\":\"#636efa\",\"pattern\":{\"shape\":\"\"}},\"name\":\"\",\"offsetgroup\":\"\",\"orientation\":\"v\",\"showlegend\":false,\"x\":[0.32877502140377285,0.33404404398678017,0.32543685079648865,0.3490584777252394,0.37485047369646374,0.32294924985320217,0.3259918089837081,0.33885957781271836,0.31301197078619436,0.32087915982793486,0.3104445349232095,0.31767314329517254,0.37117281421797566,0.30900212554880285,0.3344308387991209,0.36716342736755714,0.3501615643609847,0.3465248278116416,0.3143082484729076,0.34500240191949066,0.3355000862323151,0.308443347114265,0.3790380106544319,0.33994961857722117,0.324780880452011,0.31196637043910463,0.297616759338733,0.31541318991495343,0.33786918362100193,0.33213699605767394,0.3285626548621993,0.32683233803786743,0.32966071726363017,0.3163764448371742,0.3630877284513336,0.34397748492093644,0.33802103166216924,0.35570042852964606,0.32856435683781376,0.3592684316856298,0.3094282009003874,0.3519744393210057,0.3629528738525929,0.3379088542933477,0.336099098440598,0.29333551783317374,0.29655563985527444,0.3180140101815347,0.30975127142392017,0.33641454821289235,0.31541894525682346,0.2840320358657427,0.3247757010730293,0.32485390484923315,0.32192279763192116,0.3271704232356901,0.33831913266965785,0.3420433074913141,0.3066888384626703,0.3145471006357137,0.33312867218845216,0.30844660607543656,0.31885919457222084,0.3125626579274337,0.32115979055772254,0.32820718755744116,0.3588985224904781,0.32205415651947245,0.3212578296794056,0.33131619476321605,0.34518132870266466,0.3193889345972123,0.33422334028686596,0.33888782047858806,0.31586402350186094,0.31613468314660775,0.3235787567409766,0.3043445194294307,0.3612278456063752,0.3311251149618666,0.3499129571960198,0.37117020140557655,0.37191761099104753,0.34191467121546104,0.3844142078790193,0.3235611797510927,0.37065766491203317,0.3659013620758373,0.3479300606003932,0.3643122779151524,0.36042973165082587,0.31102089445170866,0.34350739535503644,0.3023927607637933,0.3268758268318267,0.3247536983536924,0.3135418051680257,0.3403637048187635,0.3365889454106306,0.33253754081658654,0.32862644362065524,0.33283384727478177,0.3357508723177195,0.3387051254571991,0.33095057178089643,0.3392571268477559,0.3456270218367748,0.35122461877573,0.3502300828955301,0.3381617700947502,0.32979126082087273,0.28190664589994935,0.37073909182946335,0.33890169214184296,0.3566384827176643,0.3486642999021722,0.37832005052383433,0.3422886702000267,0.3207562701315166,0.36296166049918044,0.34680994061104864,0.3202063382830331,0.35125156890570247,0.34074708492667144,0.33842763131735804,0.304195425715108,0.30430352456023263,0.3646661535764028,0.307974434205822,0.3101757609348129,0.3308837098986906,0.29511429083812535,0.34869364887580523,0.34505950404977637,0.33361300723571424,0.33975994309913493,0.29498487203282764,0.3015248133035769,0.35305590814897264,0.319003470365568,0.3275771497745898,0.3072623576732615,0.32780372170643196,0.31573262176051264,0.34002045283152055,0.3532463282871555,0.32675113410331674,0.32109200792350634,0.3429980214836658,0.3292740454726377,0.3471751882275578,0.3378847762870046,0.3419724078165962,0.35673100381967915,0.3411098012445155,0.3450039429717515,0.3482030895437234,0.336055599110462,0.3405679593826912,0.36391662695063964,0.3134507714359118,0.3517541664851981,0.3012376480400212,0.336480528119455,0.3078410464404043,0.3262308532184427,0.31548545493905444,0.3155258061705676,0.3418992254633796,0.31406320686884626,0.3248886499608548,0.30567204187482905,0.36012201208354,0.34124864020077994,0.3492754656455955,0.3606207235655502,0.3336680017035045,0.32421553333719644,0.3234536962649656,0.3390886362161768,0.30048075343594327,0.29525422636223314,0.3227067654324398,0.34113550867555065,0.3129453783550345,0.3635534601578106,0.3474816618911878,0.33479201640230566,0.3328181704443775,0.31098564743084933,0.3151695956313916,0.30234001727522525,0.3685202085020593,0.3193015944515445,0.3362059354556107,0.3189765316101837,0.33474264771997647,0.34227802324180134,0.33397542614928627,0.3028939401868993,0.30216015436983984,0.2947665012104821,0.3323607278227568,0.3334388693488368,0.36095204284511556,0.3453888361929819,0.347505464353897,0.3246070486768288,0.34702825719733726,0.3151958183288959,0.3085389457814743,0.344724892787523,0.2946409223092655,0.31644646530947595,0.3074810804098708,0.3125170433050775,0.32357759686966875,0.33323244082230413,0.3418631883050747,0.3136261459721861,0.29980141278379774,0.3356185471903404,0.3373019206825721,0.37865937257103094,0.29784045679752835,0.3140556409223903,0.3155489203919485,0.3310689581289246,0.3401241179663542,0.3374532208483835,0.31393483762076624,0.32690521994805355,0.3508048093728725,0.33749011988111044,0.34935047190698615,0.4040839172355283,0.3432451716156932,0.31975078953433084,0.2907367764403879,0.3104884611310718,0.3095227380691849,0.3175609863024674,0.34270998201638647,0.34321824217811087,0.3280998726725007,0.36011304702218955,0.3250002441888654,0.3393087182193887,0.3061302872682394,0.35798563987174564,0.34864087465016863,0.30866113030314374,0.2882920048902334,0.33867918737410757,0.32400267220579126,0.30988550646175267,0.3260278464897758,0.31485241623003496,0.3888805281663518,0.31707327331708735,0.31366962450343366,0.34717170225890603,0.3393512621437752,0.33774000680565724,0.3250883017318537,0.35236387245263295,0.30872034822440525,0.3113982282244693,0.32413453124915886,0.32409282757678304,0.32649194075046345,0.33309833234128255,0.3573165710785004,0.3538488447172287,0.34441597592302714,0.29776262814249016,0.34703459707885614,0.311004869654744,0.35236980496577347,0.34322608275809635,0.30957787147908644,0.3447119501436136,0.34606486215615107,0.3450627117999552,0.3077421842876544,0.361144237827166,0.320773326562431,0.3227094092854149,0.37419147835533345,0.3811195910338651,0.322033844631588,0.344626240780625,0.3261419138811944,0.32332057992746077,0.311621785968287,0.3325701326284223,0.3492304125191657,0.354853251164563,0.3096394767237518,0.3495054025822513],\"xaxis\":\"x\",\"yaxis\":\"y\",\"type\":\"histogram\"}],                        {\"template\":{\"data\":{\"histogram2dcontour\":[{\"type\":\"histogram2dcontour\",\"colorbar\":{\"outlinewidth\":0,\"ticks\":\"\"},\"colorscale\":[[0.0,\"#0d0887\"],[0.1111111111111111,\"#46039f\"],[0.2222222222222222,\"#7201a8\"],[0.3333333333333333,\"#9c179e\"],[0.4444444444444444,\"#bd3786\"],[0.5555555555555556,\"#d8576b\"],[0.6666666666666666,\"#ed7953\"],[0.7777777777777778,\"#fb9f3a\"],[0.8888888888888888,\"#fdca26\"],[1.0,\"#f0f921\"]]}],\"choropleth\":[{\"type\":\"choropleth\",\"colorbar\":{\"outlinewidth\":0,\"ticks\":\"\"}}],\"histogram2d\":[{\"type\":\"histogram2d\",\"colorbar\":{\"outlinewidth\":0,\"ticks\":\"\"},\"colorscale\":[[0.0,\"#0d0887\"],[0.1111111111111111,\"#46039f\"],[0.2222222222222222,\"#7201a8\"],[0.3333333333333333,\"#9c179e\"],[0.4444444444444444,\"#bd3786\"],[0.5555555555555556,\"#d8576b\"],[0.6666666666666666,\"#ed7953\"],[0.7777777777777778,\"#fb9f3a\"],[0.8888888888888888,\"#fdca26\"],[1.0,\"#f0f921\"]]}],\"heatmap\":[{\"type\":\"heatmap\",\"colorbar\":{\"outlinewidth\":0,\"ticks\":\"\"},\"colorscale\":[[0.0,\"#0d0887\"],[0.1111111111111111,\"#46039f\"],[0.2222222222222222,\"#7201a8\"],[0.3333333333333333,\"#9c179e\"],[0.4444444444444444,\"#bd3786\"],[0.5555555555555556,\"#d8576b\"],[0.6666666666666666,\"#ed7953\"],[0.7777777777777778,\"#fb9f3a\"],[0.8888888888888888,\"#fdca26\"],[1.0,\"#f0f921\"]]}],\"heatmapgl\":[{\"type\":\"heatmapgl\",\"colorbar\":{\"outlinewidth\":0,\"ticks\":\"\"},\"colorscale\":[[0.0,\"#0d0887\"],[0.1111111111111111,\"#46039f\"],[0.2222222222222222,\"#7201a8\"],[0.3333333333333333,\"#9c179e\"],[0.4444444444444444,\"#bd3786\"],[0.5555555555555556,\"#d8576b\"],[0.6666666666666666,\"#ed7953\"],[0.7777777777777778,\"#fb9f3a\"],[0.8888888888888888,\"#fdca26\"],[1.0,\"#f0f921\"]]}],\"contourcarpet\":[{\"type\":\"contourcarpet\",\"colorbar\":{\"outlinewidth\":0,\"ticks\":\"\"}}],\"contour\":[{\"type\":\"contour\",\"colorbar\":{\"outlinewidth\":0,\"ticks\":\"\"},\"colorscale\":[[0.0,\"#0d0887\"],[0.1111111111111111,\"#46039f\"],[0.2222222222222222,\"#7201a8\"],[0.3333333333333333,\"#9c179e\"],[0.4444444444444444,\"#bd3786\"],[0.5555555555555556,\"#d8576b\"],[0.6666666666666666,\"#ed7953\"],[0.7777777777777778,\"#fb9f3a\"],[0.8888888888888888,\"#fdca26\"],[1.0,\"#f0f921\"]]}],\"surface\":[{\"type\":\"surface\",\"colorbar\":{\"outlinewidth\":0,\"ticks\":\"\"},\"colorscale\":[[0.0,\"#0d0887\"],[0.1111111111111111,\"#46039f\"],[0.2222222222222222,\"#7201a8\"],[0.3333333333333333,\"#9c179e\"],[0.4444444444444444,\"#bd3786\"],[0.5555555555555556,\"#d8576b\"],[0.6666666666666666,\"#ed7953\"],[0.7777777777777778,\"#fb9f3a\"],[0.8888888888888888,\"#fdca26\"],[1.0,\"#f0f921\"]]}],\"mesh3d\":[{\"type\":\"mesh3d\",\"colorbar\":{\"outlinewidth\":0,\"ticks\":\"\"}}],\"scatter\":[{\"fillpattern\":{\"fillmode\":\"overlay\",\"size\":10,\"solidity\":0.2},\"type\":\"scatter\"}],\"parcoords\":[{\"type\":\"parcoords\",\"line\":{\"colorbar\":{\"outlinewidth\":0,\"ticks\":\"\"}}}],\"scatterpolargl\":[{\"type\":\"scatterpolargl\",\"marker\":{\"colorbar\":{\"outlinewidth\":0,\"ticks\":\"\"}}}],\"bar\":[{\"error_x\":{\"color\":\"#2a3f5f\"},\"error_y\":{\"color\":\"#2a3f5f\"},\"marker\":{\"line\":{\"color\":\"#E5ECF6\",\"width\":0.5},\"pattern\":{\"fillmode\":\"overlay\",\"size\":10,\"solidity\":0.2}},\"type\":\"bar\"}],\"scattergeo\":[{\"type\":\"scattergeo\",\"marker\":{\"colorbar\":{\"outlinewidth\":0,\"ticks\":\"\"}}}],\"scatterpolar\":[{\"type\":\"scatterpolar\",\"marker\":{\"colorbar\":{\"outlinewidth\":0,\"ticks\":\"\"}}}],\"histogram\":[{\"marker\":{\"pattern\":{\"fillmode\":\"overlay\",\"size\":10,\"solidity\":0.2}},\"type\":\"histogram\"}],\"scattergl\":[{\"type\":\"scattergl\",\"marker\":{\"colorbar\":{\"outlinewidth\":0,\"ticks\":\"\"}}}],\"scatter3d\":[{\"type\":\"scatter3d\",\"line\":{\"colorbar\":{\"outlinewidth\":0,\"ticks\":\"\"}},\"marker\":{\"colorbar\":{\"outlinewidth\":0,\"ticks\":\"\"}}}],\"scattermapbox\":[{\"type\":\"scattermapbox\",\"marker\":{\"colorbar\":{\"outlinewidth\":0,\"ticks\":\"\"}}}],\"scatterternary\":[{\"type\":\"scatterternary\",\"marker\":{\"colorbar\":{\"outlinewidth\":0,\"ticks\":\"\"}}}],\"scattercarpet\":[{\"type\":\"scattercarpet\",\"marker\":{\"colorbar\":{\"outlinewidth\":0,\"ticks\":\"\"}}}],\"carpet\":[{\"aaxis\":{\"endlinecolor\":\"#2a3f5f\",\"gridcolor\":\"white\",\"linecolor\":\"white\",\"minorgridcolor\":\"white\",\"startlinecolor\":\"#2a3f5f\"},\"baxis\":{\"endlinecolor\":\"#2a3f5f\",\"gridcolor\":\"white\",\"linecolor\":\"white\",\"minorgridcolor\":\"white\",\"startlinecolor\":\"#2a3f5f\"},\"type\":\"carpet\"}],\"table\":[{\"cells\":{\"fill\":{\"color\":\"#EBF0F8\"},\"line\":{\"color\":\"white\"}},\"header\":{\"fill\":{\"color\":\"#C8D4E3\"},\"line\":{\"color\":\"white\"}},\"type\":\"table\"}],\"barpolar\":[{\"marker\":{\"line\":{\"color\":\"#E5ECF6\",\"width\":0.5},\"pattern\":{\"fillmode\":\"overlay\",\"size\":10,\"solidity\":0.2}},\"type\":\"barpolar\"}],\"pie\":[{\"automargin\":true,\"type\":\"pie\"}]},\"layout\":{\"autotypenumbers\":\"strict\",\"colorway\":[\"#636efa\",\"#EF553B\",\"#00cc96\",\"#ab63fa\",\"#FFA15A\",\"#19d3f3\",\"#FF6692\",\"#B6E880\",\"#FF97FF\",\"#FECB52\"],\"font\":{\"color\":\"#2a3f5f\"},\"hovermode\":\"closest\",\"hoverlabel\":{\"align\":\"left\"},\"paper_bgcolor\":\"white\",\"plot_bgcolor\":\"#E5ECF6\",\"polar\":{\"bgcolor\":\"#E5ECF6\",\"angularaxis\":{\"gridcolor\":\"white\",\"linecolor\":\"white\",\"ticks\":\"\"},\"radialaxis\":{\"gridcolor\":\"white\",\"linecolor\":\"white\",\"ticks\":\"\"}},\"ternary\":{\"bgcolor\":\"#E5ECF6\",\"aaxis\":{\"gridcolor\":\"white\",\"linecolor\":\"white\",\"ticks\":\"\"},\"baxis\":{\"gridcolor\":\"white\",\"linecolor\":\"white\",\"ticks\":\"\"},\"caxis\":{\"gridcolor\":\"white\",\"linecolor\":\"white\",\"ticks\":\"\"}},\"coloraxis\":{\"colorbar\":{\"outlinewidth\":0,\"ticks\":\"\"}},\"colorscale\":{\"sequential\":[[0.0,\"#0d0887\"],[0.1111111111111111,\"#46039f\"],[0.2222222222222222,\"#7201a8\"],[0.3333333333333333,\"#9c179e\"],[0.4444444444444444,\"#bd3786\"],[0.5555555555555556,\"#d8576b\"],[0.6666666666666666,\"#ed7953\"],[0.7777777777777778,\"#fb9f3a\"],[0.8888888888888888,\"#fdca26\"],[1.0,\"#f0f921\"]],\"sequentialminus\":[[0.0,\"#0d0887\"],[0.1111111111111111,\"#46039f\"],[0.2222222222222222,\"#7201a8\"],[0.3333333333333333,\"#9c179e\"],[0.4444444444444444,\"#bd3786\"],[0.5555555555555556,\"#d8576b\"],[0.6666666666666666,\"#ed7953\"],[0.7777777777777778,\"#fb9f3a\"],[0.8888888888888888,\"#fdca26\"],[1.0,\"#f0f921\"]],\"diverging\":[[0,\"#8e0152\"],[0.1,\"#c51b7d\"],[0.2,\"#de77ae\"],[0.3,\"#f1b6da\"],[0.4,\"#fde0ef\"],[0.5,\"#f7f7f7\"],[0.6,\"#e6f5d0\"],[0.7,\"#b8e186\"],[0.8,\"#7fbc41\"],[0.9,\"#4d9221\"],[1,\"#276419\"]]},\"xaxis\":{\"gridcolor\":\"white\",\"linecolor\":\"white\",\"ticks\":\"\",\"title\":{\"standoff\":15},\"zerolinecolor\":\"white\",\"automargin\":true,\"zerolinewidth\":2},\"yaxis\":{\"gridcolor\":\"white\",\"linecolor\":\"white\",\"ticks\":\"\",\"title\":{\"standoff\":15},\"zerolinecolor\":\"white\",\"automargin\":true,\"zerolinewidth\":2},\"scene\":{\"xaxis\":{\"backgroundcolor\":\"#E5ECF6\",\"gridcolor\":\"white\",\"linecolor\":\"white\",\"showbackground\":true,\"ticks\":\"\",\"zerolinecolor\":\"white\",\"gridwidth\":2},\"yaxis\":{\"backgroundcolor\":\"#E5ECF6\",\"gridcolor\":\"white\",\"linecolor\":\"white\",\"showbackground\":true,\"ticks\":\"\",\"zerolinecolor\":\"white\",\"gridwidth\":2},\"zaxis\":{\"backgroundcolor\":\"#E5ECF6\",\"gridcolor\":\"white\",\"linecolor\":\"white\",\"showbackground\":true,\"ticks\":\"\",\"zerolinecolor\":\"white\",\"gridwidth\":2}},\"shapedefaults\":{\"line\":{\"color\":\"#2a3f5f\"}},\"annotationdefaults\":{\"arrowcolor\":\"#2a3f5f\",\"arrowhead\":0,\"arrowwidth\":1},\"geo\":{\"bgcolor\":\"white\",\"landcolor\":\"#E5ECF6\",\"subunitcolor\":\"white\",\"showland\":true,\"showlakes\":true,\"lakecolor\":\"white\"},\"title\":{\"x\":0.05},\"mapbox\":{\"style\":\"light\"}}},\"xaxis\":{\"anchor\":\"y\",\"domain\":[0.0,1.0],\"title\":{\"text\":\"Clientes no sistema\"}},\"yaxis\":{\"anchor\":\"x\",\"domain\":[0.0,1.0],\"title\":{\"text\":\"count\"}},\"legend\":{\"tracegroupgap\":0},\"margin\":{\"t\":60},\"barmode\":\"relative\"},                        {\"responsive\": true}                    ).then(function(){\n",
              "                            \n",
              "var gd = document.getElementById('62dca697-05dc-4822-8fe0-2d79c74b1ad1');\n",
              "var x = new MutationObserver(function (mutations, observer) {{\n",
              "        var display = window.getComputedStyle(gd).display;\n",
              "        if (!display || display === 'none') {{\n",
              "            console.log([gd, 'removed!']);\n",
              "            Plotly.purge(gd);\n",
              "            observer.disconnect();\n",
              "        }}\n",
              "}});\n",
              "\n",
              "// Listen for the removal of the full notebook cells\n",
              "var notebookContainer = gd.closest('#notebook-container');\n",
              "if (notebookContainer) {{\n",
              "    x.observe(notebookContainer, {childList: true});\n",
              "}}\n",
              "\n",
              "// Listen for the clearing of the current output cell\n",
              "var outputEl = gd.closest('.output');\n",
              "if (outputEl) {{\n",
              "    x.observe(outputEl, {childList: true});\n",
              "}}\n",
              "\n",
              "                        })                };                            </script>        </div>\n",
              "</body>\n",
              "</html>"
            ]
          },
          "metadata": {}
        }
      ]
    },
    {
      "cell_type": "markdown",
      "source": [
        "#### Simulador 2"
      ],
      "metadata": {
        "id": "VT2aqFZ7GQVI"
      }
    },
    {
      "cell_type": "code",
      "source": [
        "tempo_espera, clientes_sistema = n_simulacoes(300, 1, 4, 1000, simulador2)"
      ],
      "metadata": {
        "id": "TPPY8_ygGQVe"
      },
      "execution_count": 55,
      "outputs": []
    },
    {
      "cell_type": "markdown",
      "source": [
        "##### Tempo de espera\n",
        "\n"
      ],
      "metadata": {
        "id": "NTIjkOk5GQVf"
      }
    },
    {
      "cell_type": "code",
      "source": [
        "print(f'Intervalo de confiança: {intervalo_confianca(tempo_espera)}')\n",
        "print(f'Média: {np.mean(tempo_espera)}\\n')\n",
        "\n",
        "plotar_histograma(tempo_espera, 'Tempo de espera')"
      ],
      "metadata": {
        "colab": {
          "base_uri": "https://localhost:8080/",
          "height": 594
        },
        "outputId": "59ab619a-3f37-48ee-8e89-b1e7d6810968",
        "id": "9kV2FS2RGQVg"
      },
      "execution_count": 56,
      "outputs": [
        {
          "output_type": "stream",
          "name": "stdout",
          "text": [
            "Intervalo de confiança: (0.3011601128136674, 0.3672015466252476)\n",
            "Média: 0.3341808297194575\n",
            "\n"
          ]
        },
        {
          "output_type": "display_data",
          "data": {
            "text/html": [
              "<html>\n",
              "<head><meta charset=\"utf-8\" /></head>\n",
              "<body>\n",
              "    <div>            <script src=\"https://cdnjs.cloudflare.com/ajax/libs/mathjax/2.7.5/MathJax.js?config=TeX-AMS-MML_SVG\"></script><script type=\"text/javascript\">if (window.MathJax && window.MathJax.Hub && window.MathJax.Hub.Config) {window.MathJax.Hub.Config({SVG: {font: \"STIX-Web\"}});}</script>                <script type=\"text/javascript\">window.PlotlyConfig = {MathJaxConfig: 'local'};</script>\n",
              "        <script src=\"https://cdn.plot.ly/plotly-2.18.2.min.js\"></script>                <div id=\"969a1a3d-387c-4c90-9838-a6b55d729290\" class=\"plotly-graph-div\" style=\"height:525px; width:100%;\"></div>            <script type=\"text/javascript\">                                    window.PLOTLYENV=window.PLOTLYENV || {};                                    if (document.getElementById(\"969a1a3d-387c-4c90-9838-a6b55d729290\")) {                    Plotly.newPlot(                        \"969a1a3d-387c-4c90-9838-a6b55d729290\",                        [{\"alignmentgroup\":\"True\",\"bingroup\":\"x\",\"hovertemplate\":\"Tempo de espera=%{x}<br>count=%{y}<extra></extra>\",\"legendgroup\":\"\",\"marker\":{\"color\":\"#636efa\",\"pattern\":{\"shape\":\"\"}},\"name\":\"\",\"offsetgroup\":\"\",\"orientation\":\"v\",\"showlegend\":false,\"x\":[0.32684740083224334,0.37007425181101156,0.3162734167455936,0.33497079509448746,0.31405953759719535,0.3366119586598894,0.3463929467641285,0.2963952127886671,0.3268577958899879,0.3522903743275144,0.32843281751569503,0.36074696815165713,0.3578593133620641,0.3257302020494794,0.3349363021359963,0.32547112421575886,0.32390031427718907,0.3192611468704737,0.34671973473126527,0.3407362952940611,0.2995003474803419,0.3520808025986805,0.3309575960447029,0.32930741155134646,0.334991151351668,0.3274277748071513,0.3337615982643982,0.34876781132063955,0.36945636234677426,0.3404709173857637,0.3492664923871505,0.3274800930598448,0.3092609060431736,0.35785951035252794,0.3188203224747391,0.3528256752037751,0.34123381700391453,0.32726937626724995,0.35104529131281637,0.3220450694316198,0.337705330039022,0.3259427311334635,0.3237601289839656,0.31430176720008,0.3317742549990628,0.30756580583747056,0.302300695490969,0.3520311969913745,0.33111465270176316,0.31812784774587816,0.33798837538583276,0.3354985706457406,0.30960168536801647,0.3560322788361738,0.33740954300442083,0.312275787380496,0.3782607148680659,0.33355978322901514,0.31019253329027224,0.31581073920443403,0.31888697659478044,0.3680982648875389,0.3459545948588377,0.31053941769915877,0.32777419973024574,0.33023491129926186,0.3292246980885664,0.3472346899968397,0.33853733294893956,0.3612414041676558,0.29057577576152505,0.349893060743453,0.3520580640421855,0.3202555249880162,0.3329036300213471,0.359715032493266,0.3222153829973012,0.34015355542458187,0.32429983681297003,0.3407251867481412,0.3253430096387292,0.3191788182361614,0.3330953629374551,0.32987940527201937,0.36729384352637773,0.3205350909988707,0.31970074243963403,0.35256829929648237,0.3422836081451978,0.333891776841942,0.35519330743115596,0.3228637627526084,0.3509708974267389,0.3220050484458027,0.3693655327086591,0.3014038320032106,0.3538370364877214,0.34204655438427106,0.3503839499460021,0.30399193153584897,0.3486073634105835,0.3046296765809846,0.3477400048070108,0.34019720085967897,0.337842087679497,0.31451794831151636,0.33044441633550015,0.30345967970876725,0.34057350946166265,0.3329827113687822,0.31820348328930403,0.31124882378992824,0.32643430490828346,0.3157183819093114,0.3089939896911917,0.35671630305122815,0.32941095377280816,0.36963256495223623,0.3546568061954407,0.3231835831486996,0.36846867355705276,0.34762382864263136,0.3219721345984505,0.32533386702321815,0.32698250107652166,0.34479483959923735,0.3486356922079389,0.3464458581974861,0.3376471449583151,0.34271428915206087,0.3310710644075467,0.33964534729166873,0.32969357120717924,0.3176454464828074,0.36480316922200257,0.3502069450992966,0.3750806134806435,0.3332335210325028,0.3118956729228504,0.32441002332145197,0.32127051835102416,0.32710335444022937,0.33375383301350875,0.31595824298537184,0.34644716174178186,0.33275900250859236,0.3688040225024719,0.3196087926635248,0.3452893856315994,0.3226903827354378,0.32310050921815014,0.3282231134436838,0.3243459089279503,0.3415306804999432,0.336205639775112,0.3275418141523179,0.32553125400956917,0.3317352274737194,0.37634544436353645,0.32033888709237046,0.31162470255325436,0.31028142250605467,0.33585745376034126,0.33984378683966665,0.34497338244107834,0.34330064003859684,0.35304481956393485,0.32340940652355005,0.3499885305864236,0.3334006368548393,0.3106509195665277,0.3280755165795176,0.354459799824974,0.32424182959615183,0.3197991653782881,0.33801975559253983,0.35370089369179003,0.3307472800126837,0.32955178655680756,0.31827824734729276,0.32190376333135573,0.3523042411020966,0.33080958058880267,0.3363559678098844,0.35454475887901504,0.3129789955882054,0.3297992706423516,0.3070033950002015,0.32386007145379475,0.34113650011637153,0.34186890486894933,0.3216124377739976,0.2847120070900213,0.3654327753670909,0.33818135788754555,0.31440065920097654,0.3505660562237177,0.36552152223782264,0.32770282581183424,0.3677286730642688,0.34291110280469284,0.3457260698322624,0.30801842415473435,0.3191326724744494,0.3441106126931901,0.3671118088682397,0.3190564099886719,0.3282844039443563,0.3576792194522266,0.33751079439217346,0.334769831969035,0.3385373588312834,0.34992820233334326,0.3689004853519874,0.34707658993682117,0.35049934394009685,0.30750805145614385,0.33531817601935754,0.3108579006910352,0.3361862410804201,0.30674080126041914,0.32733712558036565,0.36137605904272146,0.3388591762665897,0.34841398826720793,0.3235488146090003,0.3336353236228176,0.34731943588729475,0.3160060278477515,0.32222172890786277,0.35347481822388616,0.34199558204445996,0.31803254093090627,0.3446198665065758,0.3261035471087572,0.3442989999685322,0.32151608535479564,0.336962745084461,0.3214280067310744,0.33406732308399817,0.3563525464727206,0.31429494730166585,0.32436068784225236,0.32223097293623393,0.3342289668281005,0.3366811835334803,0.3531872741589664,0.3651346798182924,0.32550577686690113,0.3161015909929747,0.3172490552949108,0.3437417502542873,0.3308046366214095,0.32916324804618796,0.35289849884329044,0.33362709805299423,0.34519798075941227,0.35646684423276087,0.3364464305340728,0.3277341574522766,0.3353659165903981,0.3315587616625495,0.3471428753855811,0.34695982365744055,0.33345051205367815,0.34106621451625513,0.3414907452035065,0.31241745589837355,0.3298560374831451,0.3722193034322964,0.3313807928912648,0.3321518949678916,0.3014981916548655,0.3418890485333903,0.35043782932746576,0.33462111027725056,0.33151310670526174,0.3541761503341721,0.3455513447360483,0.33319095516669944,0.33505868537014466,0.3350067303130259,0.3122361869774244,0.32629096445466604,0.33363270954846974,0.3336825838633969,0.31301623727261246,0.34398048615653626,0.3115265302413093,0.3187880660171196,0.3461329399334207,0.3202606128017599,0.3314005690458716,0.3213103386242902,0.3355248093314484,0.3167840113438988,0.3387667134441622,0.32417760288318404,0.33586833388005494,0.31461678947628285],\"xaxis\":\"x\",\"yaxis\":\"y\",\"type\":\"histogram\"}],                        {\"template\":{\"data\":{\"histogram2dcontour\":[{\"type\":\"histogram2dcontour\",\"colorbar\":{\"outlinewidth\":0,\"ticks\":\"\"},\"colorscale\":[[0.0,\"#0d0887\"],[0.1111111111111111,\"#46039f\"],[0.2222222222222222,\"#7201a8\"],[0.3333333333333333,\"#9c179e\"],[0.4444444444444444,\"#bd3786\"],[0.5555555555555556,\"#d8576b\"],[0.6666666666666666,\"#ed7953\"],[0.7777777777777778,\"#fb9f3a\"],[0.8888888888888888,\"#fdca26\"],[1.0,\"#f0f921\"]]}],\"choropleth\":[{\"type\":\"choropleth\",\"colorbar\":{\"outlinewidth\":0,\"ticks\":\"\"}}],\"histogram2d\":[{\"type\":\"histogram2d\",\"colorbar\":{\"outlinewidth\":0,\"ticks\":\"\"},\"colorscale\":[[0.0,\"#0d0887\"],[0.1111111111111111,\"#46039f\"],[0.2222222222222222,\"#7201a8\"],[0.3333333333333333,\"#9c179e\"],[0.4444444444444444,\"#bd3786\"],[0.5555555555555556,\"#d8576b\"],[0.6666666666666666,\"#ed7953\"],[0.7777777777777778,\"#fb9f3a\"],[0.8888888888888888,\"#fdca26\"],[1.0,\"#f0f921\"]]}],\"heatmap\":[{\"type\":\"heatmap\",\"colorbar\":{\"outlinewidth\":0,\"ticks\":\"\"},\"colorscale\":[[0.0,\"#0d0887\"],[0.1111111111111111,\"#46039f\"],[0.2222222222222222,\"#7201a8\"],[0.3333333333333333,\"#9c179e\"],[0.4444444444444444,\"#bd3786\"],[0.5555555555555556,\"#d8576b\"],[0.6666666666666666,\"#ed7953\"],[0.7777777777777778,\"#fb9f3a\"],[0.8888888888888888,\"#fdca26\"],[1.0,\"#f0f921\"]]}],\"heatmapgl\":[{\"type\":\"heatmapgl\",\"colorbar\":{\"outlinewidth\":0,\"ticks\":\"\"},\"colorscale\":[[0.0,\"#0d0887\"],[0.1111111111111111,\"#46039f\"],[0.2222222222222222,\"#7201a8\"],[0.3333333333333333,\"#9c179e\"],[0.4444444444444444,\"#bd3786\"],[0.5555555555555556,\"#d8576b\"],[0.6666666666666666,\"#ed7953\"],[0.7777777777777778,\"#fb9f3a\"],[0.8888888888888888,\"#fdca26\"],[1.0,\"#f0f921\"]]}],\"contourcarpet\":[{\"type\":\"contourcarpet\",\"colorbar\":{\"outlinewidth\":0,\"ticks\":\"\"}}],\"contour\":[{\"type\":\"contour\",\"colorbar\":{\"outlinewidth\":0,\"ticks\":\"\"},\"colorscale\":[[0.0,\"#0d0887\"],[0.1111111111111111,\"#46039f\"],[0.2222222222222222,\"#7201a8\"],[0.3333333333333333,\"#9c179e\"],[0.4444444444444444,\"#bd3786\"],[0.5555555555555556,\"#d8576b\"],[0.6666666666666666,\"#ed7953\"],[0.7777777777777778,\"#fb9f3a\"],[0.8888888888888888,\"#fdca26\"],[1.0,\"#f0f921\"]]}],\"surface\":[{\"type\":\"surface\",\"colorbar\":{\"outlinewidth\":0,\"ticks\":\"\"},\"colorscale\":[[0.0,\"#0d0887\"],[0.1111111111111111,\"#46039f\"],[0.2222222222222222,\"#7201a8\"],[0.3333333333333333,\"#9c179e\"],[0.4444444444444444,\"#bd3786\"],[0.5555555555555556,\"#d8576b\"],[0.6666666666666666,\"#ed7953\"],[0.7777777777777778,\"#fb9f3a\"],[0.8888888888888888,\"#fdca26\"],[1.0,\"#f0f921\"]]}],\"mesh3d\":[{\"type\":\"mesh3d\",\"colorbar\":{\"outlinewidth\":0,\"ticks\":\"\"}}],\"scatter\":[{\"fillpattern\":{\"fillmode\":\"overlay\",\"size\":10,\"solidity\":0.2},\"type\":\"scatter\"}],\"parcoords\":[{\"type\":\"parcoords\",\"line\":{\"colorbar\":{\"outlinewidth\":0,\"ticks\":\"\"}}}],\"scatterpolargl\":[{\"type\":\"scatterpolargl\",\"marker\":{\"colorbar\":{\"outlinewidth\":0,\"ticks\":\"\"}}}],\"bar\":[{\"error_x\":{\"color\":\"#2a3f5f\"},\"error_y\":{\"color\":\"#2a3f5f\"},\"marker\":{\"line\":{\"color\":\"#E5ECF6\",\"width\":0.5},\"pattern\":{\"fillmode\":\"overlay\",\"size\":10,\"solidity\":0.2}},\"type\":\"bar\"}],\"scattergeo\":[{\"type\":\"scattergeo\",\"marker\":{\"colorbar\":{\"outlinewidth\":0,\"ticks\":\"\"}}}],\"scatterpolar\":[{\"type\":\"scatterpolar\",\"marker\":{\"colorbar\":{\"outlinewidth\":0,\"ticks\":\"\"}}}],\"histogram\":[{\"marker\":{\"pattern\":{\"fillmode\":\"overlay\",\"size\":10,\"solidity\":0.2}},\"type\":\"histogram\"}],\"scattergl\":[{\"type\":\"scattergl\",\"marker\":{\"colorbar\":{\"outlinewidth\":0,\"ticks\":\"\"}}}],\"scatter3d\":[{\"type\":\"scatter3d\",\"line\":{\"colorbar\":{\"outlinewidth\":0,\"ticks\":\"\"}},\"marker\":{\"colorbar\":{\"outlinewidth\":0,\"ticks\":\"\"}}}],\"scattermapbox\":[{\"type\":\"scattermapbox\",\"marker\":{\"colorbar\":{\"outlinewidth\":0,\"ticks\":\"\"}}}],\"scatterternary\":[{\"type\":\"scatterternary\",\"marker\":{\"colorbar\":{\"outlinewidth\":0,\"ticks\":\"\"}}}],\"scattercarpet\":[{\"type\":\"scattercarpet\",\"marker\":{\"colorbar\":{\"outlinewidth\":0,\"ticks\":\"\"}}}],\"carpet\":[{\"aaxis\":{\"endlinecolor\":\"#2a3f5f\",\"gridcolor\":\"white\",\"linecolor\":\"white\",\"minorgridcolor\":\"white\",\"startlinecolor\":\"#2a3f5f\"},\"baxis\":{\"endlinecolor\":\"#2a3f5f\",\"gridcolor\":\"white\",\"linecolor\":\"white\",\"minorgridcolor\":\"white\",\"startlinecolor\":\"#2a3f5f\"},\"type\":\"carpet\"}],\"table\":[{\"cells\":{\"fill\":{\"color\":\"#EBF0F8\"},\"line\":{\"color\":\"white\"}},\"header\":{\"fill\":{\"color\":\"#C8D4E3\"},\"line\":{\"color\":\"white\"}},\"type\":\"table\"}],\"barpolar\":[{\"marker\":{\"line\":{\"color\":\"#E5ECF6\",\"width\":0.5},\"pattern\":{\"fillmode\":\"overlay\",\"size\":10,\"solidity\":0.2}},\"type\":\"barpolar\"}],\"pie\":[{\"automargin\":true,\"type\":\"pie\"}]},\"layout\":{\"autotypenumbers\":\"strict\",\"colorway\":[\"#636efa\",\"#EF553B\",\"#00cc96\",\"#ab63fa\",\"#FFA15A\",\"#19d3f3\",\"#FF6692\",\"#B6E880\",\"#FF97FF\",\"#FECB52\"],\"font\":{\"color\":\"#2a3f5f\"},\"hovermode\":\"closest\",\"hoverlabel\":{\"align\":\"left\"},\"paper_bgcolor\":\"white\",\"plot_bgcolor\":\"#E5ECF6\",\"polar\":{\"bgcolor\":\"#E5ECF6\",\"angularaxis\":{\"gridcolor\":\"white\",\"linecolor\":\"white\",\"ticks\":\"\"},\"radialaxis\":{\"gridcolor\":\"white\",\"linecolor\":\"white\",\"ticks\":\"\"}},\"ternary\":{\"bgcolor\":\"#E5ECF6\",\"aaxis\":{\"gridcolor\":\"white\",\"linecolor\":\"white\",\"ticks\":\"\"},\"baxis\":{\"gridcolor\":\"white\",\"linecolor\":\"white\",\"ticks\":\"\"},\"caxis\":{\"gridcolor\":\"white\",\"linecolor\":\"white\",\"ticks\":\"\"}},\"coloraxis\":{\"colorbar\":{\"outlinewidth\":0,\"ticks\":\"\"}},\"colorscale\":{\"sequential\":[[0.0,\"#0d0887\"],[0.1111111111111111,\"#46039f\"],[0.2222222222222222,\"#7201a8\"],[0.3333333333333333,\"#9c179e\"],[0.4444444444444444,\"#bd3786\"],[0.5555555555555556,\"#d8576b\"],[0.6666666666666666,\"#ed7953\"],[0.7777777777777778,\"#fb9f3a\"],[0.8888888888888888,\"#fdca26\"],[1.0,\"#f0f921\"]],\"sequentialminus\":[[0.0,\"#0d0887\"],[0.1111111111111111,\"#46039f\"],[0.2222222222222222,\"#7201a8\"],[0.3333333333333333,\"#9c179e\"],[0.4444444444444444,\"#bd3786\"],[0.5555555555555556,\"#d8576b\"],[0.6666666666666666,\"#ed7953\"],[0.7777777777777778,\"#fb9f3a\"],[0.8888888888888888,\"#fdca26\"],[1.0,\"#f0f921\"]],\"diverging\":[[0,\"#8e0152\"],[0.1,\"#c51b7d\"],[0.2,\"#de77ae\"],[0.3,\"#f1b6da\"],[0.4,\"#fde0ef\"],[0.5,\"#f7f7f7\"],[0.6,\"#e6f5d0\"],[0.7,\"#b8e186\"],[0.8,\"#7fbc41\"],[0.9,\"#4d9221\"],[1,\"#276419\"]]},\"xaxis\":{\"gridcolor\":\"white\",\"linecolor\":\"white\",\"ticks\":\"\",\"title\":{\"standoff\":15},\"zerolinecolor\":\"white\",\"automargin\":true,\"zerolinewidth\":2},\"yaxis\":{\"gridcolor\":\"white\",\"linecolor\":\"white\",\"ticks\":\"\",\"title\":{\"standoff\":15},\"zerolinecolor\":\"white\",\"automargin\":true,\"zerolinewidth\":2},\"scene\":{\"xaxis\":{\"backgroundcolor\":\"#E5ECF6\",\"gridcolor\":\"white\",\"linecolor\":\"white\",\"showbackground\":true,\"ticks\":\"\",\"zerolinecolor\":\"white\",\"gridwidth\":2},\"yaxis\":{\"backgroundcolor\":\"#E5ECF6\",\"gridcolor\":\"white\",\"linecolor\":\"white\",\"showbackground\":true,\"ticks\":\"\",\"zerolinecolor\":\"white\",\"gridwidth\":2},\"zaxis\":{\"backgroundcolor\":\"#E5ECF6\",\"gridcolor\":\"white\",\"linecolor\":\"white\",\"showbackground\":true,\"ticks\":\"\",\"zerolinecolor\":\"white\",\"gridwidth\":2}},\"shapedefaults\":{\"line\":{\"color\":\"#2a3f5f\"}},\"annotationdefaults\":{\"arrowcolor\":\"#2a3f5f\",\"arrowhead\":0,\"arrowwidth\":1},\"geo\":{\"bgcolor\":\"white\",\"landcolor\":\"#E5ECF6\",\"subunitcolor\":\"white\",\"showland\":true,\"showlakes\":true,\"lakecolor\":\"white\"},\"title\":{\"x\":0.05},\"mapbox\":{\"style\":\"light\"}}},\"xaxis\":{\"anchor\":\"y\",\"domain\":[0.0,1.0],\"title\":{\"text\":\"Tempo de espera\"}},\"yaxis\":{\"anchor\":\"x\",\"domain\":[0.0,1.0],\"title\":{\"text\":\"count\"}},\"legend\":{\"tracegroupgap\":0},\"margin\":{\"t\":60},\"barmode\":\"relative\"},                        {\"responsive\": true}                    ).then(function(){\n",
              "                            \n",
              "var gd = document.getElementById('969a1a3d-387c-4c90-9838-a6b55d729290');\n",
              "var x = new MutationObserver(function (mutations, observer) {{\n",
              "        var display = window.getComputedStyle(gd).display;\n",
              "        if (!display || display === 'none') {{\n",
              "            console.log([gd, 'removed!']);\n",
              "            Plotly.purge(gd);\n",
              "            observer.disconnect();\n",
              "        }}\n",
              "}});\n",
              "\n",
              "// Listen for the removal of the full notebook cells\n",
              "var notebookContainer = gd.closest('#notebook-container');\n",
              "if (notebookContainer) {{\n",
              "    x.observe(notebookContainer, {childList: true});\n",
              "}}\n",
              "\n",
              "// Listen for the clearing of the current output cell\n",
              "var outputEl = gd.closest('.output');\n",
              "if (outputEl) {{\n",
              "    x.observe(outputEl, {childList: true});\n",
              "}}\n",
              "\n",
              "                        })                };                            </script>        </div>\n",
              "</body>\n",
              "</html>"
            ]
          },
          "metadata": {}
        }
      ]
    },
    {
      "cell_type": "markdown",
      "source": [
        "##### Clientes no sistema"
      ],
      "metadata": {
        "id": "a6g4Jo3IGQVh"
      }
    },
    {
      "cell_type": "code",
      "source": [
        "print(f'Intervalo de confiança: {intervalo_confianca(clientes_sistema)}')\n",
        "print(f'Média: {np.mean(clientes_sistema)}\\n')\n",
        "\n",
        "plotar_histograma(clientes_sistema, 'Clientes no sistema')"
      ],
      "metadata": {
        "colab": {
          "base_uri": "https://localhost:8080/",
          "height": 594
        },
        "outputId": "7b9e64f7-fe22-492a-c057-dac5e4ae5a0f",
        "id": "kL_3qjLUGQVh"
      },
      "execution_count": 57,
      "outputs": [
        {
          "output_type": "stream",
          "name": "stdout",
          "text": [
            "Intervalo de confiança: (0.29100336624811723, 0.37781417429046543)\n",
            "Média: 0.33440877026929133\n",
            "\n"
          ]
        },
        {
          "output_type": "display_data",
          "data": {
            "text/html": [
              "<html>\n",
              "<head><meta charset=\"utf-8\" /></head>\n",
              "<body>\n",
              "    <div>            <script src=\"https://cdnjs.cloudflare.com/ajax/libs/mathjax/2.7.5/MathJax.js?config=TeX-AMS-MML_SVG\"></script><script type=\"text/javascript\">if (window.MathJax && window.MathJax.Hub && window.MathJax.Hub.Config) {window.MathJax.Hub.Config({SVG: {font: \"STIX-Web\"}});}</script>                <script type=\"text/javascript\">window.PlotlyConfig = {MathJaxConfig: 'local'};</script>\n",
              "        <script src=\"https://cdn.plot.ly/plotly-2.18.2.min.js\"></script>                <div id=\"21f6923e-1db2-4697-8143-5ab9a4398b3b\" class=\"plotly-graph-div\" style=\"height:525px; width:100%;\"></div>            <script type=\"text/javascript\">                                    window.PLOTLYENV=window.PLOTLYENV || {};                                    if (document.getElementById(\"21f6923e-1db2-4697-8143-5ab9a4398b3b\")) {                    Plotly.newPlot(                        \"21f6923e-1db2-4697-8143-5ab9a4398b3b\",                        [{\"alignmentgroup\":\"True\",\"bingroup\":\"x\",\"hovertemplate\":\"Clientes no sistema=%{x}<br>count=%{y}<extra></extra>\",\"legendgroup\":\"\",\"marker\":{\"color\":\"#636efa\",\"pattern\":{\"shape\":\"\"}},\"name\":\"\",\"offsetgroup\":\"\",\"orientation\":\"v\",\"showlegend\":false,\"x\":[0.31128772454795484,0.371116738938,0.3143062154411435,0.33975417735757796,0.32315783012936233,0.34467018863710264,0.35812712619973397,0.3166754891725957,0.3182633025350795,0.3476433576248729,0.33589606344699013,0.36923762350922074,0.3485675544483594,0.3120874893575274,0.3274147959807792,0.31938391918139436,0.3212545072889506,0.3155288517634173,0.3555282530391344,0.3436529219377681,0.3030051736073626,0.34848784277638484,0.33471034065819405,0.32110821229076764,0.337693739525507,0.3135243391124519,0.3457050294248843,0.37024370529569256,0.38112338662902034,0.34264414805722976,0.35664557598839497,0.3423705479278279,0.3124770663875205,0.39522077687871776,0.3384467802862195,0.3392090357022877,0.3709910368752537,0.34616968422699185,0.3610064915173705,0.3192124380066395,0.3402926897075169,0.33308173347941256,0.3288386292921934,0.3064601798607978,0.3198229421633031,0.2892080445276012,0.29628039114064547,0.370942881343366,0.31938334092213694,0.31891939183180545,0.34462265384424273,0.3428533732174026,0.29701130954481086,0.34670070681885906,0.33374531838323934,0.3086007113096121,0.3933790426651638,0.32771731716136565,0.29162918384069264,0.32554048622407145,0.3052466066816287,0.38891551832300225,0.3266025476280514,0.3216905395034441,0.31387806403765206,0.33932502111362,0.34533097432479426,0.3554510411218647,0.35499754384142646,0.36053604932108047,0.2771500558363544,0.3293042973729554,0.358134227153485,0.3096961151190745,0.32752000576737345,0.3864902533475776,0.32317398396509717,0.3454476924883156,0.3282692361652187,0.34082382703119035,0.3291703488034472,0.31842585993468586,0.3323685649588412,0.3145664787818858,0.35741414673306926,0.32295889775407766,0.3032107525325236,0.356522447107,0.34379457028516286,0.33461278151794005,0.3550412856364961,0.32919278584280737,0.3576152655380957,0.3224389716984941,0.3821818352341618,0.2697851636994744,0.36005153104409715,0.32477427848976664,0.3674269397482442,0.30569648926970067,0.3485090953208257,0.3000768517036886,0.3572544037778995,0.3410253947118651,0.3335544084545813,0.31650689770596385,0.33135827752881486,0.29951332275080766,0.3427710994840321,0.3178683046781382,0.3223308647077774,0.2983932379236744,0.31538013527916114,0.3233333011567438,0.31058467829151576,0.37772586459662605,0.3298573192547469,0.370130160191161,0.3526002037211955,0.30354982279015974,0.3754289530835209,0.3566859597237938,0.31388663219855967,0.32557453932567926,0.33128451811178355,0.34410457134456646,0.35422225899550536,0.3422945476543394,0.3420581354529468,0.3413686281100956,0.33927540464233863,0.33611735673825877,0.32880092681816464,0.3170383461231443,0.3746788320695371,0.3421608523947851,0.378146630676897,0.3343978157149674,0.30449354213124347,0.3273798884151693,0.30331089261009014,0.3369852154385456,0.34791047120922625,0.31253041687842437,0.34782535679731047,0.3275538352145013,0.37004302974390463,0.3137263214856951,0.3462444367523434,0.3277174519578485,0.3334175361413897,0.3200149199200614,0.31771018619659497,0.3340493025444626,0.33329699685838055,0.31817407198085795,0.33320717963736635,0.32444765022012223,0.40446780125808857,0.3199627440591602,0.31254292258272853,0.3148722613394813,0.3430306514197672,0.3454986388707229,0.3468416005001116,0.34393942514876513,0.36257691850592677,0.32977862493167703,0.35204688097806985,0.3241917446813502,0.3033854852444808,0.3304877358891681,0.3487494948480967,0.3359295913087104,0.3027089777788245,0.34278188797560144,0.3747056334485611,0.3245204331591437,0.340712698633039,0.3203964762760205,0.31921760046336917,0.3465817554735193,0.34172085189809,0.32381667012194526,0.34967886448756313,0.3137735088452477,0.3339440180948314,0.30623602733673716,0.33055499668991417,0.33042308124295994,0.331859714241949,0.3179919121034185,0.28405868995566297,0.3774042017472279,0.32012798300089057,0.31835878665756356,0.3376752119802236,0.35918996486820787,0.333860809680523,0.389305392547121,0.33799355543007653,0.34062483071679245,0.3117118662739549,0.32577837254671915,0.342435986709378,0.3691866775746982,0.32898592700439594,0.33833018619284255,0.37072826370957906,0.33630958148909484,0.3333372070491748,0.3425660387211148,0.34977021923077045,0.3409502443423663,0.34701188838942965,0.36400764357209114,0.29065483226568206,0.33697555333125884,0.30156912684687376,0.32349817895783645,0.29258096955067586,0.341776266085667,0.35668736398084055,0.3412657362349833,0.37530994279882357,0.3311644505533001,0.34417589124640835,0.3399996492826251,0.3185702600955258,0.327784710915081,0.3470683529760804,0.3340621945734528,0.34054623862452166,0.35032590919481843,0.3182046177731967,0.340392956259973,0.3100877566470101,0.32945524730241504,0.31526222687778455,0.3426327839186295,0.33332732228562406,0.30845345826628046,0.3350936543046092,0.32483312045942975,0.33228239682130745,0.34756208490925605,0.375632657933492,0.3836272638345588,0.30353598988891367,0.31021468518473444,0.30470946307862307,0.3218924130994884,0.3333611036146483,0.3305190390434895,0.36934850298494454,0.31798523045763444,0.34741817019196136,0.3490768992985181,0.33799350952300233,0.32309468934681773,0.3305527375724237,0.32379035209208035,0.37239996196727104,0.34608749600306676,0.32197541719211525,0.34064135615410046,0.35450630913290937,0.3145148426608859,0.3255939161892462,0.37151511297550793,0.3279375925019014,0.3250222932704058,0.3056388302704708,0.32324771838467514,0.37392395573762954,0.33745306332513586,0.3391750320040456,0.3573458162259334,0.3441303667003726,0.31507049958786815,0.3148709382264265,0.3282292817285099,0.305080306545781,0.33237827507050216,0.34159535832935267,0.342511458692409,0.30014606091016094,0.35251995711116124,0.2883940468468587,0.32359059744466084,0.33135204240474,0.33106115618562615,0.30955821723035887,0.3370881331867818,0.34758106239115816,0.30927462823478097,0.3372040656991571,0.31035150127156236,0.3376907535561985,0.298280480640534],\"xaxis\":\"x\",\"yaxis\":\"y\",\"type\":\"histogram\"}],                        {\"template\":{\"data\":{\"histogram2dcontour\":[{\"type\":\"histogram2dcontour\",\"colorbar\":{\"outlinewidth\":0,\"ticks\":\"\"},\"colorscale\":[[0.0,\"#0d0887\"],[0.1111111111111111,\"#46039f\"],[0.2222222222222222,\"#7201a8\"],[0.3333333333333333,\"#9c179e\"],[0.4444444444444444,\"#bd3786\"],[0.5555555555555556,\"#d8576b\"],[0.6666666666666666,\"#ed7953\"],[0.7777777777777778,\"#fb9f3a\"],[0.8888888888888888,\"#fdca26\"],[1.0,\"#f0f921\"]]}],\"choropleth\":[{\"type\":\"choropleth\",\"colorbar\":{\"outlinewidth\":0,\"ticks\":\"\"}}],\"histogram2d\":[{\"type\":\"histogram2d\",\"colorbar\":{\"outlinewidth\":0,\"ticks\":\"\"},\"colorscale\":[[0.0,\"#0d0887\"],[0.1111111111111111,\"#46039f\"],[0.2222222222222222,\"#7201a8\"],[0.3333333333333333,\"#9c179e\"],[0.4444444444444444,\"#bd3786\"],[0.5555555555555556,\"#d8576b\"],[0.6666666666666666,\"#ed7953\"],[0.7777777777777778,\"#fb9f3a\"],[0.8888888888888888,\"#fdca26\"],[1.0,\"#f0f921\"]]}],\"heatmap\":[{\"type\":\"heatmap\",\"colorbar\":{\"outlinewidth\":0,\"ticks\":\"\"},\"colorscale\":[[0.0,\"#0d0887\"],[0.1111111111111111,\"#46039f\"],[0.2222222222222222,\"#7201a8\"],[0.3333333333333333,\"#9c179e\"],[0.4444444444444444,\"#bd3786\"],[0.5555555555555556,\"#d8576b\"],[0.6666666666666666,\"#ed7953\"],[0.7777777777777778,\"#fb9f3a\"],[0.8888888888888888,\"#fdca26\"],[1.0,\"#f0f921\"]]}],\"heatmapgl\":[{\"type\":\"heatmapgl\",\"colorbar\":{\"outlinewidth\":0,\"ticks\":\"\"},\"colorscale\":[[0.0,\"#0d0887\"],[0.1111111111111111,\"#46039f\"],[0.2222222222222222,\"#7201a8\"],[0.3333333333333333,\"#9c179e\"],[0.4444444444444444,\"#bd3786\"],[0.5555555555555556,\"#d8576b\"],[0.6666666666666666,\"#ed7953\"],[0.7777777777777778,\"#fb9f3a\"],[0.8888888888888888,\"#fdca26\"],[1.0,\"#f0f921\"]]}],\"contourcarpet\":[{\"type\":\"contourcarpet\",\"colorbar\":{\"outlinewidth\":0,\"ticks\":\"\"}}],\"contour\":[{\"type\":\"contour\",\"colorbar\":{\"outlinewidth\":0,\"ticks\":\"\"},\"colorscale\":[[0.0,\"#0d0887\"],[0.1111111111111111,\"#46039f\"],[0.2222222222222222,\"#7201a8\"],[0.3333333333333333,\"#9c179e\"],[0.4444444444444444,\"#bd3786\"],[0.5555555555555556,\"#d8576b\"],[0.6666666666666666,\"#ed7953\"],[0.7777777777777778,\"#fb9f3a\"],[0.8888888888888888,\"#fdca26\"],[1.0,\"#f0f921\"]]}],\"surface\":[{\"type\":\"surface\",\"colorbar\":{\"outlinewidth\":0,\"ticks\":\"\"},\"colorscale\":[[0.0,\"#0d0887\"],[0.1111111111111111,\"#46039f\"],[0.2222222222222222,\"#7201a8\"],[0.3333333333333333,\"#9c179e\"],[0.4444444444444444,\"#bd3786\"],[0.5555555555555556,\"#d8576b\"],[0.6666666666666666,\"#ed7953\"],[0.7777777777777778,\"#fb9f3a\"],[0.8888888888888888,\"#fdca26\"],[1.0,\"#f0f921\"]]}],\"mesh3d\":[{\"type\":\"mesh3d\",\"colorbar\":{\"outlinewidth\":0,\"ticks\":\"\"}}],\"scatter\":[{\"fillpattern\":{\"fillmode\":\"overlay\",\"size\":10,\"solidity\":0.2},\"type\":\"scatter\"}],\"parcoords\":[{\"type\":\"parcoords\",\"line\":{\"colorbar\":{\"outlinewidth\":0,\"ticks\":\"\"}}}],\"scatterpolargl\":[{\"type\":\"scatterpolargl\",\"marker\":{\"colorbar\":{\"outlinewidth\":0,\"ticks\":\"\"}}}],\"bar\":[{\"error_x\":{\"color\":\"#2a3f5f\"},\"error_y\":{\"color\":\"#2a3f5f\"},\"marker\":{\"line\":{\"color\":\"#E5ECF6\",\"width\":0.5},\"pattern\":{\"fillmode\":\"overlay\",\"size\":10,\"solidity\":0.2}},\"type\":\"bar\"}],\"scattergeo\":[{\"type\":\"scattergeo\",\"marker\":{\"colorbar\":{\"outlinewidth\":0,\"ticks\":\"\"}}}],\"scatterpolar\":[{\"type\":\"scatterpolar\",\"marker\":{\"colorbar\":{\"outlinewidth\":0,\"ticks\":\"\"}}}],\"histogram\":[{\"marker\":{\"pattern\":{\"fillmode\":\"overlay\",\"size\":10,\"solidity\":0.2}},\"type\":\"histogram\"}],\"scattergl\":[{\"type\":\"scattergl\",\"marker\":{\"colorbar\":{\"outlinewidth\":0,\"ticks\":\"\"}}}],\"scatter3d\":[{\"type\":\"scatter3d\",\"line\":{\"colorbar\":{\"outlinewidth\":0,\"ticks\":\"\"}},\"marker\":{\"colorbar\":{\"outlinewidth\":0,\"ticks\":\"\"}}}],\"scattermapbox\":[{\"type\":\"scattermapbox\",\"marker\":{\"colorbar\":{\"outlinewidth\":0,\"ticks\":\"\"}}}],\"scatterternary\":[{\"type\":\"scatterternary\",\"marker\":{\"colorbar\":{\"outlinewidth\":0,\"ticks\":\"\"}}}],\"scattercarpet\":[{\"type\":\"scattercarpet\",\"marker\":{\"colorbar\":{\"outlinewidth\":0,\"ticks\":\"\"}}}],\"carpet\":[{\"aaxis\":{\"endlinecolor\":\"#2a3f5f\",\"gridcolor\":\"white\",\"linecolor\":\"white\",\"minorgridcolor\":\"white\",\"startlinecolor\":\"#2a3f5f\"},\"baxis\":{\"endlinecolor\":\"#2a3f5f\",\"gridcolor\":\"white\",\"linecolor\":\"white\",\"minorgridcolor\":\"white\",\"startlinecolor\":\"#2a3f5f\"},\"type\":\"carpet\"}],\"table\":[{\"cells\":{\"fill\":{\"color\":\"#EBF0F8\"},\"line\":{\"color\":\"white\"}},\"header\":{\"fill\":{\"color\":\"#C8D4E3\"},\"line\":{\"color\":\"white\"}},\"type\":\"table\"}],\"barpolar\":[{\"marker\":{\"line\":{\"color\":\"#E5ECF6\",\"width\":0.5},\"pattern\":{\"fillmode\":\"overlay\",\"size\":10,\"solidity\":0.2}},\"type\":\"barpolar\"}],\"pie\":[{\"automargin\":true,\"type\":\"pie\"}]},\"layout\":{\"autotypenumbers\":\"strict\",\"colorway\":[\"#636efa\",\"#EF553B\",\"#00cc96\",\"#ab63fa\",\"#FFA15A\",\"#19d3f3\",\"#FF6692\",\"#B6E880\",\"#FF97FF\",\"#FECB52\"],\"font\":{\"color\":\"#2a3f5f\"},\"hovermode\":\"closest\",\"hoverlabel\":{\"align\":\"left\"},\"paper_bgcolor\":\"white\",\"plot_bgcolor\":\"#E5ECF6\",\"polar\":{\"bgcolor\":\"#E5ECF6\",\"angularaxis\":{\"gridcolor\":\"white\",\"linecolor\":\"white\",\"ticks\":\"\"},\"radialaxis\":{\"gridcolor\":\"white\",\"linecolor\":\"white\",\"ticks\":\"\"}},\"ternary\":{\"bgcolor\":\"#E5ECF6\",\"aaxis\":{\"gridcolor\":\"white\",\"linecolor\":\"white\",\"ticks\":\"\"},\"baxis\":{\"gridcolor\":\"white\",\"linecolor\":\"white\",\"ticks\":\"\"},\"caxis\":{\"gridcolor\":\"white\",\"linecolor\":\"white\",\"ticks\":\"\"}},\"coloraxis\":{\"colorbar\":{\"outlinewidth\":0,\"ticks\":\"\"}},\"colorscale\":{\"sequential\":[[0.0,\"#0d0887\"],[0.1111111111111111,\"#46039f\"],[0.2222222222222222,\"#7201a8\"],[0.3333333333333333,\"#9c179e\"],[0.4444444444444444,\"#bd3786\"],[0.5555555555555556,\"#d8576b\"],[0.6666666666666666,\"#ed7953\"],[0.7777777777777778,\"#fb9f3a\"],[0.8888888888888888,\"#fdca26\"],[1.0,\"#f0f921\"]],\"sequentialminus\":[[0.0,\"#0d0887\"],[0.1111111111111111,\"#46039f\"],[0.2222222222222222,\"#7201a8\"],[0.3333333333333333,\"#9c179e\"],[0.4444444444444444,\"#bd3786\"],[0.5555555555555556,\"#d8576b\"],[0.6666666666666666,\"#ed7953\"],[0.7777777777777778,\"#fb9f3a\"],[0.8888888888888888,\"#fdca26\"],[1.0,\"#f0f921\"]],\"diverging\":[[0,\"#8e0152\"],[0.1,\"#c51b7d\"],[0.2,\"#de77ae\"],[0.3,\"#f1b6da\"],[0.4,\"#fde0ef\"],[0.5,\"#f7f7f7\"],[0.6,\"#e6f5d0\"],[0.7,\"#b8e186\"],[0.8,\"#7fbc41\"],[0.9,\"#4d9221\"],[1,\"#276419\"]]},\"xaxis\":{\"gridcolor\":\"white\",\"linecolor\":\"white\",\"ticks\":\"\",\"title\":{\"standoff\":15},\"zerolinecolor\":\"white\",\"automargin\":true,\"zerolinewidth\":2},\"yaxis\":{\"gridcolor\":\"white\",\"linecolor\":\"white\",\"ticks\":\"\",\"title\":{\"standoff\":15},\"zerolinecolor\":\"white\",\"automargin\":true,\"zerolinewidth\":2},\"scene\":{\"xaxis\":{\"backgroundcolor\":\"#E5ECF6\",\"gridcolor\":\"white\",\"linecolor\":\"white\",\"showbackground\":true,\"ticks\":\"\",\"zerolinecolor\":\"white\",\"gridwidth\":2},\"yaxis\":{\"backgroundcolor\":\"#E5ECF6\",\"gridcolor\":\"white\",\"linecolor\":\"white\",\"showbackground\":true,\"ticks\":\"\",\"zerolinecolor\":\"white\",\"gridwidth\":2},\"zaxis\":{\"backgroundcolor\":\"#E5ECF6\",\"gridcolor\":\"white\",\"linecolor\":\"white\",\"showbackground\":true,\"ticks\":\"\",\"zerolinecolor\":\"white\",\"gridwidth\":2}},\"shapedefaults\":{\"line\":{\"color\":\"#2a3f5f\"}},\"annotationdefaults\":{\"arrowcolor\":\"#2a3f5f\",\"arrowhead\":0,\"arrowwidth\":1},\"geo\":{\"bgcolor\":\"white\",\"landcolor\":\"#E5ECF6\",\"subunitcolor\":\"white\",\"showland\":true,\"showlakes\":true,\"lakecolor\":\"white\"},\"title\":{\"x\":0.05},\"mapbox\":{\"style\":\"light\"}}},\"xaxis\":{\"anchor\":\"y\",\"domain\":[0.0,1.0],\"title\":{\"text\":\"Clientes no sistema\"}},\"yaxis\":{\"anchor\":\"x\",\"domain\":[0.0,1.0],\"title\":{\"text\":\"count\"}},\"legend\":{\"tracegroupgap\":0},\"margin\":{\"t\":60},\"barmode\":\"relative\"},                        {\"responsive\": true}                    ).then(function(){\n",
              "                            \n",
              "var gd = document.getElementById('21f6923e-1db2-4697-8143-5ab9a4398b3b');\n",
              "var x = new MutationObserver(function (mutations, observer) {{\n",
              "        var display = window.getComputedStyle(gd).display;\n",
              "        if (!display || display === 'none') {{\n",
              "            console.log([gd, 'removed!']);\n",
              "            Plotly.purge(gd);\n",
              "            observer.disconnect();\n",
              "        }}\n",
              "}});\n",
              "\n",
              "// Listen for the removal of the full notebook cells\n",
              "var notebookContainer = gd.closest('#notebook-container');\n",
              "if (notebookContainer) {{\n",
              "    x.observe(notebookContainer, {childList: true});\n",
              "}}\n",
              "\n",
              "// Listen for the clearing of the current output cell\n",
              "var outputEl = gd.closest('.output');\n",
              "if (outputEl) {{\n",
              "    x.observe(outputEl, {childList: true});\n",
              "}}\n",
              "\n",
              "                        })                };                            </script>        </div>\n",
              "</body>\n",
              "</html>"
            ]
          },
          "metadata": {}
        }
      ]
    },
    {
      "cell_type": "markdown",
      "source": [
        "### Cenário 4\n",
        "\n",
        "$λ=1$ e $μ=2$ (Serviço com tempo determinístico)"
      ],
      "metadata": {
        "id": "_MEPKM3hvaTx"
      }
    },
    {
      "cell_type": "markdown",
      "source": [
        "#### Simulador 1 (Serviços Determinístico)"
      ],
      "metadata": {
        "id": "ofQAUPHor44o"
      }
    },
    {
      "cell_type": "code",
      "source": [
        "tempo_espera, clientes_sistema = n_simulacoes(300, 1, 2, 1000, simulador1_deterministico)"
      ],
      "metadata": {
        "id": "JYDNaCo0sAD1"
      },
      "execution_count": 58,
      "outputs": []
    },
    {
      "cell_type": "markdown",
      "source": [
        "#####Tempo de espera"
      ],
      "metadata": {
        "id": "CAendKNksQYm"
      }
    },
    {
      "cell_type": "code",
      "source": [
        "print(f'Intervalo de confiança: {intervalo_confianca(tempo_espera)}')\n",
        "print(f'Média: {np.mean(tempo_espera)}\\n')\n",
        "\n",
        "plotar_histograma(tempo_espera, 'Tempo de espera')"
      ],
      "metadata": {
        "colab": {
          "base_uri": "https://localhost:8080/",
          "height": 594
        },
        "id": "5h8vXxFjsZPj",
        "outputId": "5fbdd402-2a32-4c8e-8454-255123ab2384"
      },
      "execution_count": 59,
      "outputs": [
        {
          "output_type": "stream",
          "name": "stdout",
          "text": [
            "Intervalo de confiança: (1.3057532947932948, 2.326602529418223)\n",
            "Média: 1.8161779121057589\n",
            "\n"
          ]
        },
        {
          "output_type": "display_data",
          "data": {
            "text/html": [
              "<html>\n",
              "<head><meta charset=\"utf-8\" /></head>\n",
              "<body>\n",
              "    <div>            <script src=\"https://cdnjs.cloudflare.com/ajax/libs/mathjax/2.7.5/MathJax.js?config=TeX-AMS-MML_SVG\"></script><script type=\"text/javascript\">if (window.MathJax && window.MathJax.Hub && window.MathJax.Hub.Config) {window.MathJax.Hub.Config({SVG: {font: \"STIX-Web\"}});}</script>                <script type=\"text/javascript\">window.PlotlyConfig = {MathJaxConfig: 'local'};</script>\n",
              "        <script src=\"https://cdn.plot.ly/plotly-2.18.2.min.js\"></script>                <div id=\"5e430e59-924c-4d62-85fb-69d7bafeb3b5\" class=\"plotly-graph-div\" style=\"height:525px; width:100%;\"></div>            <script type=\"text/javascript\">                                    window.PLOTLYENV=window.PLOTLYENV || {};                                    if (document.getElementById(\"5e430e59-924c-4d62-85fb-69d7bafeb3b5\")) {                    Plotly.newPlot(                        \"5e430e59-924c-4d62-85fb-69d7bafeb3b5\",                        [{\"alignmentgroup\":\"True\",\"bingroup\":\"x\",\"hovertemplate\":\"Tempo de espera=%{x}<br>count=%{y}<extra></extra>\",\"legendgroup\":\"\",\"marker\":{\"color\":\"#636efa\",\"pattern\":{\"shape\":\"\"}},\"name\":\"\",\"offsetgroup\":\"\",\"orientation\":\"v\",\"showlegend\":false,\"x\":[1.6422493923924222,1.7250413921724004,1.5547432770044767,1.6537374736579693,1.7664311302949183,1.7958578682817026,2.429637683408153,1.7078598970927885,1.9980916874626984,2.155839359537737,1.8659218413210839,1.677961889150379,1.9832971762732243,1.5933888407580004,2.144964757159499,1.904185952299905,1.690719159565103,1.7136378796063128,1.7131993961342091,2.2041109248916277,1.494362139950874,2.300411404860947,2.6706300570429775,1.8034515032853602,1.7373202542019217,1.7883730954783217,1.6038830029354596,1.8054711817788343,1.435396367671027,1.6839671599437056,1.8620679249389245,2.016622912047737,1.4991113237158717,1.4535007702260438,3.3276942066850808,2.1064665719042,1.7582169605211169,1.643110703001582,1.5139470240394608,1.8411724125603959,2.273776131887312,1.633565267696554,1.7003762391541137,1.6829060389675854,1.716703777738385,1.81563852219506,1.7453464176510047,1.7499173707389513,1.709639607583112,1.7971849194657872,1.8159359437302889,1.6469074807861148,1.879239779181689,1.7672724065797947,1.5288982360491616,1.7249860304857418,1.6035668737236806,1.7846349766034053,1.5727697144848534,1.9956802815967338,1.9360464055798856,1.676494489748977,1.5397092100714433,2.009958941300173,1.8796709472921591,1.7359176588400171,1.787463387122682,1.6309213639409046,1.8560048997993748,1.7062254556875325,1.8788731559331804,1.5880290761944347,1.8193862111199388,1.549399894992055,1.8727408391728526,1.953283575497007,1.4565389827304016,1.7211030532721197,1.6322013079035893,1.9948690877652746,1.8951062815076503,1.6607129663119162,1.5972157818380994,1.7202802414879106,1.499946718047447,1.946777956002554,1.815718230005518,1.6000086200985224,1.5780221500628595,1.8248548278902745,1.932977822782365,1.60111877672153,1.7894849642027082,1.4862964905475498,1.6213934065075803,1.4977997714411668,1.5387820694654037,1.6050336280113788,1.867666989096355,2.1551068078111735,1.5949110464581584,1.658647293681251,1.833688776392295,1.6998775814992722,1.886686465643754,1.7312135161739333,1.7895560355260793,1.6605310021041508,1.716122141374981,1.9583254504322574,2.3632283169057584,2.083478700578213,1.8106666490847623,1.9618666392536963,1.8678984974569923,1.6512934022387313,2.021419661188653,1.507561116675505,1.9974411469536963,1.5809438914798133,1.90038002569978,1.6041655103253107,1.6192909829012463,1.8491803833921312,1.7554622229812473,1.7552133639305803,2.1255312750785738,1.7610213505732975,2.3389127611383214,1.7530555553664702,2.111719922747856,2.0444753311211934,2.0682597491625136,1.6352516278493636,2.028466493378657,1.4066008261342817,1.6698874622462199,1.7480638569481204,1.839898624963901,1.6075652363222634,1.9694257953776795,2.0221280088574476,1.920346125511236,1.7931589340813812,2.3071302059184022,1.9643826941763602,1.988364283555997,1.7578060752743572,1.4715884635788379,1.789762677228808,1.5451626943263304,1.6286262462649224,1.9087032057738889,1.8966676009637684,1.7582496414298856,1.7217653316163988,1.8970841554175788,2.158917300542989,1.7386570155966135,1.7371291515420293,1.8498464900924134,1.5032766594517348,1.8372685611148674,1.5328591087953034,1.487574940235414,1.9150248779570442,1.6417804517497119,1.6961065659590053,1.5012873028044795,1.4266379128140627,1.5470604609586571,1.9248698167054688,2.52693401566212,2.1580639065919027,1.9287960514581555,1.6271893875237016,1.891795549778083,1.938743287010378,1.7685009330069474,1.946957960776263,1.9348566565925351,1.628282511706255,1.442682410083606,1.8677425666113106,1.8173030208947787,2.2284027913871607,1.644533541269808,1.688120878816582,1.4361120256974607,1.6986806928702725,1.872880993036277,1.8496292226715998,1.6142166322278622,1.7440545700809251,1.5064474504426408,1.7759072727353442,2.578042247615229,1.7621137333086927,1.759242758156615,1.661631416136728,2.00450877507118,1.7500165907563507,1.6722884256226163,1.607716899715769,1.916500939719485,1.8366580377397232,1.6160534026874334,1.7242686512351244,1.7574503971608375,1.942572803759962,2.0632388199862572,1.6686622254568104,1.9082651692364758,1.8976883947212335,2.0572040415774673,1.6212668582935335,1.8412392833224775,1.9463688832491373,1.6620524501559293,1.8443514429652517,1.8751538156629706,2.09765544721616,2.231086867692924,1.5383849100942706,2.0002709072105014,1.603265300714939,1.991856906296406,1.8403968072032753,2.359120275645097,1.6718909281348542,1.6800673667302723,1.9292396265269995,1.4352218753759372,1.6427649471850905,1.953808889576784,1.6637823599829529,2.18726072012708,1.948648521767851,1.4969875362448013,1.4598528923664178,1.732048128933394,1.615703698305084,1.6046727243348018,1.4096863920555256,2.173673240786886,2.0729115642348277,1.713489854524511,1.8826797892211498,1.719601099692786,1.8264447863157502,1.9934604830435392,2.1465929005924553,1.6396078136364944,1.8012415890145628,2.0481647266605187,1.8286913614389906,1.6998047118036947,2.045262750517979,1.543328263260234,1.862590187729006,1.8703930794260992,1.729309623396765,1.7987370961070672,1.636176191134563,2.267125061238607,3.035192843966547,1.9015588964862264,1.663921240398252,1.8017697370739258,1.691339936314665,1.7944127772774543,2.7455686626948097,1.683877576999696,1.7381559661513175,2.2020493541864274,1.4502084146355558,1.9325318601281696,2.6699190650806903,1.8080953480650281,1.9444724734272534,1.9261562900963491,1.593200766920503,1.5400130113549164,1.664547458446909,1.7951196709114923,2.088785182460223,1.8998413622525196,2.4617648147621494,1.9249578108339285,1.8126265799417587,2.2893389366782646,2.0656088931333056,1.5995244126566925,1.694668152127059,1.6258161235633621,1.5950736765942692,1.4734251431905245,2.183434693052632,1.4131426403639264,1.5323517993635953],\"xaxis\":\"x\",\"yaxis\":\"y\",\"type\":\"histogram\"}],                        {\"template\":{\"data\":{\"histogram2dcontour\":[{\"type\":\"histogram2dcontour\",\"colorbar\":{\"outlinewidth\":0,\"ticks\":\"\"},\"colorscale\":[[0.0,\"#0d0887\"],[0.1111111111111111,\"#46039f\"],[0.2222222222222222,\"#7201a8\"],[0.3333333333333333,\"#9c179e\"],[0.4444444444444444,\"#bd3786\"],[0.5555555555555556,\"#d8576b\"],[0.6666666666666666,\"#ed7953\"],[0.7777777777777778,\"#fb9f3a\"],[0.8888888888888888,\"#fdca26\"],[1.0,\"#f0f921\"]]}],\"choropleth\":[{\"type\":\"choropleth\",\"colorbar\":{\"outlinewidth\":0,\"ticks\":\"\"}}],\"histogram2d\":[{\"type\":\"histogram2d\",\"colorbar\":{\"outlinewidth\":0,\"ticks\":\"\"},\"colorscale\":[[0.0,\"#0d0887\"],[0.1111111111111111,\"#46039f\"],[0.2222222222222222,\"#7201a8\"],[0.3333333333333333,\"#9c179e\"],[0.4444444444444444,\"#bd3786\"],[0.5555555555555556,\"#d8576b\"],[0.6666666666666666,\"#ed7953\"],[0.7777777777777778,\"#fb9f3a\"],[0.8888888888888888,\"#fdca26\"],[1.0,\"#f0f921\"]]}],\"heatmap\":[{\"type\":\"heatmap\",\"colorbar\":{\"outlinewidth\":0,\"ticks\":\"\"},\"colorscale\":[[0.0,\"#0d0887\"],[0.1111111111111111,\"#46039f\"],[0.2222222222222222,\"#7201a8\"],[0.3333333333333333,\"#9c179e\"],[0.4444444444444444,\"#bd3786\"],[0.5555555555555556,\"#d8576b\"],[0.6666666666666666,\"#ed7953\"],[0.7777777777777778,\"#fb9f3a\"],[0.8888888888888888,\"#fdca26\"],[1.0,\"#f0f921\"]]}],\"heatmapgl\":[{\"type\":\"heatmapgl\",\"colorbar\":{\"outlinewidth\":0,\"ticks\":\"\"},\"colorscale\":[[0.0,\"#0d0887\"],[0.1111111111111111,\"#46039f\"],[0.2222222222222222,\"#7201a8\"],[0.3333333333333333,\"#9c179e\"],[0.4444444444444444,\"#bd3786\"],[0.5555555555555556,\"#d8576b\"],[0.6666666666666666,\"#ed7953\"],[0.7777777777777778,\"#fb9f3a\"],[0.8888888888888888,\"#fdca26\"],[1.0,\"#f0f921\"]]}],\"contourcarpet\":[{\"type\":\"contourcarpet\",\"colorbar\":{\"outlinewidth\":0,\"ticks\":\"\"}}],\"contour\":[{\"type\":\"contour\",\"colorbar\":{\"outlinewidth\":0,\"ticks\":\"\"},\"colorscale\":[[0.0,\"#0d0887\"],[0.1111111111111111,\"#46039f\"],[0.2222222222222222,\"#7201a8\"],[0.3333333333333333,\"#9c179e\"],[0.4444444444444444,\"#bd3786\"],[0.5555555555555556,\"#d8576b\"],[0.6666666666666666,\"#ed7953\"],[0.7777777777777778,\"#fb9f3a\"],[0.8888888888888888,\"#fdca26\"],[1.0,\"#f0f921\"]]}],\"surface\":[{\"type\":\"surface\",\"colorbar\":{\"outlinewidth\":0,\"ticks\":\"\"},\"colorscale\":[[0.0,\"#0d0887\"],[0.1111111111111111,\"#46039f\"],[0.2222222222222222,\"#7201a8\"],[0.3333333333333333,\"#9c179e\"],[0.4444444444444444,\"#bd3786\"],[0.5555555555555556,\"#d8576b\"],[0.6666666666666666,\"#ed7953\"],[0.7777777777777778,\"#fb9f3a\"],[0.8888888888888888,\"#fdca26\"],[1.0,\"#f0f921\"]]}],\"mesh3d\":[{\"type\":\"mesh3d\",\"colorbar\":{\"outlinewidth\":0,\"ticks\":\"\"}}],\"scatter\":[{\"fillpattern\":{\"fillmode\":\"overlay\",\"size\":10,\"solidity\":0.2},\"type\":\"scatter\"}],\"parcoords\":[{\"type\":\"parcoords\",\"line\":{\"colorbar\":{\"outlinewidth\":0,\"ticks\":\"\"}}}],\"scatterpolargl\":[{\"type\":\"scatterpolargl\",\"marker\":{\"colorbar\":{\"outlinewidth\":0,\"ticks\":\"\"}}}],\"bar\":[{\"error_x\":{\"color\":\"#2a3f5f\"},\"error_y\":{\"color\":\"#2a3f5f\"},\"marker\":{\"line\":{\"color\":\"#E5ECF6\",\"width\":0.5},\"pattern\":{\"fillmode\":\"overlay\",\"size\":10,\"solidity\":0.2}},\"type\":\"bar\"}],\"scattergeo\":[{\"type\":\"scattergeo\",\"marker\":{\"colorbar\":{\"outlinewidth\":0,\"ticks\":\"\"}}}],\"scatterpolar\":[{\"type\":\"scatterpolar\",\"marker\":{\"colorbar\":{\"outlinewidth\":0,\"ticks\":\"\"}}}],\"histogram\":[{\"marker\":{\"pattern\":{\"fillmode\":\"overlay\",\"size\":10,\"solidity\":0.2}},\"type\":\"histogram\"}],\"scattergl\":[{\"type\":\"scattergl\",\"marker\":{\"colorbar\":{\"outlinewidth\":0,\"ticks\":\"\"}}}],\"scatter3d\":[{\"type\":\"scatter3d\",\"line\":{\"colorbar\":{\"outlinewidth\":0,\"ticks\":\"\"}},\"marker\":{\"colorbar\":{\"outlinewidth\":0,\"ticks\":\"\"}}}],\"scattermapbox\":[{\"type\":\"scattermapbox\",\"marker\":{\"colorbar\":{\"outlinewidth\":0,\"ticks\":\"\"}}}],\"scatterternary\":[{\"type\":\"scatterternary\",\"marker\":{\"colorbar\":{\"outlinewidth\":0,\"ticks\":\"\"}}}],\"scattercarpet\":[{\"type\":\"scattercarpet\",\"marker\":{\"colorbar\":{\"outlinewidth\":0,\"ticks\":\"\"}}}],\"carpet\":[{\"aaxis\":{\"endlinecolor\":\"#2a3f5f\",\"gridcolor\":\"white\",\"linecolor\":\"white\",\"minorgridcolor\":\"white\",\"startlinecolor\":\"#2a3f5f\"},\"baxis\":{\"endlinecolor\":\"#2a3f5f\",\"gridcolor\":\"white\",\"linecolor\":\"white\",\"minorgridcolor\":\"white\",\"startlinecolor\":\"#2a3f5f\"},\"type\":\"carpet\"}],\"table\":[{\"cells\":{\"fill\":{\"color\":\"#EBF0F8\"},\"line\":{\"color\":\"white\"}},\"header\":{\"fill\":{\"color\":\"#C8D4E3\"},\"line\":{\"color\":\"white\"}},\"type\":\"table\"}],\"barpolar\":[{\"marker\":{\"line\":{\"color\":\"#E5ECF6\",\"width\":0.5},\"pattern\":{\"fillmode\":\"overlay\",\"size\":10,\"solidity\":0.2}},\"type\":\"barpolar\"}],\"pie\":[{\"automargin\":true,\"type\":\"pie\"}]},\"layout\":{\"autotypenumbers\":\"strict\",\"colorway\":[\"#636efa\",\"#EF553B\",\"#00cc96\",\"#ab63fa\",\"#FFA15A\",\"#19d3f3\",\"#FF6692\",\"#B6E880\",\"#FF97FF\",\"#FECB52\"],\"font\":{\"color\":\"#2a3f5f\"},\"hovermode\":\"closest\",\"hoverlabel\":{\"align\":\"left\"},\"paper_bgcolor\":\"white\",\"plot_bgcolor\":\"#E5ECF6\",\"polar\":{\"bgcolor\":\"#E5ECF6\",\"angularaxis\":{\"gridcolor\":\"white\",\"linecolor\":\"white\",\"ticks\":\"\"},\"radialaxis\":{\"gridcolor\":\"white\",\"linecolor\":\"white\",\"ticks\":\"\"}},\"ternary\":{\"bgcolor\":\"#E5ECF6\",\"aaxis\":{\"gridcolor\":\"white\",\"linecolor\":\"white\",\"ticks\":\"\"},\"baxis\":{\"gridcolor\":\"white\",\"linecolor\":\"white\",\"ticks\":\"\"},\"caxis\":{\"gridcolor\":\"white\",\"linecolor\":\"white\",\"ticks\":\"\"}},\"coloraxis\":{\"colorbar\":{\"outlinewidth\":0,\"ticks\":\"\"}},\"colorscale\":{\"sequential\":[[0.0,\"#0d0887\"],[0.1111111111111111,\"#46039f\"],[0.2222222222222222,\"#7201a8\"],[0.3333333333333333,\"#9c179e\"],[0.4444444444444444,\"#bd3786\"],[0.5555555555555556,\"#d8576b\"],[0.6666666666666666,\"#ed7953\"],[0.7777777777777778,\"#fb9f3a\"],[0.8888888888888888,\"#fdca26\"],[1.0,\"#f0f921\"]],\"sequentialminus\":[[0.0,\"#0d0887\"],[0.1111111111111111,\"#46039f\"],[0.2222222222222222,\"#7201a8\"],[0.3333333333333333,\"#9c179e\"],[0.4444444444444444,\"#bd3786\"],[0.5555555555555556,\"#d8576b\"],[0.6666666666666666,\"#ed7953\"],[0.7777777777777778,\"#fb9f3a\"],[0.8888888888888888,\"#fdca26\"],[1.0,\"#f0f921\"]],\"diverging\":[[0,\"#8e0152\"],[0.1,\"#c51b7d\"],[0.2,\"#de77ae\"],[0.3,\"#f1b6da\"],[0.4,\"#fde0ef\"],[0.5,\"#f7f7f7\"],[0.6,\"#e6f5d0\"],[0.7,\"#b8e186\"],[0.8,\"#7fbc41\"],[0.9,\"#4d9221\"],[1,\"#276419\"]]},\"xaxis\":{\"gridcolor\":\"white\",\"linecolor\":\"white\",\"ticks\":\"\",\"title\":{\"standoff\":15},\"zerolinecolor\":\"white\",\"automargin\":true,\"zerolinewidth\":2},\"yaxis\":{\"gridcolor\":\"white\",\"linecolor\":\"white\",\"ticks\":\"\",\"title\":{\"standoff\":15},\"zerolinecolor\":\"white\",\"automargin\":true,\"zerolinewidth\":2},\"scene\":{\"xaxis\":{\"backgroundcolor\":\"#E5ECF6\",\"gridcolor\":\"white\",\"linecolor\":\"white\",\"showbackground\":true,\"ticks\":\"\",\"zerolinecolor\":\"white\",\"gridwidth\":2},\"yaxis\":{\"backgroundcolor\":\"#E5ECF6\",\"gridcolor\":\"white\",\"linecolor\":\"white\",\"showbackground\":true,\"ticks\":\"\",\"zerolinecolor\":\"white\",\"gridwidth\":2},\"zaxis\":{\"backgroundcolor\":\"#E5ECF6\",\"gridcolor\":\"white\",\"linecolor\":\"white\",\"showbackground\":true,\"ticks\":\"\",\"zerolinecolor\":\"white\",\"gridwidth\":2}},\"shapedefaults\":{\"line\":{\"color\":\"#2a3f5f\"}},\"annotationdefaults\":{\"arrowcolor\":\"#2a3f5f\",\"arrowhead\":0,\"arrowwidth\":1},\"geo\":{\"bgcolor\":\"white\",\"landcolor\":\"#E5ECF6\",\"subunitcolor\":\"white\",\"showland\":true,\"showlakes\":true,\"lakecolor\":\"white\"},\"title\":{\"x\":0.05},\"mapbox\":{\"style\":\"light\"}}},\"xaxis\":{\"anchor\":\"y\",\"domain\":[0.0,1.0],\"title\":{\"text\":\"Tempo de espera\"}},\"yaxis\":{\"anchor\":\"x\",\"domain\":[0.0,1.0],\"title\":{\"text\":\"count\"}},\"legend\":{\"tracegroupgap\":0},\"margin\":{\"t\":60},\"barmode\":\"relative\"},                        {\"responsive\": true}                    ).then(function(){\n",
              "                            \n",
              "var gd = document.getElementById('5e430e59-924c-4d62-85fb-69d7bafeb3b5');\n",
              "var x = new MutationObserver(function (mutations, observer) {{\n",
              "        var display = window.getComputedStyle(gd).display;\n",
              "        if (!display || display === 'none') {{\n",
              "            console.log([gd, 'removed!']);\n",
              "            Plotly.purge(gd);\n",
              "            observer.disconnect();\n",
              "        }}\n",
              "}});\n",
              "\n",
              "// Listen for the removal of the full notebook cells\n",
              "var notebookContainer = gd.closest('#notebook-container');\n",
              "if (notebookContainer) {{\n",
              "    x.observe(notebookContainer, {childList: true});\n",
              "}}\n",
              "\n",
              "// Listen for the clearing of the current output cell\n",
              "var outputEl = gd.closest('.output');\n",
              "if (outputEl) {{\n",
              "    x.observe(outputEl, {childList: true});\n",
              "}}\n",
              "\n",
              "                        })                };                            </script>        </div>\n",
              "</body>\n",
              "</html>"
            ]
          },
          "metadata": {}
        }
      ]
    },
    {
      "cell_type": "markdown",
      "source": [
        "#####Clientes no Sistema"
      ],
      "metadata": {
        "id": "zT4nMd1Ksgtr"
      }
    },
    {
      "cell_type": "code",
      "source": [
        "print(f'Intervalo de confiança: {intervalo_confianca(clientes_sistema)}')\n",
        "print(f'Média: {np.mean(clientes_sistema)}\\n')\n",
        "\n",
        "plotar_histograma(clientes_sistema, 'Clientes no sistema')"
      ],
      "metadata": {
        "colab": {
          "base_uri": "https://localhost:8080/",
          "height": 594
        },
        "id": "QYkU0JPosn_Y",
        "outputId": "7a6b5604-9c87-4e68-b8e1-9656bc51cf7e"
      },
      "execution_count": 60,
      "outputs": [
        {
          "output_type": "stream",
          "name": "stdout",
          "text": [
            "Intervalo de confiança: (1.2335836156004867, 2.409012742184313)\n",
            "Média: 1.8212981788923996\n",
            "\n"
          ]
        },
        {
          "output_type": "display_data",
          "data": {
            "text/html": [
              "<html>\n",
              "<head><meta charset=\"utf-8\" /></head>\n",
              "<body>\n",
              "    <div>            <script src=\"https://cdnjs.cloudflare.com/ajax/libs/mathjax/2.7.5/MathJax.js?config=TeX-AMS-MML_SVG\"></script><script type=\"text/javascript\">if (window.MathJax && window.MathJax.Hub && window.MathJax.Hub.Config) {window.MathJax.Hub.Config({SVG: {font: \"STIX-Web\"}});}</script>                <script type=\"text/javascript\">window.PlotlyConfig = {MathJaxConfig: 'local'};</script>\n",
              "        <script src=\"https://cdn.plot.ly/plotly-2.18.2.min.js\"></script>                <div id=\"8667427e-3b9e-443d-b5f8-349e7becb569\" class=\"plotly-graph-div\" style=\"height:525px; width:100%;\"></div>            <script type=\"text/javascript\">                                    window.PLOTLYENV=window.PLOTLYENV || {};                                    if (document.getElementById(\"8667427e-3b9e-443d-b5f8-349e7becb569\")) {                    Plotly.newPlot(                        \"8667427e-3b9e-443d-b5f8-349e7becb569\",                        [{\"alignmentgroup\":\"True\",\"bingroup\":\"x\",\"hovertemplate\":\"Clientes no sistema=%{x}<br>count=%{y}<extra></extra>\",\"legendgroup\":\"\",\"marker\":{\"color\":\"#636efa\",\"pattern\":{\"shape\":\"\"}},\"name\":\"\",\"offsetgroup\":\"\",\"orientation\":\"v\",\"showlegend\":false,\"x\":[1.6169257453694597,1.679392583761494,1.4309288120554715,1.6575662286021096,1.7569125870630324,1.8421105265091768,2.545348707199037,1.6822907170739256,1.9988878083511814,2.2931603939725025,1.8393492653883508,1.698847042923096,2.045944206016005,1.5399694071671082,2.111226861641264,1.9389028274966715,1.6615183045637396,1.6739574726128326,1.744066932835803,2.310093327381163,1.461036297083252,2.3568338089839282,2.6959254839021236,1.7532229308376919,1.717052575047968,1.7774865122914536,1.5641657936382656,1.7439427328434989,1.3734742522394714,1.6265847276465235,1.9441225542946432,2.027772381425505,1.4162021418423356,1.4191224472840935,3.3050430021870865,2.1848967072516308,1.741706530022188,1.588365277047028,1.5017332002940078,1.91438071829407,2.3488585745848343,1.5831561127881615,1.6508206015977107,1.70600997622321,1.648329208948502,1.8110540389768934,1.7951084171211307,1.800427665232928,1.6469801952375245,1.7680888961292254,1.8194077883478994,1.6498657012311728,1.9117733064202853,1.8539748824264852,1.5838352284619825,1.795359194483603,1.5338379043365378,1.7731477306893368,1.5804622857589643,2.061557011575213,1.911798858456714,1.645570862812278,1.551849497239531,2.1066717830360497,1.901073133604295,1.7559833561919898,1.751616167095841,1.6112580105295486,1.8262020768111542,1.6827906110496258,1.8327145612195954,1.5801000887537757,1.781035756956945,1.5321083045485302,1.894008135385704,2.02443024381969,1.3604630523945793,1.6743705388076382,1.6309648104089,2.062947754442806,1.843361762684835,1.6556031416481165,1.5525534878649931,1.6759978940748574,1.432473308973143,2.0110689564121214,1.8766790802250053,1.581905595485544,1.5418408884254424,1.7975966421201293,2.0412300340647813,1.563848519299375,1.8268728297831438,1.4456023852694013,1.6078600466197734,1.491981875869602,1.4881328842034263,1.588385089354507,1.8480524473042923,2.1920879792230195,1.5526311902706966,1.6573011798576949,1.861220891991879,1.6277059607966478,1.9308667906640964,1.7849649933653255,1.8241523082901554,1.6081634944259235,1.7452518266942743,1.9674120854963015,2.5149266970364916,2.1433836941573707,1.8514055910366702,2.0477988516335794,1.8850621618480177,1.6143141503371912,2.1069927038406404,1.467115099441477,2.0029787573722015,1.5391133610964365,1.9670786419796178,1.6447369809138581,1.6194147212588057,1.8821902804307602,1.7779637562162685,1.7672410207019669,2.1916564561617915,1.8520010089255958,2.4625380205141485,1.737533498142551,2.15000121493978,2.1279670791991747,1.9579843394665728,1.5658770098220536,2.061441033104672,1.3837774843025317,1.5972192111071282,1.7319216247985048,1.913813560265396,1.5503219796956427,1.9701627832035988,2.060190580550258,2.019673583763354,1.8079558780637621,2.3072410484004924,2.023522567128985,2.012178324425999,1.6723539759333161,1.3996897886603599,1.7629564350502753,1.5313966854000518,1.543445972823309,1.9669394336135293,1.894813121533049,1.7738448423197863,1.69331107784056,1.9897573600257699,2.236017563853354,1.7197909484682647,1.7026114711250537,1.8742458592305324,1.4718045824186443,1.8304819875588256,1.4861906639424147,1.4023427668324875,1.9260968705526225,1.6116970064062173,1.7005881902029187,1.4895314003493922,1.3451466872152715,1.5124636174708816,1.9263099079341688,2.703201784016807,2.1335069055076916,2.139395677427042,1.617498325426246,1.9401937503981153,2.018576363335333,1.789931386879847,2.009411766122598,2.0148257481698155,1.5872174711445508,1.4062664897924961,1.901434555774875,1.82361469437934,2.3195120616149225,1.636833202080848,1.7015050143845556,1.3746286693917837,1.7186948806360594,1.9374947570606502,1.771349165526275,1.5654002682104213,1.7245795102964305,1.468373880897259,1.755758332781859,2.702906386241627,1.7419098416001204,1.7004977158827956,1.6294981344979589,2.074499169270466,1.7495812014583636,1.5718770413651049,1.6082965175860067,1.9517315504146286,1.85085209330749,1.5587242652513982,1.815137663070634,1.7637487807000782,1.9827057959988608,2.0504120516250364,1.659343025926637,1.9694751030105213,1.9100858021306866,2.09157684257764,1.61103013677108,1.8360100258633454,1.9816697195783408,1.5915837576769007,1.880977920744179,1.9099092058951193,2.144617797532659,2.313060563423044,1.5438731217001462,2.062345297742559,1.510396427376574,1.9735022175104908,1.8612302934286642,2.4353736124439087,1.602952203231906,1.6621043496408814,1.945856285254062,1.3282654278518211,1.6356487390976946,1.88808830271682,1.6507858629282368,2.351343774526791,1.9008396526343325,1.4305857053294269,1.2961970931228326,1.701646507936599,1.5693764544996307,1.5941718943185534,1.4114837515553131,2.2184106066157545,2.034032898755904,1.792965335851548,1.8862437409528552,1.6993431932069787,1.8330513372497699,1.9998781610101568,2.2924780933433073,1.6564605355776085,1.8277871598123614,2.0509841543445138,1.863960274600587,1.684037876687375,2.0973893807430413,1.5051624901677023,1.8628387895406624,1.891694327918374,1.751836819917374,1.8325857330568052,1.6496461295795384,2.329875986265168,3.2109461555165253,1.9206931470614659,1.720414028709133,1.823942119924345,1.6525233442369587,1.7885490509082393,2.973047777312793,1.580072729386776,1.730983832707274,2.2548235872249593,1.4293036136631003,1.9769860758126891,2.729519223526073,1.7087363547228078,1.9405417972717083,1.9236424728617731,1.5582904300276181,1.4820506311659822,1.6412731589349117,1.8151246904656366,2.1497395504563275,1.9274827213711425,2.5591818386088088,1.9418515498437203,1.788012807266264,2.422347389636568,1.9977806002768441,1.532527533995907,1.7063248421145905,1.616753343880665,1.5437509222314116,1.4510742801129546,2.2286431913861082,1.348515006532485,1.4625403984843262],\"xaxis\":\"x\",\"yaxis\":\"y\",\"type\":\"histogram\"}],                        {\"template\":{\"data\":{\"histogram2dcontour\":[{\"type\":\"histogram2dcontour\",\"colorbar\":{\"outlinewidth\":0,\"ticks\":\"\"},\"colorscale\":[[0.0,\"#0d0887\"],[0.1111111111111111,\"#46039f\"],[0.2222222222222222,\"#7201a8\"],[0.3333333333333333,\"#9c179e\"],[0.4444444444444444,\"#bd3786\"],[0.5555555555555556,\"#d8576b\"],[0.6666666666666666,\"#ed7953\"],[0.7777777777777778,\"#fb9f3a\"],[0.8888888888888888,\"#fdca26\"],[1.0,\"#f0f921\"]]}],\"choropleth\":[{\"type\":\"choropleth\",\"colorbar\":{\"outlinewidth\":0,\"ticks\":\"\"}}],\"histogram2d\":[{\"type\":\"histogram2d\",\"colorbar\":{\"outlinewidth\":0,\"ticks\":\"\"},\"colorscale\":[[0.0,\"#0d0887\"],[0.1111111111111111,\"#46039f\"],[0.2222222222222222,\"#7201a8\"],[0.3333333333333333,\"#9c179e\"],[0.4444444444444444,\"#bd3786\"],[0.5555555555555556,\"#d8576b\"],[0.6666666666666666,\"#ed7953\"],[0.7777777777777778,\"#fb9f3a\"],[0.8888888888888888,\"#fdca26\"],[1.0,\"#f0f921\"]]}],\"heatmap\":[{\"type\":\"heatmap\",\"colorbar\":{\"outlinewidth\":0,\"ticks\":\"\"},\"colorscale\":[[0.0,\"#0d0887\"],[0.1111111111111111,\"#46039f\"],[0.2222222222222222,\"#7201a8\"],[0.3333333333333333,\"#9c179e\"],[0.4444444444444444,\"#bd3786\"],[0.5555555555555556,\"#d8576b\"],[0.6666666666666666,\"#ed7953\"],[0.7777777777777778,\"#fb9f3a\"],[0.8888888888888888,\"#fdca26\"],[1.0,\"#f0f921\"]]}],\"heatmapgl\":[{\"type\":\"heatmapgl\",\"colorbar\":{\"outlinewidth\":0,\"ticks\":\"\"},\"colorscale\":[[0.0,\"#0d0887\"],[0.1111111111111111,\"#46039f\"],[0.2222222222222222,\"#7201a8\"],[0.3333333333333333,\"#9c179e\"],[0.4444444444444444,\"#bd3786\"],[0.5555555555555556,\"#d8576b\"],[0.6666666666666666,\"#ed7953\"],[0.7777777777777778,\"#fb9f3a\"],[0.8888888888888888,\"#fdca26\"],[1.0,\"#f0f921\"]]}],\"contourcarpet\":[{\"type\":\"contourcarpet\",\"colorbar\":{\"outlinewidth\":0,\"ticks\":\"\"}}],\"contour\":[{\"type\":\"contour\",\"colorbar\":{\"outlinewidth\":0,\"ticks\":\"\"},\"colorscale\":[[0.0,\"#0d0887\"],[0.1111111111111111,\"#46039f\"],[0.2222222222222222,\"#7201a8\"],[0.3333333333333333,\"#9c179e\"],[0.4444444444444444,\"#bd3786\"],[0.5555555555555556,\"#d8576b\"],[0.6666666666666666,\"#ed7953\"],[0.7777777777777778,\"#fb9f3a\"],[0.8888888888888888,\"#fdca26\"],[1.0,\"#f0f921\"]]}],\"surface\":[{\"type\":\"surface\",\"colorbar\":{\"outlinewidth\":0,\"ticks\":\"\"},\"colorscale\":[[0.0,\"#0d0887\"],[0.1111111111111111,\"#46039f\"],[0.2222222222222222,\"#7201a8\"],[0.3333333333333333,\"#9c179e\"],[0.4444444444444444,\"#bd3786\"],[0.5555555555555556,\"#d8576b\"],[0.6666666666666666,\"#ed7953\"],[0.7777777777777778,\"#fb9f3a\"],[0.8888888888888888,\"#fdca26\"],[1.0,\"#f0f921\"]]}],\"mesh3d\":[{\"type\":\"mesh3d\",\"colorbar\":{\"outlinewidth\":0,\"ticks\":\"\"}}],\"scatter\":[{\"fillpattern\":{\"fillmode\":\"overlay\",\"size\":10,\"solidity\":0.2},\"type\":\"scatter\"}],\"parcoords\":[{\"type\":\"parcoords\",\"line\":{\"colorbar\":{\"outlinewidth\":0,\"ticks\":\"\"}}}],\"scatterpolargl\":[{\"type\":\"scatterpolargl\",\"marker\":{\"colorbar\":{\"outlinewidth\":0,\"ticks\":\"\"}}}],\"bar\":[{\"error_x\":{\"color\":\"#2a3f5f\"},\"error_y\":{\"color\":\"#2a3f5f\"},\"marker\":{\"line\":{\"color\":\"#E5ECF6\",\"width\":0.5},\"pattern\":{\"fillmode\":\"overlay\",\"size\":10,\"solidity\":0.2}},\"type\":\"bar\"}],\"scattergeo\":[{\"type\":\"scattergeo\",\"marker\":{\"colorbar\":{\"outlinewidth\":0,\"ticks\":\"\"}}}],\"scatterpolar\":[{\"type\":\"scatterpolar\",\"marker\":{\"colorbar\":{\"outlinewidth\":0,\"ticks\":\"\"}}}],\"histogram\":[{\"marker\":{\"pattern\":{\"fillmode\":\"overlay\",\"size\":10,\"solidity\":0.2}},\"type\":\"histogram\"}],\"scattergl\":[{\"type\":\"scattergl\",\"marker\":{\"colorbar\":{\"outlinewidth\":0,\"ticks\":\"\"}}}],\"scatter3d\":[{\"type\":\"scatter3d\",\"line\":{\"colorbar\":{\"outlinewidth\":0,\"ticks\":\"\"}},\"marker\":{\"colorbar\":{\"outlinewidth\":0,\"ticks\":\"\"}}}],\"scattermapbox\":[{\"type\":\"scattermapbox\",\"marker\":{\"colorbar\":{\"outlinewidth\":0,\"ticks\":\"\"}}}],\"scatterternary\":[{\"type\":\"scatterternary\",\"marker\":{\"colorbar\":{\"outlinewidth\":0,\"ticks\":\"\"}}}],\"scattercarpet\":[{\"type\":\"scattercarpet\",\"marker\":{\"colorbar\":{\"outlinewidth\":0,\"ticks\":\"\"}}}],\"carpet\":[{\"aaxis\":{\"endlinecolor\":\"#2a3f5f\",\"gridcolor\":\"white\",\"linecolor\":\"white\",\"minorgridcolor\":\"white\",\"startlinecolor\":\"#2a3f5f\"},\"baxis\":{\"endlinecolor\":\"#2a3f5f\",\"gridcolor\":\"white\",\"linecolor\":\"white\",\"minorgridcolor\":\"white\",\"startlinecolor\":\"#2a3f5f\"},\"type\":\"carpet\"}],\"table\":[{\"cells\":{\"fill\":{\"color\":\"#EBF0F8\"},\"line\":{\"color\":\"white\"}},\"header\":{\"fill\":{\"color\":\"#C8D4E3\"},\"line\":{\"color\":\"white\"}},\"type\":\"table\"}],\"barpolar\":[{\"marker\":{\"line\":{\"color\":\"#E5ECF6\",\"width\":0.5},\"pattern\":{\"fillmode\":\"overlay\",\"size\":10,\"solidity\":0.2}},\"type\":\"barpolar\"}],\"pie\":[{\"automargin\":true,\"type\":\"pie\"}]},\"layout\":{\"autotypenumbers\":\"strict\",\"colorway\":[\"#636efa\",\"#EF553B\",\"#00cc96\",\"#ab63fa\",\"#FFA15A\",\"#19d3f3\",\"#FF6692\",\"#B6E880\",\"#FF97FF\",\"#FECB52\"],\"font\":{\"color\":\"#2a3f5f\"},\"hovermode\":\"closest\",\"hoverlabel\":{\"align\":\"left\"},\"paper_bgcolor\":\"white\",\"plot_bgcolor\":\"#E5ECF6\",\"polar\":{\"bgcolor\":\"#E5ECF6\",\"angularaxis\":{\"gridcolor\":\"white\",\"linecolor\":\"white\",\"ticks\":\"\"},\"radialaxis\":{\"gridcolor\":\"white\",\"linecolor\":\"white\",\"ticks\":\"\"}},\"ternary\":{\"bgcolor\":\"#E5ECF6\",\"aaxis\":{\"gridcolor\":\"white\",\"linecolor\":\"white\",\"ticks\":\"\"},\"baxis\":{\"gridcolor\":\"white\",\"linecolor\":\"white\",\"ticks\":\"\"},\"caxis\":{\"gridcolor\":\"white\",\"linecolor\":\"white\",\"ticks\":\"\"}},\"coloraxis\":{\"colorbar\":{\"outlinewidth\":0,\"ticks\":\"\"}},\"colorscale\":{\"sequential\":[[0.0,\"#0d0887\"],[0.1111111111111111,\"#46039f\"],[0.2222222222222222,\"#7201a8\"],[0.3333333333333333,\"#9c179e\"],[0.4444444444444444,\"#bd3786\"],[0.5555555555555556,\"#d8576b\"],[0.6666666666666666,\"#ed7953\"],[0.7777777777777778,\"#fb9f3a\"],[0.8888888888888888,\"#fdca26\"],[1.0,\"#f0f921\"]],\"sequentialminus\":[[0.0,\"#0d0887\"],[0.1111111111111111,\"#46039f\"],[0.2222222222222222,\"#7201a8\"],[0.3333333333333333,\"#9c179e\"],[0.4444444444444444,\"#bd3786\"],[0.5555555555555556,\"#d8576b\"],[0.6666666666666666,\"#ed7953\"],[0.7777777777777778,\"#fb9f3a\"],[0.8888888888888888,\"#fdca26\"],[1.0,\"#f0f921\"]],\"diverging\":[[0,\"#8e0152\"],[0.1,\"#c51b7d\"],[0.2,\"#de77ae\"],[0.3,\"#f1b6da\"],[0.4,\"#fde0ef\"],[0.5,\"#f7f7f7\"],[0.6,\"#e6f5d0\"],[0.7,\"#b8e186\"],[0.8,\"#7fbc41\"],[0.9,\"#4d9221\"],[1,\"#276419\"]]},\"xaxis\":{\"gridcolor\":\"white\",\"linecolor\":\"white\",\"ticks\":\"\",\"title\":{\"standoff\":15},\"zerolinecolor\":\"white\",\"automargin\":true,\"zerolinewidth\":2},\"yaxis\":{\"gridcolor\":\"white\",\"linecolor\":\"white\",\"ticks\":\"\",\"title\":{\"standoff\":15},\"zerolinecolor\":\"white\",\"automargin\":true,\"zerolinewidth\":2},\"scene\":{\"xaxis\":{\"backgroundcolor\":\"#E5ECF6\",\"gridcolor\":\"white\",\"linecolor\":\"white\",\"showbackground\":true,\"ticks\":\"\",\"zerolinecolor\":\"white\",\"gridwidth\":2},\"yaxis\":{\"backgroundcolor\":\"#E5ECF6\",\"gridcolor\":\"white\",\"linecolor\":\"white\",\"showbackground\":true,\"ticks\":\"\",\"zerolinecolor\":\"white\",\"gridwidth\":2},\"zaxis\":{\"backgroundcolor\":\"#E5ECF6\",\"gridcolor\":\"white\",\"linecolor\":\"white\",\"showbackground\":true,\"ticks\":\"\",\"zerolinecolor\":\"white\",\"gridwidth\":2}},\"shapedefaults\":{\"line\":{\"color\":\"#2a3f5f\"}},\"annotationdefaults\":{\"arrowcolor\":\"#2a3f5f\",\"arrowhead\":0,\"arrowwidth\":1},\"geo\":{\"bgcolor\":\"white\",\"landcolor\":\"#E5ECF6\",\"subunitcolor\":\"white\",\"showland\":true,\"showlakes\":true,\"lakecolor\":\"white\"},\"title\":{\"x\":0.05},\"mapbox\":{\"style\":\"light\"}}},\"xaxis\":{\"anchor\":\"y\",\"domain\":[0.0,1.0],\"title\":{\"text\":\"Clientes no sistema\"}},\"yaxis\":{\"anchor\":\"x\",\"domain\":[0.0,1.0],\"title\":{\"text\":\"count\"}},\"legend\":{\"tracegroupgap\":0},\"margin\":{\"t\":60},\"barmode\":\"relative\"},                        {\"responsive\": true}                    ).then(function(){\n",
              "                            \n",
              "var gd = document.getElementById('8667427e-3b9e-443d-b5f8-349e7becb569');\n",
              "var x = new MutationObserver(function (mutations, observer) {{\n",
              "        var display = window.getComputedStyle(gd).display;\n",
              "        if (!display || display === 'none') {{\n",
              "            console.log([gd, 'removed!']);\n",
              "            Plotly.purge(gd);\n",
              "            observer.disconnect();\n",
              "        }}\n",
              "}});\n",
              "\n",
              "// Listen for the removal of the full notebook cells\n",
              "var notebookContainer = gd.closest('#notebook-container');\n",
              "if (notebookContainer) {{\n",
              "    x.observe(notebookContainer, {childList: true});\n",
              "}}\n",
              "\n",
              "// Listen for the clearing of the current output cell\n",
              "var outputEl = gd.closest('.output');\n",
              "if (outputEl) {{\n",
              "    x.observe(outputEl, {childList: true});\n",
              "}}\n",
              "\n",
              "                        })                };                            </script>        </div>\n",
              "</body>\n",
              "</html>"
            ]
          },
          "metadata": {}
        }
      ]
    },
    {
      "cell_type": "markdown",
      "source": [
        "#### Simulador 2 (Serviços Determinístico)"
      ],
      "metadata": {
        "id": "ulghpM1jGnCL"
      }
    },
    {
      "cell_type": "code",
      "source": [
        "tempo_espera, clientes_sistema = n_simulacoes(300, 1, 2, 1000, simulador2_deterministico)"
      ],
      "metadata": {
        "id": "YmZCC9aSGnCM"
      },
      "execution_count": 61,
      "outputs": []
    },
    {
      "cell_type": "markdown",
      "source": [
        "##### Tempo de espera\n",
        "\n"
      ],
      "metadata": {
        "id": "ueRwTk7NGnCN"
      }
    },
    {
      "cell_type": "code",
      "source": [
        "print(f'Intervalo de confiança: {intervalo_confianca(tempo_espera)}')\n",
        "print(f'Média: {np.mean(tempo_espera)}\\n')\n",
        "\n",
        "plotar_histograma(tempo_espera, 'Tempo de espera')"
      ],
      "metadata": {
        "colab": {
          "base_uri": "https://localhost:8080/",
          "height": 594
        },
        "outputId": "42f12919-83ec-44c4-f975-2bd9ad82ae12",
        "id": "Hh8SYcbBGnCN"
      },
      "execution_count": 62,
      "outputs": [
        {
          "output_type": "stream",
          "name": "stdout",
          "text": [
            "Intervalo de confiança: (0.6974434767325599, 0.8032934765084836)\n",
            "Média: 0.7503684766205218\n",
            "\n"
          ]
        },
        {
          "output_type": "display_data",
          "data": {
            "text/html": [
              "<html>\n",
              "<head><meta charset=\"utf-8\" /></head>\n",
              "<body>\n",
              "    <div>            <script src=\"https://cdnjs.cloudflare.com/ajax/libs/mathjax/2.7.5/MathJax.js?config=TeX-AMS-MML_SVG\"></script><script type=\"text/javascript\">if (window.MathJax && window.MathJax.Hub && window.MathJax.Hub.Config) {window.MathJax.Hub.Config({SVG: {font: \"STIX-Web\"}});}</script>                <script type=\"text/javascript\">window.PlotlyConfig = {MathJaxConfig: 'local'};</script>\n",
              "        <script src=\"https://cdn.plot.ly/plotly-2.18.2.min.js\"></script>                <div id=\"ead87e07-6fa8-4c50-a44c-c145f7ed8b4e\" class=\"plotly-graph-div\" style=\"height:525px; width:100%;\"></div>            <script type=\"text/javascript\">                                    window.PLOTLYENV=window.PLOTLYENV || {};                                    if (document.getElementById(\"ead87e07-6fa8-4c50-a44c-c145f7ed8b4e\")) {                    Plotly.newPlot(                        \"ead87e07-6fa8-4c50-a44c-c145f7ed8b4e\",                        [{\"alignmentgroup\":\"True\",\"bingroup\":\"x\",\"hovertemplate\":\"Tempo de espera=%{x}<br>count=%{y}<extra></extra>\",\"legendgroup\":\"\",\"marker\":{\"color\":\"#636efa\",\"pattern\":{\"shape\":\"\"}},\"name\":\"\",\"offsetgroup\":\"\",\"orientation\":\"v\",\"showlegend\":false,\"x\":[0.7667785402303714,0.7435898352480258,0.719594687102288,0.7349533412552396,0.7756014909444049,0.8109188429601099,0.731259056271037,0.7585990653021059,0.756015732005769,0.7203446000071808,0.7287207876615619,0.8192093698914895,0.7534053470068165,0.7797419981918283,0.7470271571319926,0.7951062026892421,0.7850617281517466,0.7287080606189609,0.7412574506962362,0.74487428313267,0.7259865257664075,0.746914183085175,0.7535383644056103,0.6966391309924722,0.7823554670166716,0.7365276960149526,0.7227472877524624,0.7640668016808974,0.7684575477962153,0.7596540581648975,0.7575693295897444,0.7397967881460739,0.7438445077450994,0.7596396642410486,0.7131081837262004,0.7143855927343327,0.7541136324184339,0.7959259644930851,0.7454538949450528,0.775580354376037,0.7626295842148135,0.7743563775183191,0.7625413170041785,0.7680935351311168,0.7344072202706196,0.7520657770708759,0.7607080082805036,0.7256664029531223,0.7448641088677392,0.7681867356641403,0.7202618665774996,0.754829792941785,0.7359266745761638,0.752947482341028,0.711267462659915,0.7479264182724927,0.7266873459761574,0.753463856347383,0.7661406103279398,0.7889595815453829,0.7708722308598479,0.7399385403984144,0.761012084282482,0.7597853796016382,0.7808770944057837,0.7500883645672957,0.7802962929213597,0.7535460922087807,0.7098918108175678,0.7774040609913122,0.7453127266537881,0.7211129772986835,0.7828301826063058,0.7599995751467004,0.7590182806365783,0.7293228181868064,0.7060897204190185,0.7378829653483058,0.8119342027028333,0.7829604888793518,0.7437993768766591,0.7369597486927122,0.7569143627231195,0.7032910574914117,0.7654658839694657,0.761763896527471,0.7186819497782113,0.7647917779982436,0.7617958506485909,0.703723296674467,0.7460428915727336,0.7260895075751223,0.7300250417491625,0.7506675502174729,0.7469883462562235,0.7683520702612668,0.7906856769769777,0.7766851309868313,0.7501329750843113,0.7840643725916112,0.7805074500562332,0.700257432084703,0.7313794625687542,0.7685990349449175,0.7933447629547568,0.7547921284398187,0.7433370431753897,0.7623544626279295,0.7393857783595513,0.7518024894727398,0.6902908387324757,0.7294857331318969,0.7523403031416049,0.7318089780438304,0.7014526682700153,0.7351747698154645,0.7671686721497717,0.7630004615510761,0.7598206542538471,0.7603882467529546,0.7433452144793603,0.7789762029059926,0.7428564937713739,0.7459314076978192,0.7229742835632181,0.7526235739157119,0.7525531951304605,0.7440085860278991,0.7592088098906986,0.7623231804001255,0.7255288213140703,0.7747381398452662,0.7395617149720026,0.7550638293723925,0.7431346623724124,0.7528887498608487,0.7270983107388865,0.7221060476272494,0.7218123740446811,0.7357093925800028,0.7909869018347329,0.7161127426996071,0.7084842397213976,0.7855302076992818,0.7859264356080637,0.7615983207547026,0.7304984868676658,0.7700328058818334,0.7343310353987359,0.8009901790029986,0.804336344633323,0.723026857441198,0.7727405763058,0.7136043298114093,0.7334476944371295,0.7310150017544831,0.739179660676012,0.7076336680593106,0.7006103421622055,0.753892341773713,0.7657438917763045,0.7478280745790619,0.8111680804230743,0.7047307000190347,0.7496846518319269,0.7135674997891885,0.7372388008913207,0.7387515402954445,0.7505982093900442,0.7613757352172306,0.7395903546636555,0.7888174034923052,0.7808919735152982,0.7683381214025772,0.7754354121664727,0.738912221726815,0.7437567758909289,0.7371740115310562,0.751106512096444,0.7165282844520134,0.7991448523180991,0.7602977318170915,0.786451535292147,0.7026399801409028,0.7142854967443155,0.7803853785477244,0.7289839023816035,0.7277634377799277,0.7443990362110673,0.7163678831229106,0.7498097599487366,0.7548158557549164,0.7228697196315088,0.7858559242044845,0.7377117576814454,0.7480146837366226,0.697944381165536,0.7198356251913381,0.8124581534324097,0.7302487709052503,0.7343442752689817,0.7335335112114585,0.7368979332904264,0.7099589499493281,0.7419286513462339,0.6941418567516466,0.7300491660881039,0.7507126703736419,0.7709956585708367,0.7635407125132008,0.8073047617590948,0.7551922897217824,0.7545538192177103,0.7479942683404679,0.8049163137251937,0.7532908483395311,0.7532526369580063,0.7754880587040605,0.7325452646335738,0.7904315305089533,0.7323632378671846,0.7072850474952672,0.7725134667114592,0.7426544383774437,0.7657890679701594,0.7545464932584119,0.7609581865478467,0.7055912878110566,0.7713524901439148,0.7165005368511462,0.7301063310860758,0.7100314667649663,0.7578104618231796,0.7269678932600709,0.728486999273917,0.7765956742996625,0.767167515659157,0.7599820242932163,0.7463672020707776,0.7052690890863782,0.692403102774628,0.7318710309929894,0.7728209190146382,0.7592605052031837,0.7578236497798025,0.8058042953125193,0.7598714868480538,0.7873372504307199,0.7166484595905647,0.714276126304797,0.7920761151060105,0.7476501463094299,0.799290653798096,0.800469279034432,0.7265470608730724,0.7595165194824206,0.7942907606808723,0.7385686287489928,0.743485474022779,0.7744008117584995,0.7366100912524025,0.7981544162729022,0.7726350672972956,0.7719130037100217,0.796744528938284,0.7491823065190322,0.7115575615015095,0.7231138898807385,0.7653940806741579,0.7109945032517412,0.7678369331978547,0.761519230178537,0.7299470123625242,0.7625238317409346,0.7948507739113895,0.7338383863204758,0.761532544469319,0.737727751510844,0.723336068304702,0.720293795043066,0.7462733721634578,0.758359951708582,0.736876565786642,0.7571733826598579,0.7285141718862033,0.7443860962963604,0.7319013098066951,0.7518382679846566,0.7862817992958375,0.791171862259791,0.771543110877936,0.7718240084174482,0.8435758162694328,0.7389297454178029,0.7394489798924695,0.7223949091238471,0.7016638795734634,0.7329817871267463,0.7677533177917194,0.7633864930537427],\"xaxis\":\"x\",\"yaxis\":\"y\",\"type\":\"histogram\"}],                        {\"template\":{\"data\":{\"histogram2dcontour\":[{\"type\":\"histogram2dcontour\",\"colorbar\":{\"outlinewidth\":0,\"ticks\":\"\"},\"colorscale\":[[0.0,\"#0d0887\"],[0.1111111111111111,\"#46039f\"],[0.2222222222222222,\"#7201a8\"],[0.3333333333333333,\"#9c179e\"],[0.4444444444444444,\"#bd3786\"],[0.5555555555555556,\"#d8576b\"],[0.6666666666666666,\"#ed7953\"],[0.7777777777777778,\"#fb9f3a\"],[0.8888888888888888,\"#fdca26\"],[1.0,\"#f0f921\"]]}],\"choropleth\":[{\"type\":\"choropleth\",\"colorbar\":{\"outlinewidth\":0,\"ticks\":\"\"}}],\"histogram2d\":[{\"type\":\"histogram2d\",\"colorbar\":{\"outlinewidth\":0,\"ticks\":\"\"},\"colorscale\":[[0.0,\"#0d0887\"],[0.1111111111111111,\"#46039f\"],[0.2222222222222222,\"#7201a8\"],[0.3333333333333333,\"#9c179e\"],[0.4444444444444444,\"#bd3786\"],[0.5555555555555556,\"#d8576b\"],[0.6666666666666666,\"#ed7953\"],[0.7777777777777778,\"#fb9f3a\"],[0.8888888888888888,\"#fdca26\"],[1.0,\"#f0f921\"]]}],\"heatmap\":[{\"type\":\"heatmap\",\"colorbar\":{\"outlinewidth\":0,\"ticks\":\"\"},\"colorscale\":[[0.0,\"#0d0887\"],[0.1111111111111111,\"#46039f\"],[0.2222222222222222,\"#7201a8\"],[0.3333333333333333,\"#9c179e\"],[0.4444444444444444,\"#bd3786\"],[0.5555555555555556,\"#d8576b\"],[0.6666666666666666,\"#ed7953\"],[0.7777777777777778,\"#fb9f3a\"],[0.8888888888888888,\"#fdca26\"],[1.0,\"#f0f921\"]]}],\"heatmapgl\":[{\"type\":\"heatmapgl\",\"colorbar\":{\"outlinewidth\":0,\"ticks\":\"\"},\"colorscale\":[[0.0,\"#0d0887\"],[0.1111111111111111,\"#46039f\"],[0.2222222222222222,\"#7201a8\"],[0.3333333333333333,\"#9c179e\"],[0.4444444444444444,\"#bd3786\"],[0.5555555555555556,\"#d8576b\"],[0.6666666666666666,\"#ed7953\"],[0.7777777777777778,\"#fb9f3a\"],[0.8888888888888888,\"#fdca26\"],[1.0,\"#f0f921\"]]}],\"contourcarpet\":[{\"type\":\"contourcarpet\",\"colorbar\":{\"outlinewidth\":0,\"ticks\":\"\"}}],\"contour\":[{\"type\":\"contour\",\"colorbar\":{\"outlinewidth\":0,\"ticks\":\"\"},\"colorscale\":[[0.0,\"#0d0887\"],[0.1111111111111111,\"#46039f\"],[0.2222222222222222,\"#7201a8\"],[0.3333333333333333,\"#9c179e\"],[0.4444444444444444,\"#bd3786\"],[0.5555555555555556,\"#d8576b\"],[0.6666666666666666,\"#ed7953\"],[0.7777777777777778,\"#fb9f3a\"],[0.8888888888888888,\"#fdca26\"],[1.0,\"#f0f921\"]]}],\"surface\":[{\"type\":\"surface\",\"colorbar\":{\"outlinewidth\":0,\"ticks\":\"\"},\"colorscale\":[[0.0,\"#0d0887\"],[0.1111111111111111,\"#46039f\"],[0.2222222222222222,\"#7201a8\"],[0.3333333333333333,\"#9c179e\"],[0.4444444444444444,\"#bd3786\"],[0.5555555555555556,\"#d8576b\"],[0.6666666666666666,\"#ed7953\"],[0.7777777777777778,\"#fb9f3a\"],[0.8888888888888888,\"#fdca26\"],[1.0,\"#f0f921\"]]}],\"mesh3d\":[{\"type\":\"mesh3d\",\"colorbar\":{\"outlinewidth\":0,\"ticks\":\"\"}}],\"scatter\":[{\"fillpattern\":{\"fillmode\":\"overlay\",\"size\":10,\"solidity\":0.2},\"type\":\"scatter\"}],\"parcoords\":[{\"type\":\"parcoords\",\"line\":{\"colorbar\":{\"outlinewidth\":0,\"ticks\":\"\"}}}],\"scatterpolargl\":[{\"type\":\"scatterpolargl\",\"marker\":{\"colorbar\":{\"outlinewidth\":0,\"ticks\":\"\"}}}],\"bar\":[{\"error_x\":{\"color\":\"#2a3f5f\"},\"error_y\":{\"color\":\"#2a3f5f\"},\"marker\":{\"line\":{\"color\":\"#E5ECF6\",\"width\":0.5},\"pattern\":{\"fillmode\":\"overlay\",\"size\":10,\"solidity\":0.2}},\"type\":\"bar\"}],\"scattergeo\":[{\"type\":\"scattergeo\",\"marker\":{\"colorbar\":{\"outlinewidth\":0,\"ticks\":\"\"}}}],\"scatterpolar\":[{\"type\":\"scatterpolar\",\"marker\":{\"colorbar\":{\"outlinewidth\":0,\"ticks\":\"\"}}}],\"histogram\":[{\"marker\":{\"pattern\":{\"fillmode\":\"overlay\",\"size\":10,\"solidity\":0.2}},\"type\":\"histogram\"}],\"scattergl\":[{\"type\":\"scattergl\",\"marker\":{\"colorbar\":{\"outlinewidth\":0,\"ticks\":\"\"}}}],\"scatter3d\":[{\"type\":\"scatter3d\",\"line\":{\"colorbar\":{\"outlinewidth\":0,\"ticks\":\"\"}},\"marker\":{\"colorbar\":{\"outlinewidth\":0,\"ticks\":\"\"}}}],\"scattermapbox\":[{\"type\":\"scattermapbox\",\"marker\":{\"colorbar\":{\"outlinewidth\":0,\"ticks\":\"\"}}}],\"scatterternary\":[{\"type\":\"scatterternary\",\"marker\":{\"colorbar\":{\"outlinewidth\":0,\"ticks\":\"\"}}}],\"scattercarpet\":[{\"type\":\"scattercarpet\",\"marker\":{\"colorbar\":{\"outlinewidth\":0,\"ticks\":\"\"}}}],\"carpet\":[{\"aaxis\":{\"endlinecolor\":\"#2a3f5f\",\"gridcolor\":\"white\",\"linecolor\":\"white\",\"minorgridcolor\":\"white\",\"startlinecolor\":\"#2a3f5f\"},\"baxis\":{\"endlinecolor\":\"#2a3f5f\",\"gridcolor\":\"white\",\"linecolor\":\"white\",\"minorgridcolor\":\"white\",\"startlinecolor\":\"#2a3f5f\"},\"type\":\"carpet\"}],\"table\":[{\"cells\":{\"fill\":{\"color\":\"#EBF0F8\"},\"line\":{\"color\":\"white\"}},\"header\":{\"fill\":{\"color\":\"#C8D4E3\"},\"line\":{\"color\":\"white\"}},\"type\":\"table\"}],\"barpolar\":[{\"marker\":{\"line\":{\"color\":\"#E5ECF6\",\"width\":0.5},\"pattern\":{\"fillmode\":\"overlay\",\"size\":10,\"solidity\":0.2}},\"type\":\"barpolar\"}],\"pie\":[{\"automargin\":true,\"type\":\"pie\"}]},\"layout\":{\"autotypenumbers\":\"strict\",\"colorway\":[\"#636efa\",\"#EF553B\",\"#00cc96\",\"#ab63fa\",\"#FFA15A\",\"#19d3f3\",\"#FF6692\",\"#B6E880\",\"#FF97FF\",\"#FECB52\"],\"font\":{\"color\":\"#2a3f5f\"},\"hovermode\":\"closest\",\"hoverlabel\":{\"align\":\"left\"},\"paper_bgcolor\":\"white\",\"plot_bgcolor\":\"#E5ECF6\",\"polar\":{\"bgcolor\":\"#E5ECF6\",\"angularaxis\":{\"gridcolor\":\"white\",\"linecolor\":\"white\",\"ticks\":\"\"},\"radialaxis\":{\"gridcolor\":\"white\",\"linecolor\":\"white\",\"ticks\":\"\"}},\"ternary\":{\"bgcolor\":\"#E5ECF6\",\"aaxis\":{\"gridcolor\":\"white\",\"linecolor\":\"white\",\"ticks\":\"\"},\"baxis\":{\"gridcolor\":\"white\",\"linecolor\":\"white\",\"ticks\":\"\"},\"caxis\":{\"gridcolor\":\"white\",\"linecolor\":\"white\",\"ticks\":\"\"}},\"coloraxis\":{\"colorbar\":{\"outlinewidth\":0,\"ticks\":\"\"}},\"colorscale\":{\"sequential\":[[0.0,\"#0d0887\"],[0.1111111111111111,\"#46039f\"],[0.2222222222222222,\"#7201a8\"],[0.3333333333333333,\"#9c179e\"],[0.4444444444444444,\"#bd3786\"],[0.5555555555555556,\"#d8576b\"],[0.6666666666666666,\"#ed7953\"],[0.7777777777777778,\"#fb9f3a\"],[0.8888888888888888,\"#fdca26\"],[1.0,\"#f0f921\"]],\"sequentialminus\":[[0.0,\"#0d0887\"],[0.1111111111111111,\"#46039f\"],[0.2222222222222222,\"#7201a8\"],[0.3333333333333333,\"#9c179e\"],[0.4444444444444444,\"#bd3786\"],[0.5555555555555556,\"#d8576b\"],[0.6666666666666666,\"#ed7953\"],[0.7777777777777778,\"#fb9f3a\"],[0.8888888888888888,\"#fdca26\"],[1.0,\"#f0f921\"]],\"diverging\":[[0,\"#8e0152\"],[0.1,\"#c51b7d\"],[0.2,\"#de77ae\"],[0.3,\"#f1b6da\"],[0.4,\"#fde0ef\"],[0.5,\"#f7f7f7\"],[0.6,\"#e6f5d0\"],[0.7,\"#b8e186\"],[0.8,\"#7fbc41\"],[0.9,\"#4d9221\"],[1,\"#276419\"]]},\"xaxis\":{\"gridcolor\":\"white\",\"linecolor\":\"white\",\"ticks\":\"\",\"title\":{\"standoff\":15},\"zerolinecolor\":\"white\",\"automargin\":true,\"zerolinewidth\":2},\"yaxis\":{\"gridcolor\":\"white\",\"linecolor\":\"white\",\"ticks\":\"\",\"title\":{\"standoff\":15},\"zerolinecolor\":\"white\",\"automargin\":true,\"zerolinewidth\":2},\"scene\":{\"xaxis\":{\"backgroundcolor\":\"#E5ECF6\",\"gridcolor\":\"white\",\"linecolor\":\"white\",\"showbackground\":true,\"ticks\":\"\",\"zerolinecolor\":\"white\",\"gridwidth\":2},\"yaxis\":{\"backgroundcolor\":\"#E5ECF6\",\"gridcolor\":\"white\",\"linecolor\":\"white\",\"showbackground\":true,\"ticks\":\"\",\"zerolinecolor\":\"white\",\"gridwidth\":2},\"zaxis\":{\"backgroundcolor\":\"#E5ECF6\",\"gridcolor\":\"white\",\"linecolor\":\"white\",\"showbackground\":true,\"ticks\":\"\",\"zerolinecolor\":\"white\",\"gridwidth\":2}},\"shapedefaults\":{\"line\":{\"color\":\"#2a3f5f\"}},\"annotationdefaults\":{\"arrowcolor\":\"#2a3f5f\",\"arrowhead\":0,\"arrowwidth\":1},\"geo\":{\"bgcolor\":\"white\",\"landcolor\":\"#E5ECF6\",\"subunitcolor\":\"white\",\"showland\":true,\"showlakes\":true,\"lakecolor\":\"white\"},\"title\":{\"x\":0.05},\"mapbox\":{\"style\":\"light\"}}},\"xaxis\":{\"anchor\":\"y\",\"domain\":[0.0,1.0],\"title\":{\"text\":\"Tempo de espera\"}},\"yaxis\":{\"anchor\":\"x\",\"domain\":[0.0,1.0],\"title\":{\"text\":\"count\"}},\"legend\":{\"tracegroupgap\":0},\"margin\":{\"t\":60},\"barmode\":\"relative\"},                        {\"responsive\": true}                    ).then(function(){\n",
              "                            \n",
              "var gd = document.getElementById('ead87e07-6fa8-4c50-a44c-c145f7ed8b4e');\n",
              "var x = new MutationObserver(function (mutations, observer) {{\n",
              "        var display = window.getComputedStyle(gd).display;\n",
              "        if (!display || display === 'none') {{\n",
              "            console.log([gd, 'removed!']);\n",
              "            Plotly.purge(gd);\n",
              "            observer.disconnect();\n",
              "        }}\n",
              "}});\n",
              "\n",
              "// Listen for the removal of the full notebook cells\n",
              "var notebookContainer = gd.closest('#notebook-container');\n",
              "if (notebookContainer) {{\n",
              "    x.observe(notebookContainer, {childList: true});\n",
              "}}\n",
              "\n",
              "// Listen for the clearing of the current output cell\n",
              "var outputEl = gd.closest('.output');\n",
              "if (outputEl) {{\n",
              "    x.observe(outputEl, {childList: true});\n",
              "}}\n",
              "\n",
              "                        })                };                            </script>        </div>\n",
              "</body>\n",
              "</html>"
            ]
          },
          "metadata": {}
        }
      ]
    },
    {
      "cell_type": "markdown",
      "source": [
        "##### Clientes no sistema"
      ],
      "metadata": {
        "id": "Pk0VQLjeGnCN"
      }
    },
    {
      "cell_type": "code",
      "source": [
        "print(f'Intervalo de confiança: {intervalo_confianca(clientes_sistema)}')\n",
        "print(f'Média: {np.mean(clientes_sistema)}\\n')\n",
        "\n",
        "plotar_histograma(clientes_sistema, 'Clientes no sistema')"
      ],
      "metadata": {
        "colab": {
          "base_uri": "https://localhost:8080/",
          "height": 594
        },
        "outputId": "797cd4f0-2b0b-4d95-b71f-4460f84c59b8",
        "id": "NgS2J_0IGnCO"
      },
      "execution_count": 63,
      "outputs": [
        {
          "output_type": "stream",
          "name": "stdout",
          "text": [
            "Intervalo de confiança: (0.6634894231405919, 0.8403685515518251)\n",
            "Média: 0.7519289873462085\n",
            "\n"
          ]
        },
        {
          "output_type": "display_data",
          "data": {
            "text/html": [
              "<html>\n",
              "<head><meta charset=\"utf-8\" /></head>\n",
              "<body>\n",
              "    <div>            <script src=\"https://cdnjs.cloudflare.com/ajax/libs/mathjax/2.7.5/MathJax.js?config=TeX-AMS-MML_SVG\"></script><script type=\"text/javascript\">if (window.MathJax && window.MathJax.Hub && window.MathJax.Hub.Config) {window.MathJax.Hub.Config({SVG: {font: \"STIX-Web\"}});}</script>                <script type=\"text/javascript\">window.PlotlyConfig = {MathJaxConfig: 'local'};</script>\n",
              "        <script src=\"https://cdn.plot.ly/plotly-2.18.2.min.js\"></script>                <div id=\"a00c9701-c3e1-47a6-8404-b665071fb3e4\" class=\"plotly-graph-div\" style=\"height:525px; width:100%;\"></div>            <script type=\"text/javascript\">                                    window.PLOTLYENV=window.PLOTLYENV || {};                                    if (document.getElementById(\"a00c9701-c3e1-47a6-8404-b665071fb3e4\")) {                    Plotly.newPlot(                        \"a00c9701-c3e1-47a6-8404-b665071fb3e4\",                        [{\"alignmentgroup\":\"True\",\"bingroup\":\"x\",\"hovertemplate\":\"Clientes no sistema=%{x}<br>count=%{y}<extra></extra>\",\"legendgroup\":\"\",\"marker\":{\"color\":\"#636efa\",\"pattern\":{\"shape\":\"\"}},\"name\":\"\",\"offsetgroup\":\"\",\"orientation\":\"v\",\"showlegend\":false,\"x\":[0.7735093933939045,0.7275885182066272,0.7141601941635669,0.7454159429969022,0.7659791907271875,0.790438486456729,0.7116409140530034,0.7429185389045643,0.7751404635169711,0.6989330856088676,0.7105985308172521,0.8484100375814718,0.7545364007292306,0.7945281204594202,0.7281938259668803,0.8432751326854756,0.7794878802436822,0.6858752538745478,0.7156567700841816,0.7285229057256347,0.6931520877406568,0.7557475275880687,0.760413740042039,0.6559440247457484,0.8085610171241765,0.723331105524481,0.7110243313261118,0.7775523889780102,0.7859414345596385,0.7967496988578643,0.753159441782945,0.720773277079072,0.7050443095870578,0.7806940166133192,0.6719168410358903,0.6978796234699575,0.758663097101285,0.8771500187041962,0.7628736365892667,0.7761197505522855,0.7534188057015107,0.8066930877367248,0.7928808177858306,0.8214409009970077,0.7328697298410471,0.7617818404764374,0.745656059812588,0.710881146164737,0.7193365666202052,0.7855873998979993,0.6755257067097552,0.7404277545658228,0.7014740063647378,0.720813418545833,0.6984476559823383,0.7348069609561589,0.7265031000269062,0.7565269249653449,0.817617829870087,0.7764825943596345,0.8134683733751854,0.7383102642175611,0.783289612019495,0.7657904275192026,0.7839826872737707,0.7443138771310754,0.7878506553247945,0.7646675143418546,0.6973088522194493,0.8134460570222612,0.7424827279395869,0.7145493057522123,0.7833727652478752,0.7566365762376926,0.7903068903162235,0.7412925285905299,0.6587169689149379,0.7515611578421326,0.8659847559237664,0.7937460823952774,0.7322764539446641,0.7126571396607578,0.7690749308296936,0.6974022595777266,0.8027451052092063,0.7504684058083853,0.7298119532734512,0.7899639906304311,0.7698205081847959,0.6971461567314502,0.7383835901493815,0.7138300624363578,0.7567287077184304,0.7497310001504646,0.7413696829569191,0.8110353752374555,0.7887473861159378,0.7754694759851009,0.7592247197203938,0.8405292183213983,0.7682329367229805,0.6853832009314454,0.7299254267655177,0.7903526506249101,0.8730817209819438,0.7471838678498084,0.7688142031890209,0.7595061139072898,0.7335129667451112,0.7314026727422003,0.6465205193539514,0.7300549158428913,0.7740250701448,0.7401209707116314,0.6845590998805844,0.7719927194819891,0.7604191297708714,0.7639142292647262,0.7652854564553984,0.742761558449921,0.7207650609521008,0.8305422783957723,0.741046462058721,0.750774721810524,0.6948828134752253,0.7433820061049744,0.7767376585095849,0.772003122600879,0.7683302194644032,0.7694566654512849,0.714118771200258,0.7744665232948017,0.743025715899888,0.7452992037008517,0.7199955297785373,0.7585200831060259,0.7353785852964945,0.7110555143479199,0.7011656176911167,0.7390141738892879,0.8064630036028786,0.7009215050659142,0.6940886010551436,0.77142889964812,0.8076508253148977,0.7756347661462202,0.7344328758909202,0.822982445634742,0.7238184033591265,0.8270517078055672,0.8481294177877418,0.7095801279428773,0.8006279780103471,0.7052536351059537,0.7058768438894507,0.6964690518986159,0.7425285262578211,0.6846950333979858,0.6822045444304051,0.7761064275700306,0.8071514174104775,0.7510834685536493,0.8213842114510368,0.6657602723135404,0.7707202848119649,0.6756380387916495,0.7200975806563722,0.7202858519644261,0.7719208912199175,0.7549315183557161,0.7241897452851811,0.8391820908065578,0.8156315349565291,0.7874577711649814,0.7966874622970394,0.743553012228803,0.7404711538936426,0.7096205354820918,0.753356749683807,0.7183185727178935,0.8387480443445277,0.7701791956801765,0.8067972586217383,0.6678622102900869,0.6776850805161916,0.8132382416634983,0.712800159653563,0.71229887343221,0.7150455102780684,0.6972093837093297,0.7419030221073475,0.7793252442186969,0.6880764655350041,0.8336825363232004,0.7523396135175697,0.73599410916077,0.6841073653389181,0.7395639410121412,0.810783998023456,0.7153909012808519,0.7263549699456812,0.7326441832076054,0.7780724112834315,0.7026554360106452,0.7617793623922844,0.6619828891099849,0.7593585522708015,0.8103452015742881,0.7837207145943181,0.7652490573922951,0.8068798098956103,0.7697884714503281,0.7577459783203969,0.7730251966452812,0.8079125039021408,0.7250360617989294,0.7242735178178972,0.8071084231670173,0.7047134528755061,0.7932564750814188,0.7236904657950671,0.6988130700099684,0.788409455565547,0.7209165846045299,0.8032189698027372,0.7416553326247473,0.7722457220837453,0.6651753094300348,0.7498495202530442,0.6865498320590837,0.7577218032039239,0.687929533540751,0.7880604678909624,0.741690359004686,0.7563047406137422,0.7871251415922976,0.7808537868197416,0.7869468896980959,0.7705083571433494,0.6902679618633071,0.6485681581366668,0.7250413804695054,0.7802991678218905,0.7447345970754768,0.7338912512420477,0.8082623495238513,0.7420662060895402,0.8057246060195954,0.7281383717505119,0.7039157763382241,0.8374756300716866,0.7425608441952282,0.8473237018754339,0.8424724344110457,0.7037439918644334,0.7643566948714279,0.8086303650038184,0.7411468201436404,0.721001724019847,0.7719552934080185,0.7560646867826868,0.8047269751089808,0.7632603750101623,0.752152788815616,0.8313427235417237,0.7610189733733667,0.6785291259602548,0.7177481334591838,0.7965477112491605,0.6898825216930922,0.8055350368362243,0.7314025441905668,0.701873611646897,0.7640773872990259,0.8082517303967431,0.7233845382084463,0.7728764238365956,0.6904161363958232,0.7009369783654693,0.7296067294163832,0.7329954775244701,0.7810349063634705,0.7405908377303533,0.7589736023330634,0.7014529193011184,0.7351203748007411,0.718190942584196,0.7461300150097494,0.8207398339175654,0.8171442664667731,0.7560621125992152,0.7616928280411341,0.8986163441149484,0.7512504239664798,0.7229996397152325,0.7139857058581038,0.6802455231160819,0.7118100261794582,0.7520890280071969,0.7691953677404836],\"xaxis\":\"x\",\"yaxis\":\"y\",\"type\":\"histogram\"}],                        {\"template\":{\"data\":{\"histogram2dcontour\":[{\"type\":\"histogram2dcontour\",\"colorbar\":{\"outlinewidth\":0,\"ticks\":\"\"},\"colorscale\":[[0.0,\"#0d0887\"],[0.1111111111111111,\"#46039f\"],[0.2222222222222222,\"#7201a8\"],[0.3333333333333333,\"#9c179e\"],[0.4444444444444444,\"#bd3786\"],[0.5555555555555556,\"#d8576b\"],[0.6666666666666666,\"#ed7953\"],[0.7777777777777778,\"#fb9f3a\"],[0.8888888888888888,\"#fdca26\"],[1.0,\"#f0f921\"]]}],\"choropleth\":[{\"type\":\"choropleth\",\"colorbar\":{\"outlinewidth\":0,\"ticks\":\"\"}}],\"histogram2d\":[{\"type\":\"histogram2d\",\"colorbar\":{\"outlinewidth\":0,\"ticks\":\"\"},\"colorscale\":[[0.0,\"#0d0887\"],[0.1111111111111111,\"#46039f\"],[0.2222222222222222,\"#7201a8\"],[0.3333333333333333,\"#9c179e\"],[0.4444444444444444,\"#bd3786\"],[0.5555555555555556,\"#d8576b\"],[0.6666666666666666,\"#ed7953\"],[0.7777777777777778,\"#fb9f3a\"],[0.8888888888888888,\"#fdca26\"],[1.0,\"#f0f921\"]]}],\"heatmap\":[{\"type\":\"heatmap\",\"colorbar\":{\"outlinewidth\":0,\"ticks\":\"\"},\"colorscale\":[[0.0,\"#0d0887\"],[0.1111111111111111,\"#46039f\"],[0.2222222222222222,\"#7201a8\"],[0.3333333333333333,\"#9c179e\"],[0.4444444444444444,\"#bd3786\"],[0.5555555555555556,\"#d8576b\"],[0.6666666666666666,\"#ed7953\"],[0.7777777777777778,\"#fb9f3a\"],[0.8888888888888888,\"#fdca26\"],[1.0,\"#f0f921\"]]}],\"heatmapgl\":[{\"type\":\"heatmapgl\",\"colorbar\":{\"outlinewidth\":0,\"ticks\":\"\"},\"colorscale\":[[0.0,\"#0d0887\"],[0.1111111111111111,\"#46039f\"],[0.2222222222222222,\"#7201a8\"],[0.3333333333333333,\"#9c179e\"],[0.4444444444444444,\"#bd3786\"],[0.5555555555555556,\"#d8576b\"],[0.6666666666666666,\"#ed7953\"],[0.7777777777777778,\"#fb9f3a\"],[0.8888888888888888,\"#fdca26\"],[1.0,\"#f0f921\"]]}],\"contourcarpet\":[{\"type\":\"contourcarpet\",\"colorbar\":{\"outlinewidth\":0,\"ticks\":\"\"}}],\"contour\":[{\"type\":\"contour\",\"colorbar\":{\"outlinewidth\":0,\"ticks\":\"\"},\"colorscale\":[[0.0,\"#0d0887\"],[0.1111111111111111,\"#46039f\"],[0.2222222222222222,\"#7201a8\"],[0.3333333333333333,\"#9c179e\"],[0.4444444444444444,\"#bd3786\"],[0.5555555555555556,\"#d8576b\"],[0.6666666666666666,\"#ed7953\"],[0.7777777777777778,\"#fb9f3a\"],[0.8888888888888888,\"#fdca26\"],[1.0,\"#f0f921\"]]}],\"surface\":[{\"type\":\"surface\",\"colorbar\":{\"outlinewidth\":0,\"ticks\":\"\"},\"colorscale\":[[0.0,\"#0d0887\"],[0.1111111111111111,\"#46039f\"],[0.2222222222222222,\"#7201a8\"],[0.3333333333333333,\"#9c179e\"],[0.4444444444444444,\"#bd3786\"],[0.5555555555555556,\"#d8576b\"],[0.6666666666666666,\"#ed7953\"],[0.7777777777777778,\"#fb9f3a\"],[0.8888888888888888,\"#fdca26\"],[1.0,\"#f0f921\"]]}],\"mesh3d\":[{\"type\":\"mesh3d\",\"colorbar\":{\"outlinewidth\":0,\"ticks\":\"\"}}],\"scatter\":[{\"fillpattern\":{\"fillmode\":\"overlay\",\"size\":10,\"solidity\":0.2},\"type\":\"scatter\"}],\"parcoords\":[{\"type\":\"parcoords\",\"line\":{\"colorbar\":{\"outlinewidth\":0,\"ticks\":\"\"}}}],\"scatterpolargl\":[{\"type\":\"scatterpolargl\",\"marker\":{\"colorbar\":{\"outlinewidth\":0,\"ticks\":\"\"}}}],\"bar\":[{\"error_x\":{\"color\":\"#2a3f5f\"},\"error_y\":{\"color\":\"#2a3f5f\"},\"marker\":{\"line\":{\"color\":\"#E5ECF6\",\"width\":0.5},\"pattern\":{\"fillmode\":\"overlay\",\"size\":10,\"solidity\":0.2}},\"type\":\"bar\"}],\"scattergeo\":[{\"type\":\"scattergeo\",\"marker\":{\"colorbar\":{\"outlinewidth\":0,\"ticks\":\"\"}}}],\"scatterpolar\":[{\"type\":\"scatterpolar\",\"marker\":{\"colorbar\":{\"outlinewidth\":0,\"ticks\":\"\"}}}],\"histogram\":[{\"marker\":{\"pattern\":{\"fillmode\":\"overlay\",\"size\":10,\"solidity\":0.2}},\"type\":\"histogram\"}],\"scattergl\":[{\"type\":\"scattergl\",\"marker\":{\"colorbar\":{\"outlinewidth\":0,\"ticks\":\"\"}}}],\"scatter3d\":[{\"type\":\"scatter3d\",\"line\":{\"colorbar\":{\"outlinewidth\":0,\"ticks\":\"\"}},\"marker\":{\"colorbar\":{\"outlinewidth\":0,\"ticks\":\"\"}}}],\"scattermapbox\":[{\"type\":\"scattermapbox\",\"marker\":{\"colorbar\":{\"outlinewidth\":0,\"ticks\":\"\"}}}],\"scatterternary\":[{\"type\":\"scatterternary\",\"marker\":{\"colorbar\":{\"outlinewidth\":0,\"ticks\":\"\"}}}],\"scattercarpet\":[{\"type\":\"scattercarpet\",\"marker\":{\"colorbar\":{\"outlinewidth\":0,\"ticks\":\"\"}}}],\"carpet\":[{\"aaxis\":{\"endlinecolor\":\"#2a3f5f\",\"gridcolor\":\"white\",\"linecolor\":\"white\",\"minorgridcolor\":\"white\",\"startlinecolor\":\"#2a3f5f\"},\"baxis\":{\"endlinecolor\":\"#2a3f5f\",\"gridcolor\":\"white\",\"linecolor\":\"white\",\"minorgridcolor\":\"white\",\"startlinecolor\":\"#2a3f5f\"},\"type\":\"carpet\"}],\"table\":[{\"cells\":{\"fill\":{\"color\":\"#EBF0F8\"},\"line\":{\"color\":\"white\"}},\"header\":{\"fill\":{\"color\":\"#C8D4E3\"},\"line\":{\"color\":\"white\"}},\"type\":\"table\"}],\"barpolar\":[{\"marker\":{\"line\":{\"color\":\"#E5ECF6\",\"width\":0.5},\"pattern\":{\"fillmode\":\"overlay\",\"size\":10,\"solidity\":0.2}},\"type\":\"barpolar\"}],\"pie\":[{\"automargin\":true,\"type\":\"pie\"}]},\"layout\":{\"autotypenumbers\":\"strict\",\"colorway\":[\"#636efa\",\"#EF553B\",\"#00cc96\",\"#ab63fa\",\"#FFA15A\",\"#19d3f3\",\"#FF6692\",\"#B6E880\",\"#FF97FF\",\"#FECB52\"],\"font\":{\"color\":\"#2a3f5f\"},\"hovermode\":\"closest\",\"hoverlabel\":{\"align\":\"left\"},\"paper_bgcolor\":\"white\",\"plot_bgcolor\":\"#E5ECF6\",\"polar\":{\"bgcolor\":\"#E5ECF6\",\"angularaxis\":{\"gridcolor\":\"white\",\"linecolor\":\"white\",\"ticks\":\"\"},\"radialaxis\":{\"gridcolor\":\"white\",\"linecolor\":\"white\",\"ticks\":\"\"}},\"ternary\":{\"bgcolor\":\"#E5ECF6\",\"aaxis\":{\"gridcolor\":\"white\",\"linecolor\":\"white\",\"ticks\":\"\"},\"baxis\":{\"gridcolor\":\"white\",\"linecolor\":\"white\",\"ticks\":\"\"},\"caxis\":{\"gridcolor\":\"white\",\"linecolor\":\"white\",\"ticks\":\"\"}},\"coloraxis\":{\"colorbar\":{\"outlinewidth\":0,\"ticks\":\"\"}},\"colorscale\":{\"sequential\":[[0.0,\"#0d0887\"],[0.1111111111111111,\"#46039f\"],[0.2222222222222222,\"#7201a8\"],[0.3333333333333333,\"#9c179e\"],[0.4444444444444444,\"#bd3786\"],[0.5555555555555556,\"#d8576b\"],[0.6666666666666666,\"#ed7953\"],[0.7777777777777778,\"#fb9f3a\"],[0.8888888888888888,\"#fdca26\"],[1.0,\"#f0f921\"]],\"sequentialminus\":[[0.0,\"#0d0887\"],[0.1111111111111111,\"#46039f\"],[0.2222222222222222,\"#7201a8\"],[0.3333333333333333,\"#9c179e\"],[0.4444444444444444,\"#bd3786\"],[0.5555555555555556,\"#d8576b\"],[0.6666666666666666,\"#ed7953\"],[0.7777777777777778,\"#fb9f3a\"],[0.8888888888888888,\"#fdca26\"],[1.0,\"#f0f921\"]],\"diverging\":[[0,\"#8e0152\"],[0.1,\"#c51b7d\"],[0.2,\"#de77ae\"],[0.3,\"#f1b6da\"],[0.4,\"#fde0ef\"],[0.5,\"#f7f7f7\"],[0.6,\"#e6f5d0\"],[0.7,\"#b8e186\"],[0.8,\"#7fbc41\"],[0.9,\"#4d9221\"],[1,\"#276419\"]]},\"xaxis\":{\"gridcolor\":\"white\",\"linecolor\":\"white\",\"ticks\":\"\",\"title\":{\"standoff\":15},\"zerolinecolor\":\"white\",\"automargin\":true,\"zerolinewidth\":2},\"yaxis\":{\"gridcolor\":\"white\",\"linecolor\":\"white\",\"ticks\":\"\",\"title\":{\"standoff\":15},\"zerolinecolor\":\"white\",\"automargin\":true,\"zerolinewidth\":2},\"scene\":{\"xaxis\":{\"backgroundcolor\":\"#E5ECF6\",\"gridcolor\":\"white\",\"linecolor\":\"white\",\"showbackground\":true,\"ticks\":\"\",\"zerolinecolor\":\"white\",\"gridwidth\":2},\"yaxis\":{\"backgroundcolor\":\"#E5ECF6\",\"gridcolor\":\"white\",\"linecolor\":\"white\",\"showbackground\":true,\"ticks\":\"\",\"zerolinecolor\":\"white\",\"gridwidth\":2},\"zaxis\":{\"backgroundcolor\":\"#E5ECF6\",\"gridcolor\":\"white\",\"linecolor\":\"white\",\"showbackground\":true,\"ticks\":\"\",\"zerolinecolor\":\"white\",\"gridwidth\":2}},\"shapedefaults\":{\"line\":{\"color\":\"#2a3f5f\"}},\"annotationdefaults\":{\"arrowcolor\":\"#2a3f5f\",\"arrowhead\":0,\"arrowwidth\":1},\"geo\":{\"bgcolor\":\"white\",\"landcolor\":\"#E5ECF6\",\"subunitcolor\":\"white\",\"showland\":true,\"showlakes\":true,\"lakecolor\":\"white\"},\"title\":{\"x\":0.05},\"mapbox\":{\"style\":\"light\"}}},\"xaxis\":{\"anchor\":\"y\",\"domain\":[0.0,1.0],\"title\":{\"text\":\"Clientes no sistema\"}},\"yaxis\":{\"anchor\":\"x\",\"domain\":[0.0,1.0],\"title\":{\"text\":\"count\"}},\"legend\":{\"tracegroupgap\":0},\"margin\":{\"t\":60},\"barmode\":\"relative\"},                        {\"responsive\": true}                    ).then(function(){\n",
              "                            \n",
              "var gd = document.getElementById('a00c9701-c3e1-47a6-8404-b665071fb3e4');\n",
              "var x = new MutationObserver(function (mutations, observer) {{\n",
              "        var display = window.getComputedStyle(gd).display;\n",
              "        if (!display || display === 'none') {{\n",
              "            console.log([gd, 'removed!']);\n",
              "            Plotly.purge(gd);\n",
              "            observer.disconnect();\n",
              "        }}\n",
              "}});\n",
              "\n",
              "// Listen for the removal of the full notebook cells\n",
              "var notebookContainer = gd.closest('#notebook-container');\n",
              "if (notebookContainer) {{\n",
              "    x.observe(notebookContainer, {childList: true});\n",
              "}}\n",
              "\n",
              "// Listen for the clearing of the current output cell\n",
              "var outputEl = gd.closest('.output');\n",
              "if (outputEl) {{\n",
              "    x.observe(outputEl, {childList: true});\n",
              "}}\n",
              "\n",
              "                        })                };                            </script>        </div>\n",
              "</body>\n",
              "</html>"
            ]
          },
          "metadata": {}
        }
      ]
    }
  ]
}